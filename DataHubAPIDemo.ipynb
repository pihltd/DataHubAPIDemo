{
 "cells": [
  {
   "cell_type": "markdown",
   "id": "203a18cb-807b-426a-8dff-14463bef2438",
   "metadata": {},
   "source": [
    "<a id='top'></a>\n",
    "# Quick Links\n",
    "[Introduction](#introduction)\\\n",
    "[Prerequisites](#prerequisites)\\\n",
    "[Security Note](#securitynote)\\\n",
    "[Step 1: Understanding the Landscape](#step1)\\\n",
    "[Step 2: Creating a new submission or using an existing submission](#step2)\\\n",
    "- [Creating a new submission](#newSubmission)\n",
    "- [Step 2b: Working with existing submissions](#existingSubmission)\n",
    "\n",
    "[Step 3: Uploading Submission templates](#step3)\\\n",
    "[Step 4: Running the Validations](#step4)\\\n",
    "[Step 5: Submitting, Canceling, or Withdrawing](#step5)\n"
   ]
  },
  {
   "cell_type": "markdown",
   "id": "796de190-d963-41ec-8378-a9b6cec3b4b1",
   "metadata": {},
   "source": [
    "<a id='introduction'></a>\n",
    "# Introduction\n",
    "This notebook walks through the basics of using the Data Hub API to work on, validate, and submit your data.  These APIs are designed to allow users to perform all the actions that can be done via the [Data Submission Portal](https://hub.datacommons.cancer.gov/) from a notebook or script.  The intent is to allow submitters to operate directly from their own environments if they so choose rathar than work through the graphical submission interface.\n",
    "\n",
    "There are a few prerequists that you have to meet before you can use this API:\n",
    "\n",
    "<a id='prerequisites'></a>\n",
    "# Prerequisites\n",
    "\n",
    "\n",
    "## GraphQL\n",
    "The Data Hub API uses [GraphQL](https://graphql.org/) and a good understanding of how to use GraphQL is required.  Since GraphQL can be complex, a tutorial is beyond the scope of this document, however the [GraphQL Documentation](https://graphql.org/learn/) can be very useful.\n",
    "\n",
    "## Login.gov account\n",
    "Use of Data Hub in general requires that a user have an account registered with [Login.gov](https://www.login.gov/) (NIH users can use their NIH account and PIV card).  Note that a Login.gov account is distinct from an eRA Commons identity that is frequently used at NIH.  They are not the same thing.\n",
    "\n",
    "## Approved Submission\n",
    "You must recieve approval to submit data to CRDC prior to using the Data Hub APIs.  If you need approval, please read and follow the [Submissions Request Instructions](https://datacommons.cancer.gov/submit).  Instructions for using the graphical data submission process are on the same page.\n",
    "\n",
    "## An API Token\n",
    "If you are an approved submitter with a Login.gov or NIH account, you can generate an API token from the graphical interface.  Log into the system, then click on your user name and select the **API Token** menu option.  This will bring up a dialog box that allows you to create an API token and copy it to your clipboard.  There are two things to note about API tokens\n",
    "- The token is tied to your user identity and can be used on any submission that you're approved to work on.\n",
    "- You can have only one token at a time.  Generating a new token will revoke the previous token.\n"
   ]
  },
  {
   "cell_type": "code",
   "execution_count": 53,
   "id": "43cfe135-2892-4989-a90b-3560512ccebf",
   "metadata": {},
   "outputs": [],
   "source": [
    "import requests\n",
    "import os"
   ]
  },
  {
   "cell_type": "markdown",
   "id": "1f1454ae-b351-44ac-82c0-de89600e4094",
   "metadata": {},
   "source": [
    "The imports below are just used for display purposes in this notebook, they're not required to interact with the Data Hub API"
   ]
  },
  {
   "cell_type": "code",
   "execution_count": 54,
   "id": "f39da5f4-1a17-4ee8-bf6b-1925631ef734",
   "metadata": {},
   "outputs": [],
   "source": [
    "import pandas as pd\n",
    "from IPython.display import display, Markdown, Latex"
   ]
  },
  {
   "cell_type": "markdown",
   "id": "55273b38-3bf5-4e05-b23b-39045ef76dd2",
   "metadata": {},
   "source": [
    "API Endpoints"
   ]
  },
  {
   "cell_type": "code",
   "execution_count": 55,
   "id": "10985da9-52b1-4baf-ad46-a939aaadb38a",
   "metadata": {},
   "outputs": [],
   "source": [
    "prod = 'https://hub.datacommons.cancer.gov/api/graphql'\n",
    "#Note that use of Dev2 is for example purposes only.  Unless you are an approved tester, you should be using the production URL\n",
    "dev2 = 'https://hub-dev2.datacommons.cancer.gov/api/graphql'"
   ]
  },
  {
   "cell_type": "markdown",
   "id": "a47e1712-b36a-445f-9822-3946d9e5626f",
   "metadata": {},
   "source": [
    "<a id='securityNote'></a>\n",
    "# Security Note\n",
    "It is ***highly*** recommended that you keep your API token secure and not include it in any code.  While there are many ways to do this, for the purposes of this notebook it's been set in an environment variable names \"DEV2API\"."
   ]
  },
  {
   "cell_type": "code",
   "execution_count": 56,
   "id": "e17c3d7d-24a3-403d-874b-8bfaea3f2387",
   "metadata": {},
   "outputs": [],
   "source": [
    "dev2APIKey = os.environ['DEV2API']"
   ]
  },
  {
   "cell_type": "code",
   "execution_count": 61,
   "id": "01bdddfe-4b2f-4bb8-8762-2bc9411054fe",
   "metadata": {
    "jupyter": {
     "source_hidden": true
    }
   },
   "outputs": [],
   "source": [
    "def apiQuery(url, query, variables):\n",
    "    token = os.environ['DEV2API']\n",
    "    headers = {\"Authorization\": f\"Bearer {token}\"}\n",
    "    try:\n",
    "        if variables is None:\n",
    "            result = requests.post(url = url, headers = headers, json={\"query\": query})\n",
    "        else:\n",
    "            result = requests.post(url = url, headers = headers, json = {\"query\":query, \"variables\":variables})\n",
    "        if result.status_code == 200:\n",
    "            return result.json()\n",
    "        else:\n",
    "            print(f\"Error: {result.status_code}\")\n",
    "            return result.content\n",
    "    except requests.exceptions.HTTPError as e:\n",
    "        return(f\"HTTP Error: {e}\")"
   ]
  },
  {
   "cell_type": "markdown",
   "id": "e929828f-fef2-4fb7-8ffd-6e3ec7d73d2b",
   "metadata": {},
   "source": [
    "<a id='step1'></a>\n",
    "# Step 1: Understanding the landscape\n",
    "Let's assume that this is our first submission using the API, so what we need to do is list the studies that my orgnaization is approved for so I can submit to the correct study. That's done with the *listApprovedStudiesOfMyOrganization* query"
   ]
  },
  {
   "cell_type": "code",
   "execution_count": 62,
   "id": "d6802fa1-7b99-4ce3-a867-b0ad6b83b503",
   "metadata": {},
   "outputs": [],
   "source": [
    "org_query = \"\"\"\n",
    "{\n",
    "  listApprovedStudiesOfMyOrganization{\n",
    "    originalOrg\n",
    "    dbGaPID\n",
    "    studyAbbreviation\n",
    "    studyName\n",
    "    _id\n",
    "  }\n",
    "}\n",
    "\"\"\""
   ]
  },
  {
   "cell_type": "markdown",
   "id": "39d8036d-5474-4bbb-b2fc-1d4f91c63fad",
   "metadata": {},
   "source": [
    "Note that the actual results returned by this query will vary for each organization.  These are example results only and shouldn't be used."
   ]
  },
  {
   "cell_type": "code",
   "execution_count": 63,
   "id": "122289b5-c6c0-4a34-b865-a1fc82f57595",
   "metadata": {},
   "outputs": [],
   "source": [
    "org_res = apiQuery(dev2, org_query, None)"
   ]
  },
  {
   "cell_type": "code",
   "execution_count": 64,
   "id": "c0a11ef7-bd6d-4375-8188-ba5f75a37c22",
   "metadata": {},
   "outputs": [
    {
     "data": {
      "text/markdown": [
       "|    | originalOrg                                    | dbGaPID   | studyAbbreviation   | studyName                                                                                       | _id                                  |\n",
       "|---:|:-----------------------------------------------|:----------|:--------------------|:------------------------------------------------------------------------------------------------|:-------------------------------------|\n",
       "|  0 | Purdue Center for Cancer Research              |           | UBC01               | Antitumor Activity and Molecular Effects of Vemurafenib in Dogs with BRAF-mutant Bladder Cancer | b9e9ab79-d90b-4ec1-83b7-f83a5a75f5b5 |\n",
       "|  1 | Comparative Molecular Characterization Program |           | OSA01               | A Multi-Platform Sequencing Analysis of Canine Appendicular Osteosarcoma                        | e3feefe9-cc70-4ae0-be06-9df7f29d84e8 |\n",
       "|  2 | Comparative Molecular Characterization Program |           | TCL01               | Whole exome sequencing analysis of canine cancer cell lines                                     | 6c7fa436-efa3-42c6-af4c-7f5b70a1d35d |\n",
       "|  3 | NCI BBRB                                       |           | CMB                 | Cancer Moonshot Biobank                                                                         | 4c2b6522-20b8-4841-8c7a-318b325c99b4 |\n",
       "|  4 | CCDI                                           | phs003432 | TALLsc              | T-cell Acute Lymphoblastic Leukemia Single Cell RNA Sequencing and ATAC Sequencing              | 49a69fef-71f8-44e6-ad3b-f7a62d91e348 |"
      ],
      "text/plain": [
       "<IPython.core.display.Markdown object>"
      ]
     },
     "metadata": {},
     "output_type": "display_data"
    }
   ],
   "source": [
    "org_df = pd.DataFrame(org_res['data']['listApprovedStudiesOfMyOrganization'])\n",
    "display(Markdown(org_df.to_markdown()))"
   ]
  },
  {
   "cell_type": "markdown",
   "id": "f08abf99-9543-46ad-abfa-1cca90c88a1b",
   "metadata": {},
   "source": [
    "<a id='step2'></a>\n",
    "# Step 2:  Creating a new submission or using an existing submission\n",
    "The next step in the process is to either create a new submission or to use one of your existing submissions.  It is not necessary to create a new submission every time, if you have an existing submission that you need to continue working on, simply start using that submission. "
   ]
  },
  {
   "cell_type": "markdown",
   "id": "397c83f4-c77f-4951-833d-4053a422d08b",
   "metadata": {},
   "source": [
    "<a id='newSubmission'></a>\n",
    "## Step 2, Alternate 1: Creating a new submission\n",
    "For the purposes of this demonstration, we'll use the CCDI TALLsc study as the example.  In order to submit data you first step create a new submission within the study.  **Do not do this if you're continuing with an exsiting study**.\n",
    "\n",
    "From the data we obtained in the first query, we'll have to parse out the infrmiaton that's relevant to the CCDI TALLsc study.  We'll need these to construct the query that creates the new submission"
   ]
  },
  {
   "cell_type": "code",
   "execution_count": 65,
   "id": "c140b0b8-598a-4a00-999f-0750f52a9384",
   "metadata": {},
   "outputs": [],
   "source": [
    "for study in org_res['data']['listApprovedStudiesOfMyOrganization']:\n",
    "    if study['originalOrg'] == 'CCDI':\n",
    "        org = study['originalOrg']\n",
    "        dbgap = study['dbGaPID']\n",
    "        abbrev = study['studyAbbreviation']\n",
    "        name = study['studyName']\n",
    "        studyid = study['_id']\n",
    "\n",
    "dc = \"CDS\"\n",
    "name = \"Jupyter Demo 4\"\n",
    "intention = \"New/Update\"\n",
    "datatype = \"Metadata and Data Files\"\n"
   ]
  },
  {
   "cell_type": "markdown",
   "id": "b4fbfeb7-5de1-45ab-a692-5e44f83f5719",
   "metadata": {},
   "source": [
    "### createSubmissions mutation\n",
    "\n",
    "Creating submissions requires the use of a mutation that calls createSubmissions.  There are multiple required variables that have to be provided in a GraphQL compatible way:\n",
    "- studyID:  This is the Study ID that can be obtained from the graphical interface\n",
    "- dbGaPID: Obtained when registering the study at dbGaP.  This is required for all controlled access studies\n",
    "- dataCommons: This is the CRDC Data Commons the submissions will be deposited in\n",
    "- name: This can be anything that allows you to identify this specific submission\n",
    "- intention: Can be “New/Update” if you are adding information to the submission or  “Delete” if you are removing information from the submission\n",
    "- dataType: Can be either \"Metadata and Data Files\" or “Metadata Only”.  Which one is selected depends on whether or not data files will be included in the submission\n",
    "\n",
    "  This query will return the _id field which will be the newly created submission ID. It will also return a number of other fields that can be checked to make sure the submission was created properly."
   ]
  },
  {
   "cell_type": "code",
   "execution_count": 66,
   "id": "a68dec46-8ee1-4942-a7a3-8b3298acd530",
   "metadata": {},
   "outputs": [],
   "source": [
    "create_submission_query = \"\"\"\n",
    "mutation CreateNewSubmission(\n",
    "  $studyID: String!,\n",
    "  $dbGaPID: String!,\n",
    "  $dataCommons: String!,\n",
    "  $name: String!,\n",
    "  $intention:String!,\n",
    "  $dataType: String!,\n",
    "){\n",
    "  createSubmission(\n",
    "    studyID: $studyID,\n",
    "    dbGaPID: $dbGaPID,\n",
    "    dataCommons: $dataCommons,\n",
    "    name: $name,\n",
    "    intention: $intention,\n",
    "    dataType: $dataType\n",
    "  ){\n",
    "    _id\n",
    "    studyID\n",
    "    dbGaPID\n",
    "    dataCommons\n",
    "    name\n",
    "    intention\n",
    "    dataType\n",
    "    status\n",
    "  }\n",
    "}\"\"\""
   ]
  },
  {
   "cell_type": "code",
   "execution_count": 67,
   "id": "632a8907-6fa0-456d-878b-c01da43acd34",
   "metadata": {},
   "outputs": [],
   "source": [
    "variables = {\"studyID\":studyid, \"dbGaPID\":dbgap, \"dataCommons\":dc, \"name\":name, \"intention\":intention,\"dataType\":datatype}"
   ]
  },
  {
   "cell_type": "code",
   "execution_count": 68,
   "id": "5116aa6d-b0ca-43ef-bf1e-080cd35155f9",
   "metadata": {},
   "outputs": [],
   "source": [
    "create_res = apiQuery(dev2,create_submission_query, variables)"
   ]
  },
  {
   "cell_type": "markdown",
   "id": "4187daa2-dba6-4508-aee8-ae19ab831154",
   "metadata": {},
   "source": [
    "Parse out the submission ID since we'll need it later"
   ]
  },
  {
   "cell_type": "code",
   "execution_count": 69,
   "id": "0ecd2d52-cf09-4f92-9a6b-f128c5d58cef",
   "metadata": {},
   "outputs": [],
   "source": [
    "submissionid = create_res['data']['createSubmission'][\"_id\"]\n",
    "subname = create_res['data']['createSubmission']['name']"
   ]
  },
  {
   "cell_type": "markdown",
   "id": "261fc49a-6a3c-4f17-a7c3-78944ff3d79b",
   "metadata": {},
   "source": [
    "#### Side trip\n",
    "\n",
    "At this point if you go to the graphical interface you should see that a new submission has been created using the name provided in the query"
   ]
  },
  {
   "cell_type": "markdown",
   "id": "2320bc97-b1dd-4c20-8073-97f48a6c204c",
   "metadata": {},
   "source": [
    "<a id='existingSubmission'></a>\n",
    "### Step 2, Alternate 2: Working with existing submissions\n",
    "If you already have submissions in Data Hub that you've been working with, you can continue to work with them instead of creating a new submission.  To continue work on a submission, you will first have to identify the submissions using the *listSubmissions* query.\n",
    "\n",
    "The listSubmissions query requires that **status** be provided as a parameter.  The status can be one of:\n",
    "- All\n",
    "- New\n",
    "- In Progress\n",
    "- Submitted\n",
    "- Released\n",
    "- Completed\n",
    "- Archived\n",
    "- Canceled\n",
    "- Rejected\n",
    "- Withdrawn\n",
    "- Deleted\n",
    "\n",
    "Details about what each of these states means can be found in the Submission Documentation.  For most submitters, the important states are **New**, **In Progress**, and **Submitted** as those will be the states that allow work to be done on the submission.\n",
    "\n",
    "This allows for queries to bring back information about a specific state, but for the purposes of the demonstration, we'll use \"All\" to bring back everything.  We'll also return some additional information about each submission so we can identify the ones we want to work with.\n",
    "\n",
    "For long lists, the *listSubmissions* query also allows the list to be sorted in ascending or descending order with the **sortDirection** field, and to request a sorting order by field with the **orderBy** field.  Additional fields for this query can be found in the API documentation. "
   ]
  },
  {
   "cell_type": "code",
   "execution_count": 70,
   "id": "98a8e86c-bceb-4d81-b8cb-46822a5c0673",
   "metadata": {},
   "outputs": [],
   "source": [
    "list_sub_query = \"\"\"\n",
    "    query ListSubmissions($status:String!){\n",
    "          listSubmissions(status: $status){\n",
    "            submissions{\n",
    "              _id\n",
    "              name\n",
    "              status\n",
    "              studyAbbreviation\n",
    "              studyID\n",
    "            }\n",
    "          }\n",
    "    }\n",
    "\"\"\""
   ]
  },
  {
   "cell_type": "code",
   "execution_count": 71,
   "id": "a5287198-dd55-4c5a-8a64-85a1698f59ab",
   "metadata": {},
   "outputs": [],
   "source": [
    "statusvariables = {\"status\":\"All\"}"
   ]
  },
  {
   "cell_type": "code",
   "execution_count": 72,
   "id": "e16543c9-4044-4855-813c-4c824a3c60a2",
   "metadata": {},
   "outputs": [],
   "source": [
    "list_sub_res = apiQuery(dev2, list_sub_query, statusvariables)"
   ]
  },
  {
   "cell_type": "code",
   "execution_count": 73,
   "id": "7dee0bce-0a33-4443-af03-a2f0a7017554",
   "metadata": {},
   "outputs": [
    {
     "data": {
      "text/markdown": [
       "|    | _id                                  | name                           | status      | studyAbbreviation   | studyID                              |\n",
       "|---:|:-------------------------------------|:-------------------------------|:------------|:--------------------|:-------------------------------------|\n",
       "|  0 | 8a71b104-43d2-44d7-9693-d61f93e190a0 | Jupyter Demo 4                 | New         | TALLsc              | 49a69fef-71f8-44e6-ad3b-f7a62d91e348 |\n",
       "|  1 | 162fb91f-75a8-4994-86e7-8df189ebc476 | Jupyter Demo 3                 | In Progress | TALLsc              | 49a69fef-71f8-44e6-ad3b-f7a62d91e348 |\n",
       "|  2 | f3eb4e0d-872c-4cbe-a758-0a2df9a1200d | Jupyter Demo 2                 | In Progress | TALLsc              | 49a69fef-71f8-44e6-ad3b-f7a62d91e348 |\n",
       "|  3 | 02862615-84b7-4815-becf-97a8593bf629 | Jupyter Demo 1                 | In Progress | TALLsc              | 49a69fef-71f8-44e6-ad3b-f7a62d91e348 |\n",
       "|  4 | eda77bf5-37cd-4f3b-822e-cbceb31fb05c | Demo create submission Jupyter | Canceled    | TALLsc              | 49a69fef-71f8-44e6-ad3b-f7a62d91e348 |\n",
       "|  5 | 04bd7dad-0859-49aa-8df1-5e6560e5482a | Demo create submission 1       | New         | TALLsc              | 49a69fef-71f8-44e6-ad3b-f7a62d91e348 |\n",
       "|  6 | d77df872-384f-493f-b18f-449ed6fa7fdb | Demo create submission Jupyter | In Progress | TALLsc              | 49a69fef-71f8-44e6-ad3b-f7a62d91e348 |\n",
       "|  7 | f41aea9c-bb76-4b48-8b53-27028317b434 | Demo create submission Jupyter | In Progress | TALLsc              | 49a69fef-71f8-44e6-ad3b-f7a62d91e348 |\n",
       "|  8 | 107ba083-f107-4a2f-a848-824bb8746a01 | Demo create submission 1       | New         | TALLsc              | 49a69fef-71f8-44e6-ad3b-f7a62d91e348 |\n",
       "|  9 | 181432cd-e915-46ff-b62e-1f167abb7e2f | API Demonstration              | New         | CMB                 | 4c2b6522-20b8-4841-8c7a-318b325c99b4 |"
      ],
      "text/plain": [
       "<IPython.core.display.Markdown object>"
      ]
     },
     "metadata": {},
     "output_type": "display_data"
    }
   ],
   "source": [
    "submissions_df = pd.DataFrame(list_sub_res['data']['listSubmissions']['submissions'])\n",
    "display(Markdown(submissions_df.to_markdown()))"
   ]
  },
  {
   "cell_type": "markdown",
   "id": "43777d02-2c97-4622-9aa5-89403e2d3a83",
   "metadata": {},
   "source": [
    "Since we're working with the TALLsc study, we need to work on one of the submissions related to that"
   ]
  },
  {
   "cell_type": "code",
   "execution_count": 74,
   "id": "e7dcfe5c-5a17-450b-9219-8bc28722ec39",
   "metadata": {},
   "outputs": [],
   "source": [
    "for submission in list_sub_res['data']['listSubmissions']['submissions']:\n",
    "    if submission['name'] == 'Jupyter Demo 4':\n",
    "        submissionid = submission['_id']"
   ]
  },
  {
   "cell_type": "markdown",
   "id": "8dc62457-e4c8-4975-beef-1ff40e5d4b1b",
   "metadata": {},
   "source": [
    "<a id='step3'></a>\n",
    "# Step 3: Uploading Submission templates\n",
    "Once the study is created, the next step is to start uploading metadata submission templates.  There are two ways of accomplishing this upload:\n",
    "1) Using the Upload CLI Tool : This is generally the easiest method and can be used to upload both the metadata templates and the data files.  The use of the Uploader CLI Tool [is documented elsewhere](https://github.com/CBIIT/crdc-datahub-cli-uploader/tree/master)\n",
    "2) Using the API : If you wish to provide metadata only via a program, the API can be used as will be demonstrated in this notebook.\n",
    "\n",
    "**Note that while the API can be used to upload metadata, the actual data files MUST be uploaded with the Upload CLI Tool**"
   ]
  },
  {
   "cell_type": "markdown",
   "id": "d9a2c287-4c8c-4b92-b173-26d908437777",
   "metadata": {},
   "source": [
    "## Collecting information about the metadata files to upload\n",
    "Let's set up the list of metadata files we want to upload.  This will be a list of **FileInput** objects.  A FileInput object consiste of a dictionary with *fileName* and *size* as the keys.\n",
    "\n",
    "- fileName: The full path file name.  Note that this will vary depending on the operating system being used.\n",
    "- size: The size of the file in bytes\n",
    "\n",
    "The last field required for the query is the *type* field is either \"metadata\" or \"data file\" and \"data file\" isn't allowed ouside of the Upload CLI Tool, we'll set it to \"metadata\""
   ]
  },
  {
   "cell_type": "code",
   "execution_count": 75,
   "id": "8f23cf46-d7a6-4951-bc1a-a3991f8ea10d",
   "metadata": {},
   "outputs": [],
   "source": [
    "metadatafiles = [{\"fileName\":\"PDXNet_participant.tsv\", \"size\": 2106 }, {\"fileName\":\"PDXNet_sample.tsv\", \"size\":12416},\n",
    "                 {\"fileName\":\"PDXNet_diagnosis.tsv\", \"size\":6439},{\"fileName\":\"PDXNet_file.tsv\", \"size\":76940},\n",
    "                 {\"fileName\":\"PDXNet_genomic_info.tsv\", \"size\":283886},{\"fileName\":\"PDXNet_image.tsv\", \"size\":3671},\n",
    "                {\"fileName\":\"PDXNet_program.tsv\", \"size\":307},{\"fileName\":\"PDXNet_study.tsv\", \"size\":2171},\n",
    "                 {\"fileName\":\"PDXNet_treatment.tsv\", \"size\":112}]\n",
    "type = \"metadata\""
   ]
  },
  {
   "cell_type": "markdown",
   "id": "1a1a4aef-cbd1-4613-9e78-1841188869bb",
   "metadata": {},
   "source": [
    "## The createBatch mutation\n",
    "Now that we've got credentials and the list of files, we create a \"batch\", which is the term for one or more files uploaded at the same time.  We do this by using the createBatch muations as shown below.  \n",
    "\n",
    "One of the critical pieces of information returned is the signed URL that is used to actually trasfer the files to Data Hub."
   ]
  },
  {
   "cell_type": "code",
   "execution_count": 76,
   "id": "50e5d7eb-87c2-4793-9700-f7782c277b69",
   "metadata": {},
   "outputs": [],
   "source": [
    "create_batch_query = \"\"\"\n",
    "mutation CreateBatch(\n",
    "    $submissionID: ID!, \n",
    "    $type: String!, \n",
    "    $file: [FileInput]) {\n",
    "  createBatch(submissionID: $submissionID, type: $type, files: $file) {\n",
    "    _id\n",
    "    files {\n",
    "      fileName\n",
    "      signedURL\n",
    "    }\n",
    "  }\n",
    "}\n",
    "\"\"\""
   ]
  },
  {
   "cell_type": "code",
   "execution_count": 77,
   "id": "3d5977e3-b5a8-4d6f-bee7-a6d226a81f19",
   "metadata": {},
   "outputs": [],
   "source": [
    "create_batch_variables = {\"submissionID\":submissionid, \"type\":type, \"file\":metadatafiles}"
   ]
  },
  {
   "cell_type": "code",
   "execution_count": 78,
   "id": "83bb786e-cb8f-432c-9d45-594f52dceeac",
   "metadata": {},
   "outputs": [],
   "source": [
    "create_batch_res = apiQuery(dev2, create_batch_query, create_batch_variables)"
   ]
  },
  {
   "cell_type": "markdown",
   "id": "e27465b4-0281-499d-a473-2e9f3e6b4c39",
   "metadata": {},
   "source": [
    "The results from this mutation will have the signed URLs (again, for security reasons it's a good idea to not print them out).  We'll use these to upload the files.  Make sure that you're using the correct signed URL for each file.  We'll also need the batch ID, so that shoudl be parsed out."
   ]
  },
  {
   "cell_type": "code",
   "execution_count": 79,
   "id": "7cc4a8ac-4d6e-43ce-8b3c-7a26f054e1a3",
   "metadata": {},
   "outputs": [],
   "source": [
    "batchid = create_batch_res['data']['createBatch']['_id']"
   ]
  },
  {
   "cell_type": "code",
   "execution_count": 80,
   "id": "7725b40a-32fb-4d85-8902-fd2f7d7a9f37",
   "metadata": {},
   "outputs": [],
   "source": [
    "def awsFileUpload(file, signedurl, datadir):\n",
    "    #https://docs.aws.amazon.com/AmazonS3/latest/userguide/example_s3_Scenario_PresignedUrl_section.html\n",
    "    headers = {'Content-Type': 'text/tab-separated-values'}\n",
    "    try:\n",
    "        fullFileName = datadir+file\n",
    "        with open(fullFileName, 'rb') as f:\n",
    "            filetext = f.read()\n",
    "        res = requests.put(signedurl, data=filetext, headers=headers)\n",
    "        if res.status_code == 200:\n",
    "            return res\n",
    "        else:\n",
    "            print(f\"Error: {res.status_code}\")\n",
    "            return res.content\n",
    "    except requests.exceptions.HTTPError as e:\n",
    "        return(f\"HTTP error: {e}\")"
   ]
  },
  {
   "cell_type": "code",
   "execution_count": 86,
   "id": "bfe57e96-17eb-4bac-95c5-0a103b4dd97e",
   "metadata": {},
   "outputs": [],
   "source": [
    "def processFilesForUpload(metadatafiles, datadir,batch_creation_results):\n",
    "    #This takes the dictionary of metadata files and loops through, submitting each file using awsFileUpload.  Returns an UploadResult object\n",
    "    file_upload_result = []\n",
    "    for entry in metadatafiles:\n",
    "        for metadatafile in create_batch_res['data']['createBatch']['files']:\n",
    "            if entry['fileName'] == metadatafile['fileName']:\n",
    "                metares = awsFileUpload(metadatafile['fileName'], metadatafile['signedURL'], datadir)\n",
    "                if metares.status_code == 200:\n",
    "                    succeeded = True\n",
    "                else:\n",
    "                    succeeded = False\n",
    "                file_upload_result.append({'fileName':entry['fileName'], 'succeeded': succeeded, 'errors':[], 'skipped':False})\n",
    "    return file_upload_result"
   ]
  },
  {
   "cell_type": "markdown",
   "id": "6243889d-4a1a-49af-8efd-29bd482c267d",
   "metadata": {},
   "source": [
    "As each file is uploaded, an *UploadResult* object has to be constructed.  This will get used in the batch update step."
   ]
  },
  {
   "cell_type": "code",
   "execution_count": 87,
   "id": "3a94a2d6-1a06-43a9-9dd2-0c0c6b9f6cd2",
   "metadata": {},
   "outputs": [],
   "source": [
    "datadir = \"/home/pihl/testdata/\"\n",
    "file_upload_result = processFilesForUpload(metadatafiles, datadir, create_batch_res)"
   ]
  },
  {
   "cell_type": "markdown",
   "id": "a860953a-2e91-4435-b593-fd90b50dc7bc",
   "metadata": {},
   "source": [
    "After files have been uploaded, the next step is to update the batch by calling the *updateBatch* mutation"
   ]
  },
  {
   "cell_type": "code",
   "execution_count": 90,
   "id": "1ee67d21-c4d6-453e-be84-a84a37cdce58",
   "metadata": {},
   "outputs": [],
   "source": [
    "update_batch_query = \"\"\"\n",
    "    mutation UpdateBatch(\n",
    "        $batchID: ID!\n",
    "        $files: [UploadResult]\n",
    "        ){\n",
    "        updateBatch(batchID:$batchID, files:$files){\n",
    "            _id\n",
    "            displayID\n",
    "        }\n",
    "        }\n",
    "\"\"\""
   ]
  },
  {
   "cell_type": "code",
   "execution_count": 91,
   "id": "d830262f-92c4-421b-b8c0-a99f800164fd",
   "metadata": {},
   "outputs": [],
   "source": [
    "update_variables = {'batchID':batchid, 'files':file_upload_result}"
   ]
  },
  {
   "cell_type": "code",
   "execution_count": 92,
   "id": "3bebc154-061a-42aa-948e-11a4fc2b38e9",
   "metadata": {},
   "outputs": [],
   "source": [
    "update_res = apiQuery(dev2, update_batch_query, update_variables)"
   ]
  },
  {
   "cell_type": "markdown",
   "id": "d2fcc0fe-3ae1-48dd-9849-75eb619d3441",
   "metadata": {},
   "source": [
    "#### Side Trip\n",
    "If you log into the Data Hub interface, at this point you should see the files that have been uploaded along with any errors that were detected."
   ]
  },
  {
   "cell_type": "markdown",
   "id": "e3b8a2a1-b5e4-4f23-9fe1-0c4f72c420e8",
   "metadata": {},
   "source": [
    "### Checking the upload\n",
    "Before going any further, it's a good idea to make sure that the upload went as expected.  The best way to check for upload errors is wtih the *listBatches* query.  Since this returns all of the batches in a submission, you'll have to do a little parsing to see if there are any issues with the batch you just sent."
   ]
  },
  {
   "cell_type": "code",
   "execution_count": 93,
   "id": "13365683-4395-427b-a341-6d24b1aa7a6f",
   "metadata": {},
   "outputs": [],
   "source": [
    "list_batches_query = \"\"\"\n",
    "query ListBatches($submissionID: ID!) {\n",
    "  listBatches(submissionID: $submissionID) {\n",
    "    batches {\n",
    "      _id\n",
    "      submissionID\n",
    "      displayID\n",
    "      type\n",
    "      fileCount\n",
    "      files {\n",
    "        fileName\n",
    "      }\n",
    "      status\n",
    "      errors\n",
    "    }\n",
    "  }\n",
    "}\n",
    "\"\"\""
   ]
  },
  {
   "cell_type": "code",
   "execution_count": 94,
   "id": "3db57f7e-5e0a-4d77-848e-ec867303541e",
   "metadata": {},
   "outputs": [],
   "source": [
    "batches_variables = {'submissionID':submissionid}"
   ]
  },
  {
   "cell_type": "code",
   "execution_count": 95,
   "id": "d0891979-ebf6-40ae-882d-3adf2a9c753a",
   "metadata": {},
   "outputs": [],
   "source": [
    "batch_error_res = apiQuery(dev2, list_batches_query, batches_variables)"
   ]
  },
  {
   "cell_type": "code",
   "execution_count": 96,
   "id": "9d3bb947-0f47-40ba-b5b3-d3f3528f0a6e",
   "metadata": {},
   "outputs": [
    {
     "data": {
      "text/markdown": [
       "|    | _id                                  | submissionID                         |   displayID | type     |   fileCount | files                                                                                                                                                                                                                                                                                                                                     | status   | errors                                                                                                                                                                                                                                                                                                      |\n",
       "|---:|:-------------------------------------|:-------------------------------------|------------:|:---------|------------:|:------------------------------------------------------------------------------------------------------------------------------------------------------------------------------------------------------------------------------------------------------------------------------------------------------------------------------------------|:---------|:------------------------------------------------------------------------------------------------------------------------------------------------------------------------------------------------------------------------------------------------------------------------------------------------------------|\n",
       "|  0 | d3405c53-ff40-4ece-b1dd-a36f9f9e7a29 | 8a71b104-43d2-44d7-9693-d61f93e190a0 |           1 | metadata |           9 | [{'fileName': 'PDXNet_participant.tsv'}, {'fileName': 'PDXNet_sample.tsv'}, {'fileName': 'PDXNet_diagnosis.tsv'}, {'fileName': 'PDXNet_file.tsv'}, {'fileName': 'PDXNet_genomic_info.tsv'}, {'fileName': 'PDXNet_image.tsv'}, {'fileName': 'PDXNet_program.tsv'}, {'fileName': 'PDXNet_study.tsv'}, {'fileName': 'PDXNet_treatment.tsv'}] | Failed   | ['“PDXNet_sample.tsv: 38”: conflict data detected: “sample_type”: \"RNA\".', '“PDXNet_sample.tsv: 74”: conflict data detected: “sample_type”: \"DNA\".', '“PDXNet_image.tsv:2”:  Key property “study_link_id” value is required.', '“PDXNet_treatment.tsv:2”:  Key property “treatment_id” value is required.'] |"
      ],
      "text/plain": [
       "<IPython.core.display.Markdown object>"
      ]
     },
     "metadata": {},
     "output_type": "display_data"
    }
   ],
   "source": [
    "batch_df = pd.DataFrame(batch_error_res['data']['listBatches']['batches'])\n",
    "display(Markdown(batch_df.to_markdown()))"
   ]
  },
  {
   "cell_type": "markdown",
   "id": "880d32d2-1e45-4403-bd55-942fe7a51225",
   "metadata": {},
   "source": [
    "Clearly there were some issues associated with the sample file that have to be corrected.  From the error message, it looks like there is a conflict in that the same sample has different sample_types.  While this almost certainly reflects how the project views its samples, it does create a situation that Data Hub cannot resolve, so sample identifiers have to be unique.  Additionally, there is a missing study_link_id and treatment_id that need to be supplied.  Additional information about what is required in those fields can be found in the repositories data dictionary, available at the Data Model Viewer in Data Hub."
   ]
  },
  {
   "cell_type": "markdown",
   "id": "0e1fd473-0f5e-4540-afd2-f2bc04f94c70",
   "metadata": {},
   "source": [
    "So to correct the previous errors, we'll make new sample IDs that are unique, and we'll drop the image and treatment files for this demonstration."
   ]
  },
  {
   "cell_type": "code",
   "execution_count": 97,
   "id": "7e4d1319-1b7b-48c9-8239-4f85786450f2",
   "metadata": {},
   "outputs": [],
   "source": [
    "new_metadatafiles = [{\"fileName\":\"PDXNet_participant.tsv\", \"size\": 2106 }, {\"fileName\":\"PDXNet_sampleFIXED.tsv\", \"size\":12881},\n",
    "                 {\"fileName\":\"PDXNet_diagnosis.tsv\", \"size\":6439},{\"fileName\":\"PDXNet_file.tsv\", \"size\":76940},\n",
    "                 {\"fileName\":\"PDXNet_genomic_info.tsv\", \"size\":283886},{\"fileName\":\"PDXNet_program.tsv\", \"size\":307},\n",
    "                 {\"fileName\":\"PDXNet_study.tsv\", \"size\":2171}]"
   ]
  },
  {
   "cell_type": "markdown",
   "id": "31d950ad-8a03-4ca8-9e59-cd7b5416379c",
   "metadata": {},
   "source": [
    "With that in place, we'll go through the same steps to add the files:"
   ]
  },
  {
   "cell_type": "markdown",
   "id": "6dbfa812-4cf7-4e17-a80f-a27d68ed199e",
   "metadata": {},
   "source": [
    "1. Create a new bactch and grab the batch ID"
   ]
  },
  {
   "cell_type": "code",
   "execution_count": 98,
   "id": "32e05f87-d574-48f8-bf78-d6bd87edc56c",
   "metadata": {},
   "outputs": [],
   "source": [
    "create_batch_variables = {\"submissionID\":submissionid, \"type\":type, \"file\":new_metadatafiles}\n",
    "create_batch_res = apiQuery(dev2, create_batch_query, create_batch_variables)\n",
    "batchid = create_batch_res['data']['createBatch']['_id']"
   ]
  },
  {
   "cell_type": "markdown",
   "id": "265cd1b5-0ecc-424a-8d39-447a4430406b",
   "metadata": {},
   "source": [
    "2. Upload the files using the pre-signed URLs"
   ]
  },
  {
   "cell_type": "code",
   "execution_count": 99,
   "id": "500d2528-f48c-4d02-8b0c-2195a5ab8867",
   "metadata": {},
   "outputs": [],
   "source": [
    "file_upload_result = processFilesForUpload(new_metadatafiles, datadir, create_batch_res)"
   ]
  },
  {
   "cell_type": "markdown",
   "id": "06efe76c-2548-49aa-83ab-5d5bdabf2c2d",
   "metadata": {},
   "source": [
    "3. Update the batch"
   ]
  },
  {
   "cell_type": "code",
   "execution_count": 101,
   "id": "2064b476-6243-405d-8e56-c108de3710d7",
   "metadata": {},
   "outputs": [],
   "source": [
    "update_variables = {'batchID':batchid, 'files':file_upload_result}\n",
    "update_res = apiQuery(dev2, update_batch_query, update_variables)"
   ]
  },
  {
   "cell_type": "markdown",
   "id": "0850d755-7964-4260-9372-da242b392e73",
   "metadata": {},
   "source": [
    "And lastly, check the batch for errors"
   ]
  },
  {
   "cell_type": "code",
   "execution_count": 102,
   "id": "7eff2291-109f-4c26-9805-7cfef36cda08",
   "metadata": {},
   "outputs": [
    {
     "data": {
      "text/markdown": [
       "|    | _id                                  | submissionID                         |   displayID | type     |   fileCount | files                                                                                                                                                                                                                                                                                                                                     | status    | errors                                                                                                                                                                                                                                                                                                      |\n",
       "|---:|:-------------------------------------|:-------------------------------------|------------:|:---------|------------:|:------------------------------------------------------------------------------------------------------------------------------------------------------------------------------------------------------------------------------------------------------------------------------------------------------------------------------------------|:----------|:------------------------------------------------------------------------------------------------------------------------------------------------------------------------------------------------------------------------------------------------------------------------------------------------------------|\n",
       "|  0 | a0722e54-cf25-4627-ac34-1a05a7149b88 | 8a71b104-43d2-44d7-9693-d61f93e190a0 |           2 | metadata |           7 | [{'fileName': 'PDXNet_participant.tsv'}, {'fileName': 'PDXNet_sampleFIXED.tsv'}, {'fileName': 'PDXNet_diagnosis.tsv'}, {'fileName': 'PDXNet_file.tsv'}, {'fileName': 'PDXNet_genomic_info.tsv'}, {'fileName': 'PDXNet_program.tsv'}, {'fileName': 'PDXNet_study.tsv'}]                                                                    | Uploading |                                                                                                                                                                                                                                                                                                             |\n",
       "|  1 | d3405c53-ff40-4ece-b1dd-a36f9f9e7a29 | 8a71b104-43d2-44d7-9693-d61f93e190a0 |           1 | metadata |           9 | [{'fileName': 'PDXNet_participant.tsv'}, {'fileName': 'PDXNet_sample.tsv'}, {'fileName': 'PDXNet_diagnosis.tsv'}, {'fileName': 'PDXNet_file.tsv'}, {'fileName': 'PDXNet_genomic_info.tsv'}, {'fileName': 'PDXNet_image.tsv'}, {'fileName': 'PDXNet_program.tsv'}, {'fileName': 'PDXNet_study.tsv'}, {'fileName': 'PDXNet_treatment.tsv'}] | Failed    | ['“PDXNet_sample.tsv: 38”: conflict data detected: “sample_type”: \"RNA\".', '“PDXNet_sample.tsv: 74”: conflict data detected: “sample_type”: \"DNA\".', '“PDXNet_image.tsv:2”:  Key property “study_link_id” value is required.', '“PDXNet_treatment.tsv:2”:  Key property “treatment_id” value is required.'] |"
      ],
      "text/plain": [
       "<IPython.core.display.Markdown object>"
      ]
     },
     "metadata": {},
     "output_type": "display_data"
    }
   ],
   "source": [
    "batch_error_res = apiQuery(dev2, list_batches_query, batches_variables)\n",
    "batch_df = pd.DataFrame(batch_error_res['data']['listBatches']['batches'])\n",
    "display(Markdown(batch_df.to_markdown()))"
   ]
  },
  {
   "cell_type": "markdown",
   "id": "f4b8a405-a7f9-4311-b5c7-5a68e89d46c6",
   "metadata": {},
   "source": [
    "#### Side Trip\n",
    "\n",
    "If you log into the Submission Portal, you should see that all files have uploaded and passed."
   ]
  },
  {
   "cell_type": "markdown",
   "id": "d793dc93-8aa6-4a78-82da-d3ee9ee011d6",
   "metadata": {},
   "source": [
    "<a id='step4'></a>\n",
    "# Step 4: Running the Validations\n",
    "Once you have either metadata templates or data files successfully uploaded to the Submission Portal, you can start running validations.  Validations can be run at any time, you don't have to complete all uploads before running validations.  However, if you do run validations on incomplete submissions, you will see errors relating to the missing information.\n",
    "\n",
    "It's important to remember that validations are run against everything in the submission, not just against a specific file, or subset of files."
   ]
  },
  {
   "cell_type": "markdown",
   "id": "9e376a4b-8dbd-4ada-8c2d-71d7ab311fd5",
   "metadata": {},
   "source": [
    "Validations are triggered by running the *validateSubmission* mutation which requires the submission ID and the types of validation to run., and the scope of the validation.\n",
    "#### Types\n",
    "- \"metadata\" - run the validations for the uploaded metadata files\n",
    "- \"data file\" - run the validations for the uploaded data files\n",
    "- Note that both values can be used in a single validation run\n",
    "\n",
    "#### Scope\n",
    "- \"New\" - Run validations only against newly uploaded files.  Any files that have previously been validated will be ignored.\n",
    "- \"All\" - Run validations against all the files, both new and previously uploaded."
   ]
  },
  {
   "cell_type": "code",
   "execution_count": 103,
   "id": "2a4d180e-c83f-4864-8a27-079e09643a23",
   "metadata": {},
   "outputs": [],
   "source": [
    "run_validation_query = \"\"\"\n",
    "    mutation ValidateSubmission(\n",
    "  $id: ID!\n",
    "  $types: [String]\n",
    "  $scope: String\n",
    "){\n",
    "  validateSubmission(_id: $id, types: $types, scope: $scope){\n",
    "    success\n",
    "    message\n",
    "  }\n",
    "}\n",
    "\"\"\""
   ]
  },
  {
   "cell_type": "code",
   "execution_count": 104,
   "id": "9742f109-f386-4cfc-b211-31a6049bc674",
   "metadata": {},
   "outputs": [],
   "source": [
    "validation_variables = {\"id\":submissionid, \"types\":\"metadata\", \"scope\":\"All\"}"
   ]
  },
  {
   "cell_type": "code",
   "execution_count": 105,
   "id": "cccfee52-da30-4564-be97-82979fda3195",
   "metadata": {},
   "outputs": [
    {
     "name": "stdout",
     "output_type": "stream",
     "text": [
      "True\n"
     ]
    }
   ],
   "source": [
    "validation_res = apiQuery(dev2, run_validation_query, validation_variables)\n",
    "print(validation_res['data']['validateSubmission']['success'])"
   ]
  },
  {
   "cell_type": "markdown",
   "id": "1e645280-f0d0-4290-982b-b1c591f22ae1",
   "metadata": {},
   "source": [
    "While this validation came back as successful, not all validations will.  For unsuccessful validations, a listing of the errors encountered are retrieved by running the *submissionQCResults* query which will return all of the validation errors found in a submission.  There are a number of different options that can be provided as part of this query that can fine tune the results, be sure to consult the API Documentation for a listing of all the parameters.\n",
    "\n",
    "For the purposes of this example, we'll just use two:  **_id** which is the submission ID and will pull back all results for the entire submission, and **severties** which can be set to one of the following:\n",
    "\n",
    "- **All** - Return all errors regardless of severity\n",
    "- **Error** - Return only Error level errors.  These will block submission of the study.\n",
    "- **Warnings** - Return only Warning level errors.  Warnings will not block submission, however they should be corrected if possible."
   ]
  },
  {
   "cell_type": "code",
   "execution_count": 106,
   "id": "633953b9-a31a-41b7-aa06-c642f98ea5b9",
   "metadata": {},
   "outputs": [],
   "source": [
    "qc_check_query = \"\"\"\n",
    "query GetQCResults(\n",
    "  $id: ID!\n",
    "  $severities: String\n",
    "){\n",
    "  submissionQCResults(_id:$id, severities:$severities){\n",
    "    results{\n",
    "      submissionID\n",
    "      severity\n",
    "      type\n",
    "      errors{\n",
    "        title\n",
    "        description\n",
    "      }\n",
    "      warnings{\n",
    "        title\n",
    "        description\n",
    "      }\n",
    "    }\n",
    "  }\n",
    "}\n",
    "\"\"\""
   ]
  },
  {
   "cell_type": "code",
   "execution_count": 107,
   "id": "9d78b640-c070-46d1-94c9-16f0e031cae4",
   "metadata": {},
   "outputs": [],
   "source": [
    "qc_variables = {\"id\":submissionid, \"severities\":\"All\"}"
   ]
  },
  {
   "cell_type": "code",
   "execution_count": 108,
   "id": "669ac53d-50cb-496a-9411-38e57cf4b323",
   "metadata": {},
   "outputs": [],
   "source": [
    "qc_res = apiQuery(dev2, qc_check_query, qc_variables)"
   ]
  },
  {
   "cell_type": "code",
   "execution_count": 109,
   "id": "a22e3a73-e012-49be-904d-0428053ea321",
   "metadata": {},
   "outputs": [
    {
     "data": {
      "text/markdown": [
       "|    | submissionID                         | severity   | type   | errors                                                                                                                                                                                                                                                                                                                                                                                                     | warnings                                                                                                                                                       |\n",
       "|---:|:-------------------------------------|:-----------|:-------|:-----------------------------------------------------------------------------------------------------------------------------------------------------------------------------------------------------------------------------------------------------------------------------------------------------------------------------------------------------------------------------------------------------------|:---------------------------------------------------------------------------------------------------------------------------------------------------------------|\n",
       "|  0 | 8a71b104-43d2-44d7-9693-d61f93e190a0 | Error      | study  | [{'title': 'Missing required property', 'description': '[PDXNet_study.tsv: line 2] Required property \"file_types_and_format\" is empty.'}, {'title': 'Missing required property', 'description': '[PDXNet_study.tsv: line 2] Required property \"study_access\" is empty.'}, {'title': 'Missing required property', 'description': '[PDXNet_study.tsv: line 2] Required property \"study_version\" is empty.'}] | [{'title': 'Updating existing data', 'description': '[PDXNet_study.tsv: line 2] “study”: {“phs_accession\": “phs002479\"} already exists and will be updated.'}] |\n",
       "|  1 | 8a71b104-43d2-44d7-9693-d61f93e190a0 | Error      | sample | [{'title': 'Value not permitted', 'description': '[PDXNet_sampleFIXED.tsv: line 93] \"DNA\" is not a permissible value for property “sample_type”.'}]                                                                                                                                                                                                                                                        | []                                                                                                                                                             |\n",
       "|  2 | 8a71b104-43d2-44d7-9693-d61f93e190a0 | Error      | sample | [{'title': 'Value not permitted', 'description': '[PDXNet_sampleFIXED.tsv: line 133] \"DNA\" is not a permissible value for property “sample_type”.'}]                                                                                                                                                                                                                                                       | []                                                                                                                                                             |\n",
       "|  3 | 8a71b104-43d2-44d7-9693-d61f93e190a0 | Error      | sample | [{'title': 'Value not permitted', 'description': '[PDXNet_sampleFIXED.tsv: line 142] \"DNA\" is not a permissible value for property “sample_type”.'}]                                                                                                                                                                                                                                                       | []                                                                                                                                                             |\n",
       "|  4 | 8a71b104-43d2-44d7-9693-d61f93e190a0 | Error      | sample | [{'title': 'Value not permitted', 'description': '[PDXNet_sampleFIXED.tsv: line 139] \"RNA\" is not a permissible value for property “sample_type”.'}]                                                                                                                                                                                                                                                       | []                                                                                                                                                             |\n",
       "|  5 | 8a71b104-43d2-44d7-9693-d61f93e190a0 | Error      | sample | [{'title': 'Value not permitted', 'description': '[PDXNet_sampleFIXED.tsv: line 141] \"DNA\" is not a permissible value for property “sample_type”.'}]                                                                                                                                                                                                                                                       | []                                                                                                                                                             |\n",
       "|  6 | 8a71b104-43d2-44d7-9693-d61f93e190a0 | Error      | sample | [{'title': 'Value not permitted', 'description': '[PDXNet_sampleFIXED.tsv: line 138] \"RNA\" is not a permissible value for property “sample_type”.'}]                                                                                                                                                                                                                                                       | []                                                                                                                                                             |\n",
       "|  7 | 8a71b104-43d2-44d7-9693-d61f93e190a0 | Error      | sample | [{'title': 'Value not permitted', 'description': '[PDXNet_sampleFIXED.tsv: line 92] \"DNA\" is not a permissible value for property “sample_type”.'}]                                                                                                                                                                                                                                                        | []                                                                                                                                                             |\n",
       "|  8 | 8a71b104-43d2-44d7-9693-d61f93e190a0 | Error      | sample | [{'title': 'Value not permitted', 'description': '[PDXNet_sampleFIXED.tsv: line 56] \"RNA\" is not a permissible value for property “sample_type”.'}]                                                                                                                                                                                                                                                        | []                                                                                                                                                             |\n",
       "|  9 | 8a71b104-43d2-44d7-9693-d61f93e190a0 | Error      | sample | [{'title': 'Value not permitted', 'description': '[PDXNet_sampleFIXED.tsv: line 9] \"DNA\" is not a permissible value for property “sample_type”.'}]                                                                                                                                                                                                                                                         | []                                                                                                                                                             |"
      ],
      "text/plain": [
       "<IPython.core.display.Markdown object>"
      ]
     },
     "metadata": {},
     "output_type": "display_data"
    }
   ],
   "source": [
    "qc_df = pd.DataFrame(qc_res['data']['submissionQCResults']['results'])\n",
    "display(Markdown(qc_df.to_markdown()))"
   ]
  },
  {
   "cell_type": "markdown",
   "id": "e3f0c04e-52ab-4498-b3d3-2bda2de22203",
   "metadata": {},
   "source": [
    "#### Side Trip\n",
    "As with other results, these can also be viewed in the Data Submission portal graphical interface."
   ]
  },
  {
   "cell_type": "markdown",
   "id": "8600c9a7-e073-4e64-badd-53b2341442e3",
   "metadata": {},
   "source": [
    "<a href='step5'></a>\n",
    "# Step 5:  Submitting, Canceling, or Withdrawing\n",
    "The last step of this process techincally is the submission to CRDC, however the same query is used to cancel a submission, or to withdraw a submission.  Let's quickly go over what each of those means:\n",
    "\n",
    "- **Submit** : Once all of the validation errors have been corrected and the validation results are either completely clean or only have warnings, the study is ready to be submitted.  Sending a submit request will hand over control of the files and data to the CRDC Data Team for final checks.  Note that once you submit a submission, no further edits are allowed.\n",
    "  \n",
    "- **Cancel** : If you want to abandon a submission *that has not been submitted to CRDC yet*, sending a cancellation request will lock the submission and withdraw it from the system.  Work is not allowed on cancelled submissions so be sure that you want to cancel before you issue this query.\n",
    "  \n",
    "- **Withdraw** : Withdraw is similar to cancel only it is used on submissions that have already been submitted to CRDC.  So if you find that a study was submitted before everythign was complete, or if other errors are found that necessitate stopping the submission process, sending a **Warning** query will prevent the release of the submitted data to the data commons and return the submission to it's previous, unsubmitted, state.\n",
    "\n"
   ]
  },
  {
   "cell_type": "code",
   "execution_count": 110,
   "id": "f1aff9fb-342e-4474-9407-98d413863ffe",
   "metadata": {},
   "outputs": [],
   "source": [
    "submission_query = \"\"\"\n",
    "mutation Submit(\n",
    "    $id: ID!\n",
    "    $action: String!\n",
    "    $comment: String\n",
    "){\n",
    "    submissionAction(submissionID: $id, action: $action, comment: $comment){\n",
    "        name\n",
    "        submitterID\n",
    "        submitterName\n",
    "        dataCommons\n",
    "        modelVersion\n",
    "        studyAbbreviation\n",
    "        dbGaPID\n",
    "        status\n",
    "    }\n",
    "}\n",
    "\"\"\""
   ]
  },
  {
   "cell_type": "code",
   "execution_count": 111,
   "id": "62e52e92-09f4-4cab-b479-790bcf00aaf2",
   "metadata": {},
   "outputs": [],
   "source": [
    "submission_variables = {\"id\":submissionid, \"action\": \"Submit\", \"comment\":\"Example submission\"}"
   ]
  },
  {
   "cell_type": "code",
   "execution_count": 112,
   "id": "a322e4ba-6750-4fcc-974b-7a1ea2d57607",
   "metadata": {},
   "outputs": [],
   "source": [
    "submission_res = apiQuery(dev2, submission_query, submission_variables)"
   ]
  },
  {
   "cell_type": "markdown",
   "id": "64beff91-859a-4653-8511-c09f2e8a90e5",
   "metadata": {},
   "source": [
    "# Conclusions\n",
    "<a id='conclusions'></a>\n",
    "At this point, we've walked through the basics of creating a submission, uploading, validating, and submitting (or not) data using the API system.  There are more queries and mutations that are available to provide additional information and capabilties for integrating with your systems and we suggest reading the API documentation for further details.  And while this example is in Python, any language that can use GraphQL queries is suitable for interaction with this API.\n",
    "\n",
    "If you have any questions about using this API, please contact the CRDC Helpdesk."
   ]
  },
  {
   "cell_type": "code",
   "execution_count": null,
   "id": "da8a6c08-46f4-4d10-81f2-c4317f2323ee",
   "metadata": {},
   "outputs": [],
   "source": []
  }
 ],
 "metadata": {
  "kernelspec": {
   "display_name": "Python 3 (ipykernel)",
   "language": "python",
   "name": "python3"
  },
  "language_info": {
   "codemirror_mode": {
    "name": "ipython",
    "version": 3
   },
   "file_extension": ".py",
   "mimetype": "text/x-python",
   "name": "python",
   "nbconvert_exporter": "python",
   "pygments_lexer": "ipython3",
   "version": "3.10.12"
  }
 },
 "nbformat": 4,
 "nbformat_minor": 5
}
