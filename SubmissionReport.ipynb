{
 "cells": [
  {
   "cell_type": "markdown",
   "id": "33b406fb-07e0-480e-843b-398d40d1d3d1",
   "metadata": {},
   "source": [
    "While the Data Submission Portal API is primarily intended to support submissions, the information that can be returned is also useful for reporting an monitoring a collection of submissions.  In the notebooks, we'll demonstrate some of the queries that can provide information useful for seeing the current state of your submisison universe"
   ]
  },
  {
   "cell_type": "code",
   "execution_count": 38,
   "id": "9c1f8110-a3d3-4eb0-a783-399f4e2a7e93",
   "metadata": {},
   "outputs": [],
   "source": [
    "import requests\n",
    "import pandas as pd\n",
    "import os\n",
    "from IPython.display import display, Markdown, Latex"
   ]
  },
  {
   "cell_type": "code",
   "execution_count": 3,
   "id": "4d1061d8-eefe-4ff8-a81d-918f9db4565b",
   "metadata": {},
   "outputs": [],
   "source": [
    "prod = 'https://hub.datacommons.cancer.gov/api/graphql'\n",
    "#Note that use of Dev2 is for example purposes only.  Unless you are an approved tester, you should be using the production URL\n",
    "dev2 = 'https://hub-dev2.datacommons.cancer.gov/api/graphql'"
   ]
  },
  {
   "cell_type": "code",
   "execution_count": 4,
   "id": "74d87a55-ce68-4e33-acbe-212db27b23f4",
   "metadata": {},
   "outputs": [],
   "source": [
    "def apiQuery(url, query, variables):\n",
    "    token = os.environ['DEV2API']\n",
    "    headers = {\"Authorization\": f\"Bearer {token}\"}\n",
    "    try:\n",
    "        if variables is None:\n",
    "            result = requests.post(url = url, headers = headers, json={\"query\": query})\n",
    "        else:\n",
    "            result = requests.post(url = url, headers = headers, json = {\"query\":query, \"variables\":variables})\n",
    "        if result.status_code == 200:\n",
    "            return result.json()\n",
    "        else:\n",
    "            print(f\"Error: {result.status_code}\")\n",
    "            return result.content\n",
    "    except requests.exceptions.HTTPError as e:\n",
    "        return(f\"HTTP Error: {e}\")"
   ]
  },
  {
   "cell_type": "markdown",
   "id": "083e56c7-1267-4986-9a76-d90b10a8683f",
   "metadata": {},
   "source": [
    "One potentially useful report would be a simple overview of all the studies your organization is working on.  This can be done with the *listApprovedStudiesOfMyOrganization* query."
   ]
  },
  {
   "cell_type": "code",
   "execution_count": 6,
   "id": "4d3ce52a-6b7e-4a16-8e8d-15d4a64c4df0",
   "metadata": {},
   "outputs": [],
   "source": [
    "study_query = \"\"\"\n",
    "{\n",
    "  listApprovedStudiesOfMyOrganization{\n",
    "    originalOrg\n",
    "    studyName\n",
    "    studyAbbreviation\n",
    "    dbGaPID\n",
    "    controlledAccess\n",
    "  }\n",
    "}\n",
    "\"\"\""
   ]
  },
  {
   "cell_type": "code",
   "execution_count": 7,
   "id": "68284fde-d250-44f8-8023-9eed555f2f28",
   "metadata": {},
   "outputs": [
    {
     "data": {
      "text/markdown": [
       "|    | originalOrg                                    | studyName                                                                                       | studyAbbreviation   | dbGaPID   | controlledAccess   |\n",
       "|---:|:-----------------------------------------------|:------------------------------------------------------------------------------------------------|:--------------------|:----------|:-------------------|\n",
       "|  0 | Purdue Center for Cancer Research              | Antitumor Activity and Molecular Effects of Vemurafenib in Dogs with BRAF-mutant Bladder Cancer | UBC01               |           | False              |\n",
       "|  1 | Comparative Molecular Characterization Program | A Multi-Platform Sequencing Analysis of Canine Appendicular Osteosarcoma                        | OSA01               |           | False              |\n",
       "|  2 | Comparative Molecular Characterization Program | Whole exome sequencing analysis of canine cancer cell lines                                     | TCL01               |           | False              |\n",
       "|  3 | NCI BBRB                                       | Cancer Moonshot Biobank                                                                         | CMB                 |           | False              |\n",
       "|  4 | CCDI                                           | T-cell Acute Lymphoblastic Leukemia Single Cell RNA Sequencing and ATAC Sequencing              | TALLsc              | phs003432 | True               |"
      ],
      "text/plain": [
       "<IPython.core.display.Markdown object>"
      ]
     },
     "metadata": {},
     "output_type": "display_data"
    }
   ],
   "source": [
    "studies_res = apiQuery(dev2,study_query,None)\n",
    "studies_df = pd.DataFrame(studies_res['data']['listApprovedStudiesOfMyOrganization'])\n",
    "display(Markdown(studies_df.to_markdown()))"
   ]
  },
  {
   "cell_type": "markdown",
   "id": "f308ed79-abc0-4b58-b49c-58ff075a2068",
   "metadata": {},
   "source": [
    "While this result provides a high-level overview, it doesn't really dig into the details of what's really going on.  To get to a more fine-grained look at the actual submissions, the *listSubmissions* query can delve into much detail. Note that the *listSubmissions* query requires the **status** parameter which can be one of the following:\n",
    "- All\n",
    "- New\n",
    "- In Progress\n",
    "- Submitted\n",
    "- Released\n",
    "- Completed\n",
    "- Archived\n",
    "- Canceled\n",
    "- Rejected\n",
    "- Withdrawn\n",
    "- Deleted\n",
    "Since we're reporting on the overall state of all submissions, we'll use **All** in the query."
   ]
  },
  {
   "cell_type": "code",
   "execution_count": 46,
   "id": "44caf8c5-068a-4113-8780-736c85593c2b",
   "metadata": {},
   "outputs": [],
   "source": [
    "listsubmissions_query = \"\"\"\n",
    "query ListSubmissions($status: String!){\n",
    "  listSubmissions(status: $status){\n",
    "    submissions{\n",
    "      name\n",
    "      submitterID\n",
    "      submitterName\n",
    "      studyAbbreviation\n",
    "      studyID\n",
    "      dbGaPID\n",
    "      createdAt\n",
    "      updatedAt\n",
    "      metadataValidationStatus\n",
    "      fileValidationStatus\n",
    "      status\n",
    "    }\n",
    "  }\n",
    "}\n",
    "\"\"\""
   ]
  },
  {
   "cell_type": "code",
   "execution_count": 47,
   "id": "9c51e8a2-35e7-411a-88ee-388953031bce",
   "metadata": {},
   "outputs": [],
   "source": [
    "submisisons_variable = {\"status\":\"All\"}"
   ]
  },
  {
   "cell_type": "code",
   "execution_count": 48,
   "id": "3f9653b5-247b-460b-ba48-4c6ac3866e3f",
   "metadata": {},
   "outputs": [
    {
     "data": {
      "text/markdown": [
       "|    | name                           | submitterID                          | submitterName          | studyAbbreviation   | studyID                              | dbGaPID   | createdAt                | updatedAt                | metadataValidationStatus   | fileValidationStatus   | status      |\n",
       "|---:|:-------------------------------|:-------------------------------------|:-----------------------|:--------------------|:-------------------------------------|:----------|:-------------------------|:-------------------------|:---------------------------|:-----------------------|:------------|\n",
       "|  0 | Jupyter Demo 4                 | 5fd61de6-4843-4a28-9478-dd070342de47 | todd.pihl              | TALLsc              | 49a69fef-71f8-44e6-ad3b-f7a62d91e348 | phs003432 | 2024-09-03T20:14:35.713Z | 2024-09-04T17:13:24.196Z | Error                      |                        | In Progress |\n",
       "|  1 | Jupyter Demo 4                 | 5fd61de6-4843-4a28-9478-dd070342de47 | todd.pihl              | TALLsc              | 49a69fef-71f8-44e6-ad3b-f7a62d91e348 | phs003432 | 2024-09-04T17:10:34.607Z | 2024-09-04T17:10:34.607Z |                            |                        | New         |\n",
       "|  2 | Jupyter Demo 3                 | 5fd61de6-4843-4a28-9478-dd070342de47 | todd.pihl              | TALLsc              | 49a69fef-71f8-44e6-ad3b-f7a62d91e348 | phs003432 | 2024-08-30T12:44:06.585Z | 2024-09-03T17:20:51.915Z | Error                      |                        | In Progress |\n",
       "|  3 | Jupyter Demo 2                 | 5fd61de6-4843-4a28-9478-dd070342de47 | todd.pihl              | TALLsc              | 49a69fef-71f8-44e6-ad3b-f7a62d91e348 | phs003432 | 2024-08-28T17:09:15.982Z | 2024-08-28T17:09:54.717Z |                            |                        | In Progress |\n",
       "|  4 | Jupyter Demo 1                 | 5fd61de6-4843-4a28-9478-dd070342de47 | todd.pihl              | TALLsc              | 49a69fef-71f8-44e6-ad3b-f7a62d91e348 | phs003432 | 2024-08-28T16:38:20.788Z | 2024-08-28T16:41:34.800Z |                            |                        | In Progress |\n",
       "|  5 | Loading Files V2               | 59960f17-6efa-4ecc-89b3-fed832ec5e38 | Alec (Submitter) Mattu | TALLsc              | 49a69fef-71f8-44e6-ad3b-f7a62d91e348 | phs003432 | 2024-08-28T15:55:05.721Z | 2024-08-28T15:56:05.607Z | Passed                     |                        | In Progress |\n",
       "|  6 | non-file-node                  | fd63018c-2f0a-4627-8508-fb50bcebda1c | Young Yoo              | CMB                 | 4c2b6522-20b8-4841-8c7a-318b325c99b4 |           | 2024-08-23T14:56:36.482Z | 2024-08-28T14:40:40.586Z | New                        |                        | In Progress |\n",
       "|  7 | Test                           | 59960f17-6efa-4ecc-89b3-fed832ec5e38 | Alec (Submitter) Mattu | TALLsc              | 49a69fef-71f8-44e6-ad3b-f7a62d91e348 | phs003432 | 2024-08-28T13:07:20.620Z | 2024-08-28T13:18:41.934Z | Error                      |                        | Canceled    |\n",
       "|  8 | Demo create submission Jupyter | 5fd61de6-4843-4a28-9478-dd070342de47 | todd.pihl              | TALLsc              | 49a69fef-71f8-44e6-ad3b-f7a62d91e348 | phs003432 | 2024-08-27T19:24:25.218Z | 2024-08-28T12:40:12.877Z |                            |                        | Canceled    |\n",
       "|  9 | CRDCDH-1545                    | 59960f17-6efa-4ecc-89b3-fed832ec5e38 | Alec (Submitter) Mattu | UBC01               | b9e9ab79-d90b-4ec1-83b7-f83a5a75f5b5 |           | 2024-08-27T19:40:52.619Z | 2024-08-27T19:41:08.964Z |                            |                        | Canceled    |"
      ],
      "text/plain": [
       "<IPython.core.display.Markdown object>"
      ]
     },
     "metadata": {},
     "output_type": "display_data"
    }
   ],
   "source": [
    "submission_res = apiQuery(dev2,listsubmissions_query,submisisons_variable)\n",
    "submission_df = pd.DataFrame(submission_res['data']['listSubmissions']['submissions'])\n",
    "display(Markdown(submission_df.to_markdown()))"
   ]
  },
  {
   "cell_type": "markdown",
   "id": "dd0202c6-d2c6-42d0-a16c-279459cf071f",
   "metadata": {},
   "source": [
    "One of the metrics that submitters need to pay attention to is the inactivity time on a submission.  Any submission that is inactive for 60 days will start receiving warnings and any submission that is inactive for 180 days will be deleted.  So having a dashboard of inactivity may help with spotting submissions that are in trouble before they get deleted."
   ]
  },
  {
   "cell_type": "markdown",
   "id": "7b1f96f3-8168-4605-a40b-d18a943da86a",
   "metadata": {},
   "source": [
    "Lets create three bins of submissions, those that have been inactive for <60 days, those that have been inactive for >60 days but <150, and then those that are at risk and are >150."
   ]
  },
  {
   "cell_type": "code",
   "execution_count": 60,
   "id": "385fb52b-d06a-458c-bd9d-b9fba384d6ad",
   "metadata": {},
   "outputs": [],
   "source": [
    "from datetime import datetime, timezone"
   ]
  },
  {
   "cell_type": "code",
   "execution_count": 53,
   "id": "79947aea-7303-41b8-996a-1c03b9928f71",
   "metadata": {},
   "outputs": [],
   "source": [
    "submission_df['createdAt'] = pd.to_datetime(submission_df['createdAt'])\n",
    "submission_df['updatedAt'] = pd.to_datetime(submission_df['updatedAt'])"
   ]
  },
  {
   "cell_type": "code",
   "execution_count": 69,
   "id": "27189b7a-49fa-45ae-8f6b-14f5bb558cf7",
   "metadata": {},
   "outputs": [],
   "source": [
    "days = []\n",
    "for index, row in submission_df.iterrows():\n",
    "    update = row['updatedAt']\n",
    "    now = datetime.now(timezone.utc)\n",
    "    diff = (now - update).days\n",
    "    days.append(diff)\n",
    "submission_df.insert(8,'inactiveDays',days,True)"
   ]
  },
  {
   "cell_type": "code",
   "execution_count": 70,
   "id": "c64d2c69-8988-4e7c-87d4-050987961ffb",
   "metadata": {},
   "outputs": [
    {
     "data": {
      "text/html": [
       "<div>\n",
       "<style scoped>\n",
       "    .dataframe tbody tr th:only-of-type {\n",
       "        vertical-align: middle;\n",
       "    }\n",
       "\n",
       "    .dataframe tbody tr th {\n",
       "        vertical-align: top;\n",
       "    }\n",
       "\n",
       "    .dataframe thead th {\n",
       "        text-align: right;\n",
       "    }\n",
       "</style>\n",
       "<table border=\"1\" class=\"dataframe\">\n",
       "  <thead>\n",
       "    <tr style=\"text-align: right;\">\n",
       "      <th></th>\n",
       "      <th>name</th>\n",
       "      <th>submitterID</th>\n",
       "      <th>submitterName</th>\n",
       "      <th>studyAbbreviation</th>\n",
       "      <th>studyID</th>\n",
       "      <th>dbGaPID</th>\n",
       "      <th>createdAt</th>\n",
       "      <th>updatedAt</th>\n",
       "      <th>inactiveDays</th>\n",
       "      <th>metadataValidationStatus</th>\n",
       "      <th>fileValidationStatus</th>\n",
       "      <th>status</th>\n",
       "    </tr>\n",
       "  </thead>\n",
       "  <tbody>\n",
       "    <tr>\n",
       "      <th>0</th>\n",
       "      <td>Jupyter Demo 4</td>\n",
       "      <td>5fd61de6-4843-4a28-9478-dd070342de47</td>\n",
       "      <td>todd.pihl</td>\n",
       "      <td>TALLsc</td>\n",
       "      <td>49a69fef-71f8-44e6-ad3b-f7a62d91e348</td>\n",
       "      <td>phs003432</td>\n",
       "      <td>2024-09-03 20:14:35.713000+00:00</td>\n",
       "      <td>2024-09-04 17:13:24.196000+00:00</td>\n",
       "      <td>1</td>\n",
       "      <td>Error</td>\n",
       "      <td>None</td>\n",
       "      <td>In Progress</td>\n",
       "    </tr>\n",
       "    <tr>\n",
       "      <th>1</th>\n",
       "      <td>Jupyter Demo 4</td>\n",
       "      <td>5fd61de6-4843-4a28-9478-dd070342de47</td>\n",
       "      <td>todd.pihl</td>\n",
       "      <td>TALLsc</td>\n",
       "      <td>49a69fef-71f8-44e6-ad3b-f7a62d91e348</td>\n",
       "      <td>phs003432</td>\n",
       "      <td>2024-09-04 17:10:34.607000+00:00</td>\n",
       "      <td>2024-09-04 17:10:34.607000+00:00</td>\n",
       "      <td>1</td>\n",
       "      <td>None</td>\n",
       "      <td>None</td>\n",
       "      <td>New</td>\n",
       "    </tr>\n",
       "    <tr>\n",
       "      <th>2</th>\n",
       "      <td>Jupyter Demo 3</td>\n",
       "      <td>5fd61de6-4843-4a28-9478-dd070342de47</td>\n",
       "      <td>todd.pihl</td>\n",
       "      <td>TALLsc</td>\n",
       "      <td>49a69fef-71f8-44e6-ad3b-f7a62d91e348</td>\n",
       "      <td>phs003432</td>\n",
       "      <td>2024-08-30 12:44:06.585000+00:00</td>\n",
       "      <td>2024-09-03 17:20:51.915000+00:00</td>\n",
       "      <td>2</td>\n",
       "      <td>Error</td>\n",
       "      <td>None</td>\n",
       "      <td>In Progress</td>\n",
       "    </tr>\n",
       "    <tr>\n",
       "      <th>3</th>\n",
       "      <td>Jupyter Demo 2</td>\n",
       "      <td>5fd61de6-4843-4a28-9478-dd070342de47</td>\n",
       "      <td>todd.pihl</td>\n",
       "      <td>TALLsc</td>\n",
       "      <td>49a69fef-71f8-44e6-ad3b-f7a62d91e348</td>\n",
       "      <td>phs003432</td>\n",
       "      <td>2024-08-28 17:09:15.982000+00:00</td>\n",
       "      <td>2024-08-28 17:09:54.717000+00:00</td>\n",
       "      <td>8</td>\n",
       "      <td>None</td>\n",
       "      <td>None</td>\n",
       "      <td>In Progress</td>\n",
       "    </tr>\n",
       "    <tr>\n",
       "      <th>4</th>\n",
       "      <td>Jupyter Demo 1</td>\n",
       "      <td>5fd61de6-4843-4a28-9478-dd070342de47</td>\n",
       "      <td>todd.pihl</td>\n",
       "      <td>TALLsc</td>\n",
       "      <td>49a69fef-71f8-44e6-ad3b-f7a62d91e348</td>\n",
       "      <td>phs003432</td>\n",
       "      <td>2024-08-28 16:38:20.788000+00:00</td>\n",
       "      <td>2024-08-28 16:41:34.800000+00:00</td>\n",
       "      <td>8</td>\n",
       "      <td>None</td>\n",
       "      <td>None</td>\n",
       "      <td>In Progress</td>\n",
       "    </tr>\n",
       "  </tbody>\n",
       "</table>\n",
       "</div>"
      ],
      "text/plain": [
       "             name                           submitterID submitterName  \\\n",
       "0  Jupyter Demo 4  5fd61de6-4843-4a28-9478-dd070342de47     todd.pihl   \n",
       "1  Jupyter Demo 4  5fd61de6-4843-4a28-9478-dd070342de47     todd.pihl   \n",
       "2  Jupyter Demo 3  5fd61de6-4843-4a28-9478-dd070342de47     todd.pihl   \n",
       "3  Jupyter Demo 2  5fd61de6-4843-4a28-9478-dd070342de47     todd.pihl   \n",
       "4  Jupyter Demo 1  5fd61de6-4843-4a28-9478-dd070342de47     todd.pihl   \n",
       "\n",
       "  studyAbbreviation                               studyID    dbGaPID  \\\n",
       "0            TALLsc  49a69fef-71f8-44e6-ad3b-f7a62d91e348  phs003432   \n",
       "1            TALLsc  49a69fef-71f8-44e6-ad3b-f7a62d91e348  phs003432   \n",
       "2            TALLsc  49a69fef-71f8-44e6-ad3b-f7a62d91e348  phs003432   \n",
       "3            TALLsc  49a69fef-71f8-44e6-ad3b-f7a62d91e348  phs003432   \n",
       "4            TALLsc  49a69fef-71f8-44e6-ad3b-f7a62d91e348  phs003432   \n",
       "\n",
       "                         createdAt                        updatedAt  \\\n",
       "0 2024-09-03 20:14:35.713000+00:00 2024-09-04 17:13:24.196000+00:00   \n",
       "1 2024-09-04 17:10:34.607000+00:00 2024-09-04 17:10:34.607000+00:00   \n",
       "2 2024-08-30 12:44:06.585000+00:00 2024-09-03 17:20:51.915000+00:00   \n",
       "3 2024-08-28 17:09:15.982000+00:00 2024-08-28 17:09:54.717000+00:00   \n",
       "4 2024-08-28 16:38:20.788000+00:00 2024-08-28 16:41:34.800000+00:00   \n",
       "\n",
       "   inactiveDays metadataValidationStatus fileValidationStatus       status  \n",
       "0             1                    Error                 None  In Progress  \n",
       "1             1                     None                 None          New  \n",
       "2             2                    Error                 None  In Progress  \n",
       "3             8                     None                 None  In Progress  \n",
       "4             8                     None                 None  In Progress  "
      ]
     },
     "execution_count": 70,
     "metadata": {},
     "output_type": "execute_result"
    }
   ],
   "source": [
    "submission_df.head()"
   ]
  },
  {
   "cell_type": "code",
   "execution_count": null,
   "id": "7ab29cfc-842a-4a5f-bfe4-3e5e2b9af944",
   "metadata": {},
   "outputs": [],
   "source": []
  }
 ],
 "metadata": {
  "kernelspec": {
   "display_name": "Python 3 (ipykernel)",
   "language": "python",
   "name": "python3"
  },
  "language_info": {
   "codemirror_mode": {
    "name": "ipython",
    "version": 3
   },
   "file_extension": ".py",
   "mimetype": "text/x-python",
   "name": "python",
   "nbconvert_exporter": "python",
   "pygments_lexer": "ipython3",
   "version": "3.10.12"
  }
 },
 "nbformat": 4,
 "nbformat_minor": 5
}
