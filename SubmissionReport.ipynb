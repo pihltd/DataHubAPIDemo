{
 "cells": [
  {
   "cell_type": "markdown",
   "id": "33b406fb-07e0-480e-843b-398d40d1d3d1",
   "metadata": {},
   "source": [
    "While the Data Submission Portal API is primarily intended to support submissions, the information that can be returned is also useful for reporting an monitoring a collection of submissions.  In the notebooks, we'll demonstrate some of the queries that can provide information useful for seeing the current state of your submisison universe"
   ]
  },
  {
   "cell_type": "code",
   "execution_count": 1,
   "id": "9c1f8110-a3d3-4eb0-a783-399f4e2a7e93",
   "metadata": {},
   "outputs": [],
   "source": [
    "import requests\n",
    "import pandas as pd\n",
    "import os\n",
    "from IPython.display import display, Markdown, Latex\n",
    "from datetime import datetime, timezone\n",
    "import plotly.express as px\n",
    "import numpy as np"
   ]
  },
  {
   "cell_type": "code",
   "execution_count": 2,
   "id": "4d1061d8-eefe-4ff8-a81d-918f9db4565b",
   "metadata": {},
   "outputs": [],
   "source": [
    "prod = 'https://hub.datacommons.cancer.gov/api/graphql'\n",
    "#Note that use of Dev2 is for example purposes only.  Unless you are an approved tester, you should be using the production URL\n",
    "dev2 = 'https://hub-dev2.datacommons.cancer.gov/api/graphql'\n",
    "stage = 'https://hub-stage.datacommons.cancer.gov/api/graphql'"
   ]
  },
  {
   "cell_type": "code",
   "execution_count": null,
   "id": "74d87a55-ce68-4e33-acbe-212db27b23f4",
   "metadata": {},
   "outputs": [],
   "source": [
    "def apiQuery(tier, query, variables):\n",
    "    if tier == 'dev2':\n",
    "        token = os.environ['DEV2API']\n",
    "        url = dev2\n",
    "    elif tier == 'stage':\n",
    "        token = os.environ['STAGEAPI']\n",
    "        url = stage\n",
    "    \n",
    "    headers = {\"Authorization\": f\"Bearer {token}\"}\n",
    "    try:\n",
    "        if variables is None:\n",
    "            result = requests.post(url = url, headers = headers, json={\"query\": query})\n",
    "        else:\n",
    "            result = requests.post(url = url, headers = headers, json = {\"query\":query, \"variables\":variables})\n",
    "        if result.status_code == 200:\n",
    "            return result.json()\n",
    "        else:\n",
    "            print(f\"Error: {result.status_code}\")\n",
    "            return result.content\n",
    "    except requests.exceptions.HTTPError as e:\n",
    "        return(f\"HTTP Error: {e}\")"
   ]
  },
  {
   "cell_type": "markdown",
   "id": "083e56c7-1267-4986-9a76-d90b10a8683f",
   "metadata": {},
   "source": [
    "One potentially useful report would be a simple overview of all the studies your organization is working on.  This can be done with the *listApprovedStudiesOfMyOrganization* query."
   ]
  },
  {
   "cell_type": "code",
   "execution_count": 4,
   "id": "4d3ce52a-6b7e-4a16-8e8d-15d4a64c4df0",
   "metadata": {},
   "outputs": [],
   "source": [
    "study_query = \"\"\"\n",
    "{\n",
    "  listApprovedStudiesOfMyOrganization{\n",
    "    originalOrg\n",
    "    studyName\n",
    "    studyAbbreviation\n",
    "    dbGaPID\n",
    "    controlledAccess\n",
    "  }\n",
    "}\n",
    "\"\"\""
   ]
  },
  {
   "cell_type": "code",
   "execution_count": 5,
   "id": "68284fde-d250-44f8-8023-9eed555f2f28",
   "metadata": {},
   "outputs": [
    {
     "data": {
      "text/markdown": [
       "|    | originalOrg   | studyName               | studyAbbreviation       |   dbGaPID | controlledAccess   |\n",
       "|---:|:--------------|:------------------------|:------------------------|----------:|:-------------------|\n",
       "|  0 | FNL           | G_OpenStudy_Stage       | G_OpenStudy_Stage       |           | False              |\n",
       "|  1 | FNL           | G_controlledStudy_Stage | G_controlledStudy_Stage |     34424 | True               |"
      ],
      "text/plain": [
       "<IPython.core.display.Markdown object>"
      ]
     },
     "metadata": {},
     "output_type": "display_data"
    }
   ],
   "source": [
    "studies_res = apiQuery('stage',study_query,None)\n",
    "studies_df = pd.DataFrame(studies_res['data']['listApprovedStudiesOfMyOrganization'])\n",
    "display(Markdown(studies_df.to_markdown()))"
   ]
  },
  {
   "cell_type": "markdown",
   "id": "f308ed79-abc0-4b58-b49c-58ff075a2068",
   "metadata": {},
   "source": [
    "While this result provides a high-level overview, it doesn't really dig into the details of what's really going on.  To get to a more fine-grained look at the actual submissions, the *listSubmissions* query can delve into much detail. Note that the *listSubmissions* query requires the **status** parameter which can be one of the following:\n",
    "- All\n",
    "- New\n",
    "- In Progress\n",
    "- Submitted\n",
    "- Released\n",
    "- Completed\n",
    "- Archived\n",
    "- Canceled\n",
    "- Rejected\n",
    "- Withdrawn\n",
    "- Deleted\n",
    "\n",
    "Since we're reporting on the overall state of all submissions, we'll use **All** in the query."
   ]
  },
  {
   "cell_type": "code",
   "execution_count": 6,
   "id": "44caf8c5-068a-4113-8780-736c85593c2b",
   "metadata": {},
   "outputs": [],
   "source": [
    "listsubmissions_query = \"\"\"\n",
    "query ListSubmissions($status: String!){\n",
    "  listSubmissions(status: $status){\n",
    "    submissions{\n",
    "      _id\n",
    "      name\n",
    "      submitterID\n",
    "      submitterName\n",
    "      studyAbbreviation\n",
    "      studyID\n",
    "      dbGaPID\n",
    "      createdAt\n",
    "      updatedAt\n",
    "      metadataValidationStatus\n",
    "      fileValidationStatus\n",
    "      status\n",
    "    }\n",
    "  }\n",
    "}\n",
    "\"\"\""
   ]
  },
  {
   "cell_type": "code",
   "execution_count": 7,
   "id": "9c51e8a2-35e7-411a-88ee-388953031bce",
   "metadata": {},
   "outputs": [],
   "source": [
    "submisisons_variable = {\"status\":\"All\"}"
   ]
  },
  {
   "cell_type": "code",
   "execution_count": 8,
   "id": "3f9653b5-247b-460b-ba48-4c6ac3866e3f",
   "metadata": {},
   "outputs": [
    {
     "data": {
      "text/markdown": [
       "|    | _id                                  | name                      | submitterID                          | submitterName   | studyAbbreviation       | studyID                              | dbGaPID   | createdAt                | updatedAt                | metadataValidationStatus   | fileValidationStatus   | status      |\n",
       "|---:|:-------------------------------------|:--------------------------|:-------------------------------------|:----------------|:------------------------|:-------------------------------------|:----------|:-------------------------|:-------------------------|:---------------------------|:-----------------------|:------------|\n",
       "|  0 | 4ce43a10-4669-40ce-949f-3fbbfc9f2513 | Stage API Submission Test | d2a62f73-03c7-41cc-ad7a-245c1364625b | Todd Pihl       | G_controlledStudy_Stage | 4a78e24f-7cd5-4f3c-a3dc-87ff02e42ecd | 34424     | 2024-10-18T20:02:36.282Z | 2024-10-21T14:26:40.081Z | Error                      |                        | In Progress |\n",
       "|  1 | 28f08b68-4b80-40b4-bc25-01c17e4b9ef0 | IRCOCO Demo               | d2a62f73-03c7-41cc-ad7a-245c1364625b | Todd Pihl       | G_OpenStudy_Stage       | 5bdf7aa6-9d52-4144-9cdc-ad4e1987c696 | phs000123 | 2024-10-11T17:13:53.703Z | 2024-10-11T17:21:09.262Z | Error                      |                        | In Progress |"
      ],
      "text/plain": [
       "<IPython.core.display.Markdown object>"
      ]
     },
     "metadata": {},
     "output_type": "display_data"
    }
   ],
   "source": [
    "submission_res = apiQuery('stage',listsubmissions_query,submisisons_variable)\n",
    "submission_df = pd.DataFrame(submission_res['data']['listSubmissions']['submissions'])\n",
    "display(Markdown(submission_df.to_markdown()))"
   ]
  },
  {
   "cell_type": "markdown",
   "id": "222f5159-65f5-483a-980a-cec6d82e0fed",
   "metadata": {},
   "source": [
    "## Submission status\n",
    "It's useful to get a quick overview of how many submissions are in the various states."
   ]
  },
  {
   "cell_type": "code",
   "execution_count": 9,
   "id": "b3e61473-a133-497a-9faf-eeac310568cf",
   "metadata": {},
   "outputs": [
    {
     "name": "stdout",
     "output_type": "stream",
     "text": [
      "status\n",
      "In Progress    2\n",
      "Name: count, dtype: int64\n"
     ]
    }
   ],
   "source": [
    "print(submission_df['status'].value_counts())"
   ]
  },
  {
   "cell_type": "markdown",
   "id": "dd0202c6-d2c6-42d0-a16c-279459cf071f",
   "metadata": {},
   "source": [
    "## Submission Inactivity\n",
    "One of the states that submitters need to pay attention to is the inactivity time on submissions that are in the *In Progress* or *New* states.  Any submission in those states that is inactive for 60 days will start receiving warnings and any submissions in those states that is inactive for 180 days will be deleted.  So having a dashboard of inactivity may help with spotting submissions that are in trouble before they get deleted."
   ]
  },
  {
   "cell_type": "markdown",
   "id": "7b1f96f3-8168-4605-a40b-d18a943da86a",
   "metadata": {},
   "source": [
    "Lets create three bins of submissions, those that have been inactive for <60 days, those that have been inactive for >60 days but <150, and then those that are at risk and are >150."
   ]
  },
  {
   "cell_type": "code",
   "execution_count": 10,
   "id": "79947aea-7303-41b8-996a-1c03b9928f71",
   "metadata": {},
   "outputs": [],
   "source": [
    "submission_df['createdAt'] = pd.to_datetime(submission_df['createdAt'])\n",
    "submission_df['updatedAt'] = pd.to_datetime(submission_df['updatedAt'])"
   ]
  },
  {
   "cell_type": "code",
   "execution_count": 11,
   "id": "27189b7a-49fa-45ae-8f6b-14f5bb558cf7",
   "metadata": {},
   "outputs": [],
   "source": [
    "days = []\n",
    "for index, row in submission_df.iterrows():\n",
    "    update = row['updatedAt']\n",
    "    now = datetime.now(timezone.utc)\n",
    "    diff = (now - update).days\n",
    "    days.append(diff)\n",
    "submission_df.insert(8,'inactiveDays',days,True)"
   ]
  },
  {
   "cell_type": "code",
   "execution_count": 12,
   "id": "c64d2c69-8988-4e7c-87d4-050987961ffb",
   "metadata": {},
   "outputs": [
    {
     "data": {
      "text/markdown": [
       "|    | _id                                  | name                      | submitterID                          | submitterName   | studyAbbreviation       | studyID                              | dbGaPID   | createdAt                        |   inactiveDays | updatedAt                        | metadataValidationStatus   | fileValidationStatus   | status      |\n",
       "|---:|:-------------------------------------|:--------------------------|:-------------------------------------|:----------------|:------------------------|:-------------------------------------|:----------|:---------------------------------|---------------:|:---------------------------------|:---------------------------|:-----------------------|:------------|\n",
       "|  0 | 4ce43a10-4669-40ce-949f-3fbbfc9f2513 | Stage API Submission Test | d2a62f73-03c7-41cc-ad7a-245c1364625b | Todd Pihl       | G_controlledStudy_Stage | 4a78e24f-7cd5-4f3c-a3dc-87ff02e42ecd | 34424     | 2024-10-18 20:02:36.282000+00:00 |             14 | 2024-10-21 14:26:40.081000+00:00 | Error                      |                        | In Progress |\n",
       "|  1 | 28f08b68-4b80-40b4-bc25-01c17e4b9ef0 | IRCOCO Demo               | d2a62f73-03c7-41cc-ad7a-245c1364625b | Todd Pihl       | G_OpenStudy_Stage       | 5bdf7aa6-9d52-4144-9cdc-ad4e1987c696 | phs000123 | 2024-10-11 17:13:53.703000+00:00 |             24 | 2024-10-11 17:21:09.262000+00:00 | Error                      |                        | In Progress |"
      ],
      "text/plain": [
       "<IPython.core.display.Markdown object>"
      ]
     },
     "metadata": {},
     "output_type": "display_data"
    }
   ],
   "source": [
    "display(Markdown(submission_df.to_markdown()))"
   ]
  },
  {
   "cell_type": "code",
   "execution_count": 13,
   "id": "0b8b338d-5ff5-4050-a9ba-96b9d8a4a31e",
   "metadata": {},
   "outputs": [
    {
     "data": {
      "application/vnd.plotly.v1+json": {
       "config": {
        "plotlyServerURL": "https://plot.ly"
       },
       "data": [
        {
         "alignmentgroup": "True",
         "bingroup": "x",
         "hovertemplate": "inactiveDays=%{x}<br>count=%{y}<extra></extra>",
         "legendgroup": "",
         "marker": {
          "color": "#636efa",
          "pattern": {
           "shape": ""
          }
         },
         "name": "",
         "nbinsx": 3,
         "offsetgroup": "",
         "orientation": "v",
         "showlegend": false,
         "type": "histogram",
         "x": [
          14,
          24
         ],
         "xaxis": "x",
         "yaxis": "y"
        }
       ],
       "layout": {
        "barmode": "relative",
        "legend": {
         "tracegroupgap": 0
        },
        "margin": {
         "t": 60
        },
        "template": {
         "data": {
          "bar": [
           {
            "error_x": {
             "color": "#2a3f5f"
            },
            "error_y": {
             "color": "#2a3f5f"
            },
            "marker": {
             "line": {
              "color": "#E5ECF6",
              "width": 0.5
             },
             "pattern": {
              "fillmode": "overlay",
              "size": 10,
              "solidity": 0.2
             }
            },
            "type": "bar"
           }
          ],
          "barpolar": [
           {
            "marker": {
             "line": {
              "color": "#E5ECF6",
              "width": 0.5
             },
             "pattern": {
              "fillmode": "overlay",
              "size": 10,
              "solidity": 0.2
             }
            },
            "type": "barpolar"
           }
          ],
          "carpet": [
           {
            "aaxis": {
             "endlinecolor": "#2a3f5f",
             "gridcolor": "white",
             "linecolor": "white",
             "minorgridcolor": "white",
             "startlinecolor": "#2a3f5f"
            },
            "baxis": {
             "endlinecolor": "#2a3f5f",
             "gridcolor": "white",
             "linecolor": "white",
             "minorgridcolor": "white",
             "startlinecolor": "#2a3f5f"
            },
            "type": "carpet"
           }
          ],
          "choropleth": [
           {
            "colorbar": {
             "outlinewidth": 0,
             "ticks": ""
            },
            "type": "choropleth"
           }
          ],
          "contour": [
           {
            "colorbar": {
             "outlinewidth": 0,
             "ticks": ""
            },
            "colorscale": [
             [
              0,
              "#0d0887"
             ],
             [
              0.1111111111111111,
              "#46039f"
             ],
             [
              0.2222222222222222,
              "#7201a8"
             ],
             [
              0.3333333333333333,
              "#9c179e"
             ],
             [
              0.4444444444444444,
              "#bd3786"
             ],
             [
              0.5555555555555556,
              "#d8576b"
             ],
             [
              0.6666666666666666,
              "#ed7953"
             ],
             [
              0.7777777777777778,
              "#fb9f3a"
             ],
             [
              0.8888888888888888,
              "#fdca26"
             ],
             [
              1,
              "#f0f921"
             ]
            ],
            "type": "contour"
           }
          ],
          "contourcarpet": [
           {
            "colorbar": {
             "outlinewidth": 0,
             "ticks": ""
            },
            "type": "contourcarpet"
           }
          ],
          "heatmap": [
           {
            "colorbar": {
             "outlinewidth": 0,
             "ticks": ""
            },
            "colorscale": [
             [
              0,
              "#0d0887"
             ],
             [
              0.1111111111111111,
              "#46039f"
             ],
             [
              0.2222222222222222,
              "#7201a8"
             ],
             [
              0.3333333333333333,
              "#9c179e"
             ],
             [
              0.4444444444444444,
              "#bd3786"
             ],
             [
              0.5555555555555556,
              "#d8576b"
             ],
             [
              0.6666666666666666,
              "#ed7953"
             ],
             [
              0.7777777777777778,
              "#fb9f3a"
             ],
             [
              0.8888888888888888,
              "#fdca26"
             ],
             [
              1,
              "#f0f921"
             ]
            ],
            "type": "heatmap"
           }
          ],
          "heatmapgl": [
           {
            "colorbar": {
             "outlinewidth": 0,
             "ticks": ""
            },
            "colorscale": [
             [
              0,
              "#0d0887"
             ],
             [
              0.1111111111111111,
              "#46039f"
             ],
             [
              0.2222222222222222,
              "#7201a8"
             ],
             [
              0.3333333333333333,
              "#9c179e"
             ],
             [
              0.4444444444444444,
              "#bd3786"
             ],
             [
              0.5555555555555556,
              "#d8576b"
             ],
             [
              0.6666666666666666,
              "#ed7953"
             ],
             [
              0.7777777777777778,
              "#fb9f3a"
             ],
             [
              0.8888888888888888,
              "#fdca26"
             ],
             [
              1,
              "#f0f921"
             ]
            ],
            "type": "heatmapgl"
           }
          ],
          "histogram": [
           {
            "marker": {
             "pattern": {
              "fillmode": "overlay",
              "size": 10,
              "solidity": 0.2
             }
            },
            "type": "histogram"
           }
          ],
          "histogram2d": [
           {
            "colorbar": {
             "outlinewidth": 0,
             "ticks": ""
            },
            "colorscale": [
             [
              0,
              "#0d0887"
             ],
             [
              0.1111111111111111,
              "#46039f"
             ],
             [
              0.2222222222222222,
              "#7201a8"
             ],
             [
              0.3333333333333333,
              "#9c179e"
             ],
             [
              0.4444444444444444,
              "#bd3786"
             ],
             [
              0.5555555555555556,
              "#d8576b"
             ],
             [
              0.6666666666666666,
              "#ed7953"
             ],
             [
              0.7777777777777778,
              "#fb9f3a"
             ],
             [
              0.8888888888888888,
              "#fdca26"
             ],
             [
              1,
              "#f0f921"
             ]
            ],
            "type": "histogram2d"
           }
          ],
          "histogram2dcontour": [
           {
            "colorbar": {
             "outlinewidth": 0,
             "ticks": ""
            },
            "colorscale": [
             [
              0,
              "#0d0887"
             ],
             [
              0.1111111111111111,
              "#46039f"
             ],
             [
              0.2222222222222222,
              "#7201a8"
             ],
             [
              0.3333333333333333,
              "#9c179e"
             ],
             [
              0.4444444444444444,
              "#bd3786"
             ],
             [
              0.5555555555555556,
              "#d8576b"
             ],
             [
              0.6666666666666666,
              "#ed7953"
             ],
             [
              0.7777777777777778,
              "#fb9f3a"
             ],
             [
              0.8888888888888888,
              "#fdca26"
             ],
             [
              1,
              "#f0f921"
             ]
            ],
            "type": "histogram2dcontour"
           }
          ],
          "mesh3d": [
           {
            "colorbar": {
             "outlinewidth": 0,
             "ticks": ""
            },
            "type": "mesh3d"
           }
          ],
          "parcoords": [
           {
            "line": {
             "colorbar": {
              "outlinewidth": 0,
              "ticks": ""
             }
            },
            "type": "parcoords"
           }
          ],
          "pie": [
           {
            "automargin": true,
            "type": "pie"
           }
          ],
          "scatter": [
           {
            "fillpattern": {
             "fillmode": "overlay",
             "size": 10,
             "solidity": 0.2
            },
            "type": "scatter"
           }
          ],
          "scatter3d": [
           {
            "line": {
             "colorbar": {
              "outlinewidth": 0,
              "ticks": ""
             }
            },
            "marker": {
             "colorbar": {
              "outlinewidth": 0,
              "ticks": ""
             }
            },
            "type": "scatter3d"
           }
          ],
          "scattercarpet": [
           {
            "marker": {
             "colorbar": {
              "outlinewidth": 0,
              "ticks": ""
             }
            },
            "type": "scattercarpet"
           }
          ],
          "scattergeo": [
           {
            "marker": {
             "colorbar": {
              "outlinewidth": 0,
              "ticks": ""
             }
            },
            "type": "scattergeo"
           }
          ],
          "scattergl": [
           {
            "marker": {
             "colorbar": {
              "outlinewidth": 0,
              "ticks": ""
             }
            },
            "type": "scattergl"
           }
          ],
          "scattermapbox": [
           {
            "marker": {
             "colorbar": {
              "outlinewidth": 0,
              "ticks": ""
             }
            },
            "type": "scattermapbox"
           }
          ],
          "scatterpolar": [
           {
            "marker": {
             "colorbar": {
              "outlinewidth": 0,
              "ticks": ""
             }
            },
            "type": "scatterpolar"
           }
          ],
          "scatterpolargl": [
           {
            "marker": {
             "colorbar": {
              "outlinewidth": 0,
              "ticks": ""
             }
            },
            "type": "scatterpolargl"
           }
          ],
          "scatterternary": [
           {
            "marker": {
             "colorbar": {
              "outlinewidth": 0,
              "ticks": ""
             }
            },
            "type": "scatterternary"
           }
          ],
          "surface": [
           {
            "colorbar": {
             "outlinewidth": 0,
             "ticks": ""
            },
            "colorscale": [
             [
              0,
              "#0d0887"
             ],
             [
              0.1111111111111111,
              "#46039f"
             ],
             [
              0.2222222222222222,
              "#7201a8"
             ],
             [
              0.3333333333333333,
              "#9c179e"
             ],
             [
              0.4444444444444444,
              "#bd3786"
             ],
             [
              0.5555555555555556,
              "#d8576b"
             ],
             [
              0.6666666666666666,
              "#ed7953"
             ],
             [
              0.7777777777777778,
              "#fb9f3a"
             ],
             [
              0.8888888888888888,
              "#fdca26"
             ],
             [
              1,
              "#f0f921"
             ]
            ],
            "type": "surface"
           }
          ],
          "table": [
           {
            "cells": {
             "fill": {
              "color": "#EBF0F8"
             },
             "line": {
              "color": "white"
             }
            },
            "header": {
             "fill": {
              "color": "#C8D4E3"
             },
             "line": {
              "color": "white"
             }
            },
            "type": "table"
           }
          ]
         },
         "layout": {
          "annotationdefaults": {
           "arrowcolor": "#2a3f5f",
           "arrowhead": 0,
           "arrowwidth": 1
          },
          "autotypenumbers": "strict",
          "coloraxis": {
           "colorbar": {
            "outlinewidth": 0,
            "ticks": ""
           }
          },
          "colorscale": {
           "diverging": [
            [
             0,
             "#8e0152"
            ],
            [
             0.1,
             "#c51b7d"
            ],
            [
             0.2,
             "#de77ae"
            ],
            [
             0.3,
             "#f1b6da"
            ],
            [
             0.4,
             "#fde0ef"
            ],
            [
             0.5,
             "#f7f7f7"
            ],
            [
             0.6,
             "#e6f5d0"
            ],
            [
             0.7,
             "#b8e186"
            ],
            [
             0.8,
             "#7fbc41"
            ],
            [
             0.9,
             "#4d9221"
            ],
            [
             1,
             "#276419"
            ]
           ],
           "sequential": [
            [
             0,
             "#0d0887"
            ],
            [
             0.1111111111111111,
             "#46039f"
            ],
            [
             0.2222222222222222,
             "#7201a8"
            ],
            [
             0.3333333333333333,
             "#9c179e"
            ],
            [
             0.4444444444444444,
             "#bd3786"
            ],
            [
             0.5555555555555556,
             "#d8576b"
            ],
            [
             0.6666666666666666,
             "#ed7953"
            ],
            [
             0.7777777777777778,
             "#fb9f3a"
            ],
            [
             0.8888888888888888,
             "#fdca26"
            ],
            [
             1,
             "#f0f921"
            ]
           ],
           "sequentialminus": [
            [
             0,
             "#0d0887"
            ],
            [
             0.1111111111111111,
             "#46039f"
            ],
            [
             0.2222222222222222,
             "#7201a8"
            ],
            [
             0.3333333333333333,
             "#9c179e"
            ],
            [
             0.4444444444444444,
             "#bd3786"
            ],
            [
             0.5555555555555556,
             "#d8576b"
            ],
            [
             0.6666666666666666,
             "#ed7953"
            ],
            [
             0.7777777777777778,
             "#fb9f3a"
            ],
            [
             0.8888888888888888,
             "#fdca26"
            ],
            [
             1,
             "#f0f921"
            ]
           ]
          },
          "colorway": [
           "#636efa",
           "#EF553B",
           "#00cc96",
           "#ab63fa",
           "#FFA15A",
           "#19d3f3",
           "#FF6692",
           "#B6E880",
           "#FF97FF",
           "#FECB52"
          ],
          "font": {
           "color": "#2a3f5f"
          },
          "geo": {
           "bgcolor": "white",
           "lakecolor": "white",
           "landcolor": "#E5ECF6",
           "showlakes": true,
           "showland": true,
           "subunitcolor": "white"
          },
          "hoverlabel": {
           "align": "left"
          },
          "hovermode": "closest",
          "mapbox": {
           "style": "light"
          },
          "paper_bgcolor": "white",
          "plot_bgcolor": "#E5ECF6",
          "polar": {
           "angularaxis": {
            "gridcolor": "white",
            "linecolor": "white",
            "ticks": ""
           },
           "bgcolor": "#E5ECF6",
           "radialaxis": {
            "gridcolor": "white",
            "linecolor": "white",
            "ticks": ""
           }
          },
          "scene": {
           "xaxis": {
            "backgroundcolor": "#E5ECF6",
            "gridcolor": "white",
            "gridwidth": 2,
            "linecolor": "white",
            "showbackground": true,
            "ticks": "",
            "zerolinecolor": "white"
           },
           "yaxis": {
            "backgroundcolor": "#E5ECF6",
            "gridcolor": "white",
            "gridwidth": 2,
            "linecolor": "white",
            "showbackground": true,
            "ticks": "",
            "zerolinecolor": "white"
           },
           "zaxis": {
            "backgroundcolor": "#E5ECF6",
            "gridcolor": "white",
            "gridwidth": 2,
            "linecolor": "white",
            "showbackground": true,
            "ticks": "",
            "zerolinecolor": "white"
           }
          },
          "shapedefaults": {
           "line": {
            "color": "#2a3f5f"
           }
          },
          "ternary": {
           "aaxis": {
            "gridcolor": "white",
            "linecolor": "white",
            "ticks": ""
           },
           "baxis": {
            "gridcolor": "white",
            "linecolor": "white",
            "ticks": ""
           },
           "bgcolor": "#E5ECF6",
           "caxis": {
            "gridcolor": "white",
            "linecolor": "white",
            "ticks": ""
           }
          },
          "title": {
           "x": 0.05
          },
          "xaxis": {
           "automargin": true,
           "gridcolor": "white",
           "linecolor": "white",
           "ticks": "",
           "title": {
            "standoff": 15
           },
           "zerolinecolor": "white",
           "zerolinewidth": 2
          },
          "yaxis": {
           "automargin": true,
           "gridcolor": "white",
           "linecolor": "white",
           "ticks": "",
           "title": {
            "standoff": 15
           },
           "zerolinecolor": "white",
           "zerolinewidth": 2
          }
         }
        },
        "xaxis": {
         "anchor": "y",
         "domain": [
          0,
          1
         ],
         "title": {
          "text": "inactiveDays"
         }
        },
        "yaxis": {
         "anchor": "x",
         "domain": [
          0,
          1
         ],
         "title": {
          "text": "count"
         }
        }
       }
      }
     },
     "metadata": {},
     "output_type": "display_data"
    }
   ],
   "source": [
    "submfig = px.histogram(submission_df, x='inactiveDays', nbins=3)\n",
    "submfig.show()"
   ]
  },
  {
   "cell_type": "markdown",
   "id": "246d5c2d-81bb-4029-9103-89ee79474c5a",
   "metadata": {},
   "source": [
    "Alternatively, it might be worth looking across the entire timeframe."
   ]
  },
  {
   "cell_type": "code",
   "execution_count": 14,
   "id": "aa06bfc4-0bfc-42a0-89c8-f66601c2f69f",
   "metadata": {},
   "outputs": [
    {
     "data": {
      "application/vnd.plotly.v1+json": {
       "config": {
        "plotlyServerURL": "https://plot.ly"
       },
       "data": [
        {
         "alignmentgroup": "True",
         "hovertemplate": "Inactive Days=%{x}<br>Count=%{y}<br>color=%{marker.color}<extra></extra>",
         "legendgroup": "",
         "marker": {
          "color": [
           10,
           30,
           50,
           70,
           90,
           110,
           130,
           150
          ],
          "coloraxis": "coloraxis",
          "pattern": {
           "shape": ""
          }
         },
         "name": "",
         "offsetgroup": "",
         "orientation": "v",
         "showlegend": false,
         "textposition": "auto",
         "type": "bar",
         "x": [
          10,
          30,
          50,
          70,
          90,
          110,
          130,
          150
         ],
         "xaxis": "x",
         "y": [
          1,
          1,
          0,
          0,
          0,
          0,
          0,
          0
         ],
         "yaxis": "y"
        }
       ],
       "layout": {
        "barmode": "relative",
        "coloraxis": {
         "colorbar": {
          "title": {
           "text": "color"
          }
         },
         "colorscale": [
          [
           0,
           "#0d0887"
          ],
          [
           0.1111111111111111,
           "#46039f"
          ],
          [
           0.2222222222222222,
           "#7201a8"
          ],
          [
           0.3333333333333333,
           "#9c179e"
          ],
          [
           0.4444444444444444,
           "#bd3786"
          ],
          [
           0.5555555555555556,
           "#d8576b"
          ],
          [
           0.6666666666666666,
           "#ed7953"
          ],
          [
           0.7777777777777778,
           "#fb9f3a"
          ],
          [
           0.8888888888888888,
           "#fdca26"
          ],
          [
           1,
           "#f0f921"
          ]
         ]
        },
        "legend": {
         "tracegroupgap": 0
        },
        "margin": {
         "t": 60
        },
        "template": {
         "data": {
          "bar": [
           {
            "error_x": {
             "color": "#2a3f5f"
            },
            "error_y": {
             "color": "#2a3f5f"
            },
            "marker": {
             "line": {
              "color": "#E5ECF6",
              "width": 0.5
             },
             "pattern": {
              "fillmode": "overlay",
              "size": 10,
              "solidity": 0.2
             }
            },
            "type": "bar"
           }
          ],
          "barpolar": [
           {
            "marker": {
             "line": {
              "color": "#E5ECF6",
              "width": 0.5
             },
             "pattern": {
              "fillmode": "overlay",
              "size": 10,
              "solidity": 0.2
             }
            },
            "type": "barpolar"
           }
          ],
          "carpet": [
           {
            "aaxis": {
             "endlinecolor": "#2a3f5f",
             "gridcolor": "white",
             "linecolor": "white",
             "minorgridcolor": "white",
             "startlinecolor": "#2a3f5f"
            },
            "baxis": {
             "endlinecolor": "#2a3f5f",
             "gridcolor": "white",
             "linecolor": "white",
             "minorgridcolor": "white",
             "startlinecolor": "#2a3f5f"
            },
            "type": "carpet"
           }
          ],
          "choropleth": [
           {
            "colorbar": {
             "outlinewidth": 0,
             "ticks": ""
            },
            "type": "choropleth"
           }
          ],
          "contour": [
           {
            "colorbar": {
             "outlinewidth": 0,
             "ticks": ""
            },
            "colorscale": [
             [
              0,
              "#0d0887"
             ],
             [
              0.1111111111111111,
              "#46039f"
             ],
             [
              0.2222222222222222,
              "#7201a8"
             ],
             [
              0.3333333333333333,
              "#9c179e"
             ],
             [
              0.4444444444444444,
              "#bd3786"
             ],
             [
              0.5555555555555556,
              "#d8576b"
             ],
             [
              0.6666666666666666,
              "#ed7953"
             ],
             [
              0.7777777777777778,
              "#fb9f3a"
             ],
             [
              0.8888888888888888,
              "#fdca26"
             ],
             [
              1,
              "#f0f921"
             ]
            ],
            "type": "contour"
           }
          ],
          "contourcarpet": [
           {
            "colorbar": {
             "outlinewidth": 0,
             "ticks": ""
            },
            "type": "contourcarpet"
           }
          ],
          "heatmap": [
           {
            "colorbar": {
             "outlinewidth": 0,
             "ticks": ""
            },
            "colorscale": [
             [
              0,
              "#0d0887"
             ],
             [
              0.1111111111111111,
              "#46039f"
             ],
             [
              0.2222222222222222,
              "#7201a8"
             ],
             [
              0.3333333333333333,
              "#9c179e"
             ],
             [
              0.4444444444444444,
              "#bd3786"
             ],
             [
              0.5555555555555556,
              "#d8576b"
             ],
             [
              0.6666666666666666,
              "#ed7953"
             ],
             [
              0.7777777777777778,
              "#fb9f3a"
             ],
             [
              0.8888888888888888,
              "#fdca26"
             ],
             [
              1,
              "#f0f921"
             ]
            ],
            "type": "heatmap"
           }
          ],
          "heatmapgl": [
           {
            "colorbar": {
             "outlinewidth": 0,
             "ticks": ""
            },
            "colorscale": [
             [
              0,
              "#0d0887"
             ],
             [
              0.1111111111111111,
              "#46039f"
             ],
             [
              0.2222222222222222,
              "#7201a8"
             ],
             [
              0.3333333333333333,
              "#9c179e"
             ],
             [
              0.4444444444444444,
              "#bd3786"
             ],
             [
              0.5555555555555556,
              "#d8576b"
             ],
             [
              0.6666666666666666,
              "#ed7953"
             ],
             [
              0.7777777777777778,
              "#fb9f3a"
             ],
             [
              0.8888888888888888,
              "#fdca26"
             ],
             [
              1,
              "#f0f921"
             ]
            ],
            "type": "heatmapgl"
           }
          ],
          "histogram": [
           {
            "marker": {
             "pattern": {
              "fillmode": "overlay",
              "size": 10,
              "solidity": 0.2
             }
            },
            "type": "histogram"
           }
          ],
          "histogram2d": [
           {
            "colorbar": {
             "outlinewidth": 0,
             "ticks": ""
            },
            "colorscale": [
             [
              0,
              "#0d0887"
             ],
             [
              0.1111111111111111,
              "#46039f"
             ],
             [
              0.2222222222222222,
              "#7201a8"
             ],
             [
              0.3333333333333333,
              "#9c179e"
             ],
             [
              0.4444444444444444,
              "#bd3786"
             ],
             [
              0.5555555555555556,
              "#d8576b"
             ],
             [
              0.6666666666666666,
              "#ed7953"
             ],
             [
              0.7777777777777778,
              "#fb9f3a"
             ],
             [
              0.8888888888888888,
              "#fdca26"
             ],
             [
              1,
              "#f0f921"
             ]
            ],
            "type": "histogram2d"
           }
          ],
          "histogram2dcontour": [
           {
            "colorbar": {
             "outlinewidth": 0,
             "ticks": ""
            },
            "colorscale": [
             [
              0,
              "#0d0887"
             ],
             [
              0.1111111111111111,
              "#46039f"
             ],
             [
              0.2222222222222222,
              "#7201a8"
             ],
             [
              0.3333333333333333,
              "#9c179e"
             ],
             [
              0.4444444444444444,
              "#bd3786"
             ],
             [
              0.5555555555555556,
              "#d8576b"
             ],
             [
              0.6666666666666666,
              "#ed7953"
             ],
             [
              0.7777777777777778,
              "#fb9f3a"
             ],
             [
              0.8888888888888888,
              "#fdca26"
             ],
             [
              1,
              "#f0f921"
             ]
            ],
            "type": "histogram2dcontour"
           }
          ],
          "mesh3d": [
           {
            "colorbar": {
             "outlinewidth": 0,
             "ticks": ""
            },
            "type": "mesh3d"
           }
          ],
          "parcoords": [
           {
            "line": {
             "colorbar": {
              "outlinewidth": 0,
              "ticks": ""
             }
            },
            "type": "parcoords"
           }
          ],
          "pie": [
           {
            "automargin": true,
            "type": "pie"
           }
          ],
          "scatter": [
           {
            "fillpattern": {
             "fillmode": "overlay",
             "size": 10,
             "solidity": 0.2
            },
            "type": "scatter"
           }
          ],
          "scatter3d": [
           {
            "line": {
             "colorbar": {
              "outlinewidth": 0,
              "ticks": ""
             }
            },
            "marker": {
             "colorbar": {
              "outlinewidth": 0,
              "ticks": ""
             }
            },
            "type": "scatter3d"
           }
          ],
          "scattercarpet": [
           {
            "marker": {
             "colorbar": {
              "outlinewidth": 0,
              "ticks": ""
             }
            },
            "type": "scattercarpet"
           }
          ],
          "scattergeo": [
           {
            "marker": {
             "colorbar": {
              "outlinewidth": 0,
              "ticks": ""
             }
            },
            "type": "scattergeo"
           }
          ],
          "scattergl": [
           {
            "marker": {
             "colorbar": {
              "outlinewidth": 0,
              "ticks": ""
             }
            },
            "type": "scattergl"
           }
          ],
          "scattermapbox": [
           {
            "marker": {
             "colorbar": {
              "outlinewidth": 0,
              "ticks": ""
             }
            },
            "type": "scattermapbox"
           }
          ],
          "scatterpolar": [
           {
            "marker": {
             "colorbar": {
              "outlinewidth": 0,
              "ticks": ""
             }
            },
            "type": "scatterpolar"
           }
          ],
          "scatterpolargl": [
           {
            "marker": {
             "colorbar": {
              "outlinewidth": 0,
              "ticks": ""
             }
            },
            "type": "scatterpolargl"
           }
          ],
          "scatterternary": [
           {
            "marker": {
             "colorbar": {
              "outlinewidth": 0,
              "ticks": ""
             }
            },
            "type": "scatterternary"
           }
          ],
          "surface": [
           {
            "colorbar": {
             "outlinewidth": 0,
             "ticks": ""
            },
            "colorscale": [
             [
              0,
              "#0d0887"
             ],
             [
              0.1111111111111111,
              "#46039f"
             ],
             [
              0.2222222222222222,
              "#7201a8"
             ],
             [
              0.3333333333333333,
              "#9c179e"
             ],
             [
              0.4444444444444444,
              "#bd3786"
             ],
             [
              0.5555555555555556,
              "#d8576b"
             ],
             [
              0.6666666666666666,
              "#ed7953"
             ],
             [
              0.7777777777777778,
              "#fb9f3a"
             ],
             [
              0.8888888888888888,
              "#fdca26"
             ],
             [
              1,
              "#f0f921"
             ]
            ],
            "type": "surface"
           }
          ],
          "table": [
           {
            "cells": {
             "fill": {
              "color": "#EBF0F8"
             },
             "line": {
              "color": "white"
             }
            },
            "header": {
             "fill": {
              "color": "#C8D4E3"
             },
             "line": {
              "color": "white"
             }
            },
            "type": "table"
           }
          ]
         },
         "layout": {
          "annotationdefaults": {
           "arrowcolor": "#2a3f5f",
           "arrowhead": 0,
           "arrowwidth": 1
          },
          "autotypenumbers": "strict",
          "coloraxis": {
           "colorbar": {
            "outlinewidth": 0,
            "ticks": ""
           }
          },
          "colorscale": {
           "diverging": [
            [
             0,
             "#8e0152"
            ],
            [
             0.1,
             "#c51b7d"
            ],
            [
             0.2,
             "#de77ae"
            ],
            [
             0.3,
             "#f1b6da"
            ],
            [
             0.4,
             "#fde0ef"
            ],
            [
             0.5,
             "#f7f7f7"
            ],
            [
             0.6,
             "#e6f5d0"
            ],
            [
             0.7,
             "#b8e186"
            ],
            [
             0.8,
             "#7fbc41"
            ],
            [
             0.9,
             "#4d9221"
            ],
            [
             1,
             "#276419"
            ]
           ],
           "sequential": [
            [
             0,
             "#0d0887"
            ],
            [
             0.1111111111111111,
             "#46039f"
            ],
            [
             0.2222222222222222,
             "#7201a8"
            ],
            [
             0.3333333333333333,
             "#9c179e"
            ],
            [
             0.4444444444444444,
             "#bd3786"
            ],
            [
             0.5555555555555556,
             "#d8576b"
            ],
            [
             0.6666666666666666,
             "#ed7953"
            ],
            [
             0.7777777777777778,
             "#fb9f3a"
            ],
            [
             0.8888888888888888,
             "#fdca26"
            ],
            [
             1,
             "#f0f921"
            ]
           ],
           "sequentialminus": [
            [
             0,
             "#0d0887"
            ],
            [
             0.1111111111111111,
             "#46039f"
            ],
            [
             0.2222222222222222,
             "#7201a8"
            ],
            [
             0.3333333333333333,
             "#9c179e"
            ],
            [
             0.4444444444444444,
             "#bd3786"
            ],
            [
             0.5555555555555556,
             "#d8576b"
            ],
            [
             0.6666666666666666,
             "#ed7953"
            ],
            [
             0.7777777777777778,
             "#fb9f3a"
            ],
            [
             0.8888888888888888,
             "#fdca26"
            ],
            [
             1,
             "#f0f921"
            ]
           ]
          },
          "colorway": [
           "#636efa",
           "#EF553B",
           "#00cc96",
           "#ab63fa",
           "#FFA15A",
           "#19d3f3",
           "#FF6692",
           "#B6E880",
           "#FF97FF",
           "#FECB52"
          ],
          "font": {
           "color": "#2a3f5f"
          },
          "geo": {
           "bgcolor": "white",
           "lakecolor": "white",
           "landcolor": "#E5ECF6",
           "showlakes": true,
           "showland": true,
           "subunitcolor": "white"
          },
          "hoverlabel": {
           "align": "left"
          },
          "hovermode": "closest",
          "mapbox": {
           "style": "light"
          },
          "paper_bgcolor": "white",
          "plot_bgcolor": "#E5ECF6",
          "polar": {
           "angularaxis": {
            "gridcolor": "white",
            "linecolor": "white",
            "ticks": ""
           },
           "bgcolor": "#E5ECF6",
           "radialaxis": {
            "gridcolor": "white",
            "linecolor": "white",
            "ticks": ""
           }
          },
          "scene": {
           "xaxis": {
            "backgroundcolor": "#E5ECF6",
            "gridcolor": "white",
            "gridwidth": 2,
            "linecolor": "white",
            "showbackground": true,
            "ticks": "",
            "zerolinecolor": "white"
           },
           "yaxis": {
            "backgroundcolor": "#E5ECF6",
            "gridcolor": "white",
            "gridwidth": 2,
            "linecolor": "white",
            "showbackground": true,
            "ticks": "",
            "zerolinecolor": "white"
           },
           "zaxis": {
            "backgroundcolor": "#E5ECF6",
            "gridcolor": "white",
            "gridwidth": 2,
            "linecolor": "white",
            "showbackground": true,
            "ticks": "",
            "zerolinecolor": "white"
           }
          },
          "shapedefaults": {
           "line": {
            "color": "#2a3f5f"
           }
          },
          "ternary": {
           "aaxis": {
            "gridcolor": "white",
            "linecolor": "white",
            "ticks": ""
           },
           "baxis": {
            "gridcolor": "white",
            "linecolor": "white",
            "ticks": ""
           },
           "bgcolor": "#E5ECF6",
           "caxis": {
            "gridcolor": "white",
            "linecolor": "white",
            "ticks": ""
           }
          },
          "title": {
           "x": 0.05
          },
          "xaxis": {
           "automargin": true,
           "gridcolor": "white",
           "linecolor": "white",
           "ticks": "",
           "title": {
            "standoff": 15
           },
           "zerolinecolor": "white",
           "zerolinewidth": 2
          },
          "yaxis": {
           "automargin": true,
           "gridcolor": "white",
           "linecolor": "white",
           "ticks": "",
           "title": {
            "standoff": 15
           },
           "zerolinecolor": "white",
           "zerolinewidth": 2
          }
         }
        },
        "xaxis": {
         "anchor": "y",
         "domain": [
          0,
          1
         ],
         "title": {
          "text": "Inactive Days"
         }
        },
        "yaxis": {
         "anchor": "x",
         "domain": [
          0,
          1
         ],
         "title": {
          "text": "Count"
         }
        }
       }
      }
     },
     "metadata": {},
     "output_type": "display_data"
    }
   ],
   "source": [
    "counts, bins = np.histogram(submission_df.inactiveDays, bins=range(0,180,20))\n",
    "bins = 0.5 * (bins[:-1] + bins[1:])\n",
    "subfig = px.bar(x=bins, y=counts, labels={'x':\"Inactive Days\", 'y':\"Count\"}, color=bins)\n",
    "subfig.show()"
   ]
  },
  {
   "cell_type": "markdown",
   "id": "c061077c-2024-4c33-8edc-c4f86490ebf1",
   "metadata": {},
   "source": [
    "Beyond looking at the overall status of submissions, the API can also be useful for generating reports on the error states of specific submissions.  When there are validation errors, there are frequently large numbers of them, and a quick summary report can highlight areas that need the most attention.  Generating this kind of report is straight-forward.  \n",
    "\n",
    "First, find out which submissions have errors.  This can be done by adjusting the *listSubmissions* query we ran above.  Specifically, rather than requesting all submissions, we'll get just the ones that are **In Progress** since those would be the submissions that might have errors.  We'll also select for just the submissions with a **metadataValidationStatus** of **Error**."
   ]
  },
  {
   "cell_type": "code",
   "execution_count": 15,
   "id": "1293d5d9-490d-4c53-af98-f66426905353",
   "metadata": {},
   "outputs": [],
   "source": [
    "submission_variables = {\"status\":\"In Progress\"}"
   ]
  },
  {
   "cell_type": "code",
   "execution_count": 16,
   "id": "ad24fda9-870e-4a86-81b2-2d884df758bd",
   "metadata": {},
   "outputs": [
    {
     "data": {
      "text/markdown": [
       "|    | _id                                  | name                      | submitterID                          | submitterName   | studyAbbreviation       | studyID                              | dbGaPID   | createdAt                | updatedAt                | metadataValidationStatus   | fileValidationStatus   | status      |\n",
       "|---:|:-------------------------------------|:--------------------------|:-------------------------------------|:----------------|:------------------------|:-------------------------------------|:----------|:-------------------------|:-------------------------|:---------------------------|:-----------------------|:------------|\n",
       "|  0 | 4ce43a10-4669-40ce-949f-3fbbfc9f2513 | Stage API Submission Test | d2a62f73-03c7-41cc-ad7a-245c1364625b | Todd Pihl       | G_controlledStudy_Stage | 4a78e24f-7cd5-4f3c-a3dc-87ff02e42ecd | 34424     | 2024-10-18T20:02:36.282Z | 2024-10-21T14:26:40.081Z | Error                      |                        | In Progress |\n",
       "|  1 | 28f08b68-4b80-40b4-bc25-01c17e4b9ef0 | IRCOCO Demo               | d2a62f73-03c7-41cc-ad7a-245c1364625b | Todd Pihl       | G_OpenStudy_Stage       | 5bdf7aa6-9d52-4144-9cdc-ad4e1987c696 | phs000123 | 2024-10-11T17:13:53.703Z | 2024-10-11T17:21:09.262Z | Error                      |                        | In Progress |"
      ],
      "text/plain": [
       "<IPython.core.display.Markdown object>"
      ]
     },
     "metadata": {},
     "output_type": "display_data"
    }
   ],
   "source": [
    "inprog_res = apiQuery('stage',listsubmissions_query,submisisons_variable)\n",
    "inprog_df = pd.DataFrame(inprog_res['data']['listSubmissions']['submissions'])\n",
    "error_df = inprog_df[inprog_df['metadataValidationStatus'] == 'Error']\n",
    "display(Markdown(error_df.to_markdown()))"
   ]
  },
  {
   "cell_type": "markdown",
   "id": "d3af8f8a-faa5-4c18-aa1a-9274129f8e67",
   "metadata": {},
   "source": [
    "For the purposes of this demo, we'll just focus on one of the submissions, the **Jupyter Demo 4** submission.  We'll also re-use the QC query from the *DataHubAPIDemo* workbook since that brings back what we need.  Finallly, we'll just look at **Errors** since those prevent submission.  It's highly recommended that you also try to correct **Warnings** but those do not block submissions."
   ]
  },
  {
   "cell_type": "code",
   "execution_count": 17,
   "id": "31161b69-60d8-4216-9334-2fa6e8b1a027",
   "metadata": {},
   "outputs": [],
   "source": [
    "qc_check_query = \"\"\"\n",
    "query GetQCResults(\n",
    "  $id: ID!\n",
    "  $severities: String\n",
    "  $first: Int\n",
    "){\n",
    "  submissionQCResults(_id:$id, severities:$severities, first:$first){\n",
    "    total\n",
    "    results{\n",
    "      submissionID\n",
    "      severity\n",
    "      type\n",
    "      errors{\n",
    "        title\n",
    "        description\n",
    "      }\n",
    "    }\n",
    "  }\n",
    "}\n",
    "\"\"\""
   ]
  },
  {
   "cell_type": "code",
   "execution_count": 19,
   "id": "c446de7f-729e-4d5c-a898-47cefe4cf2f5",
   "metadata": {},
   "outputs": [],
   "source": [
    "subname = \"Stage API Submission Test\"\n",
    "submission_id = error_df.loc[error_df['name'] == subname, '_id'].iloc[0]"
   ]
  },
  {
   "cell_type": "code",
   "execution_count": 20,
   "id": "2dea9bb3-d268-4f01-bdd1-eb9af458d934",
   "metadata": {},
   "outputs": [],
   "source": [
    "qc_variables = {\"id\":submission_id, \"severities\":\"Error\", \"first\":-1}"
   ]
  },
  {
   "cell_type": "code",
   "execution_count": 23,
   "id": "c26a1130-3cd0-461b-aa3d-7918e9a5f198",
   "metadata": {
    "scrolled": true
   },
   "outputs": [
    {
     "data": {
      "text/markdown": [
       "|     | submissionID                         | severity   | type         | errors                                                                                                                                                                                                                                                                                                                                                                                                                                                                                                                                                                                                                                                                                                                                                                                                                                |\n",
       "|----:|:-------------------------------------|:-----------|:-------------|:--------------------------------------------------------------------------------------------------------------------------------------------------------------------------------------------------------------------------------------------------------------------------------------------------------------------------------------------------------------------------------------------------------------------------------------------------------------------------------------------------------------------------------------------------------------------------------------------------------------------------------------------------------------------------------------------------------------------------------------------------------------------------------------------------------------------------------------|\n",
       "|   0 | 4ce43a10-4669-40ce-949f-3fbbfc9f2513 | Error      | study        | [{'title': 'Missing required property', 'description': '[Demo_study.tsv: line 2] Required property \"file_types_and_format\" is empty.'}, {'title': 'Missing required property', 'description': '[Demo_study.tsv: line 2] Required property \"study_access\" is empty.'}, {'title': 'Missing required property', 'description': '[Demo_study.tsv: line 2] Required property \"study_version\" is empty.'}]                                                                                                                                                                                                                                                                                                                                                                                                                                  |\n",
       "|   1 | 4ce43a10-4669-40ce-949f-3fbbfc9f2513 | Error      | sample       | [{'title': 'Value not permitted', 'description': '[Demo_sampleFIXED.tsv: line 93] \"DNA\" is not a permissible value for property “sample_type”.'}]                                                                                                                                                                                                                                                                                                                                                                                                                                                                                                                                                                                                                                                                                     |\n",
       "|   2 | 4ce43a10-4669-40ce-949f-3fbbfc9f2513 | Error      | sample       | [{'title': 'Value not permitted', 'description': '[Demo_sampleFIXED.tsv: line 133] \"DNA\" is not a permissible value for property “sample_type”.'}]                                                                                                                                                                                                                                                                                                                                                                                                                                                                                                                                                                                                                                                                                    |\n",
       "|   3 | 4ce43a10-4669-40ce-949f-3fbbfc9f2513 | Error      | sample       | [{'title': 'Value not permitted', 'description': '[Demo_sampleFIXED.tsv: line 142] \"DNA\" is not a permissible value for property “sample_type”.'}]                                                                                                                                                                                                                                                                                                                                                                                                                                                                                                                                                                                                                                                                                    |\n",
       "|   4 | 4ce43a10-4669-40ce-949f-3fbbfc9f2513 | Error      | sample       | [{'title': 'Value not permitted', 'description': '[Demo_sampleFIXED.tsv: line 139] \"RNA\" is not a permissible value for property “sample_type”.'}]                                                                                                                                                                                                                                                                                                                                                                                                                                                                                                                                                                                                                                                                                    |\n",
       "|   5 | 4ce43a10-4669-40ce-949f-3fbbfc9f2513 | Error      | sample       | [{'title': 'Value not permitted', 'description': '[Demo_sampleFIXED.tsv: line 141] \"DNA\" is not a permissible value for property “sample_type”.'}]                                                                                                                                                                                                                                                                                                                                                                                                                                                                                                                                                                                                                                                                                    |\n",
       "|   6 | 4ce43a10-4669-40ce-949f-3fbbfc9f2513 | Error      | sample       | [{'title': 'Value not permitted', 'description': '[Demo_sampleFIXED.tsv: line 138] \"RNA\" is not a permissible value for property “sample_type”.'}]                                                                                                                                                                                                                                                                                                                                                                                                                                                                                                                                                                                                                                                                                    |\n",
       "|   7 | 4ce43a10-4669-40ce-949f-3fbbfc9f2513 | Error      | sample       | [{'title': 'Value not permitted', 'description': '[Demo_sampleFIXED.tsv: line 92] \"DNA\" is not a permissible value for property “sample_type”.'}]                                                                                                                                                                                                                                                                                                                                                                                                                                                                                                                                                                                                                                                                                     |\n",
       "|   8 | 4ce43a10-4669-40ce-949f-3fbbfc9f2513 | Error      | sample       | [{'title': 'Value not permitted', 'description': '[Demo_sampleFIXED.tsv: line 56] \"RNA\" is not a permissible value for property “sample_type”.'}]                                                                                                                                                                                                                                                                                                                                                                                                                                                                                                                                                                                                                                                                                     |\n",
       "|   9 | 4ce43a10-4669-40ce-949f-3fbbfc9f2513 | Error      | sample       | [{'title': 'Value not permitted', 'description': '[Demo_sampleFIXED.tsv: line 9] \"DNA\" is not a permissible value for property “sample_type”.'}]                                                                                                                                                                                                                                                                                                                                                                                                                                                                                                                                                                                                                                                                                      |\n",
       "|  10 | 4ce43a10-4669-40ce-949f-3fbbfc9f2513 | Error      | sample       | [{'title': 'Value not permitted', 'description': '[Demo_sampleFIXED.tsv: line 6] \"RNA\" is not a permissible value for property “sample_type”.'}]                                                                                                                                                                                                                                                                                                                                                                                                                                                                                                                                                                                                                                                                                      |\n",
       "|  11 | 4ce43a10-4669-40ce-949f-3fbbfc9f2513 | Error      | sample       | [{'title': 'Value not permitted', 'description': '[Demo_sampleFIXED.tsv: line 95] \"DNA\" is not a permissible value for property “sample_type”.'}]                                                                                                                                                                                                                                                                                                                                                                                                                                                                                                                                                                                                                                                                                     |\n",
       "|  12 | 4ce43a10-4669-40ce-949f-3fbbfc9f2513 | Error      | sample       | [{'title': 'Value not permitted', 'description': '[Demo_sampleFIXED.tsv: line 94] \"RNA\" is not a permissible value for property “sample_type”.'}]                                                                                                                                                                                                                                                                                                                                                                                                                                                                                                                                                                                                                                                                                     |\n",
       "|  13 | 4ce43a10-4669-40ce-949f-3fbbfc9f2513 | Error      | sample       | [{'title': 'Value not permitted', 'description': '[Demo_sampleFIXED.tsv: line 91] \"DNA\" is not a permissible value for property “sample_type”.'}]                                                                                                                                                                                                                                                                                                                                                                                                                                                                                                                                                                                                                                                                                     |\n",
       "|  14 | 4ce43a10-4669-40ce-949f-3fbbfc9f2513 | Error      | sample       | [{'title': 'Value not permitted', 'description': '[Demo_sampleFIXED.tsv: line 55] \"RNA\" is not a permissible value for property “sample_type”.'}]                                                                                                                                                                                                                                                                                                                                                                                                                                                                                                                                                                                                                                                                                     |\n",
       "|  15 | 4ce43a10-4669-40ce-949f-3fbbfc9f2513 | Error      | sample       | [{'title': 'Value not permitted', 'description': '[Demo_sampleFIXED.tsv: line 90] \"DNA\" is not a permissible value for property “sample_type”.'}]                                                                                                                                                                                                                                                                                                                                                                                                                                                                                                                                                                                                                                                                                     |\n",
       "|  16 | 4ce43a10-4669-40ce-949f-3fbbfc9f2513 | Error      | sample       | [{'title': 'Value not permitted', 'description': '[Demo_sampleFIXED.tsv: line 54] \"RNA\" is not a permissible value for property “sample_type”.'}]                                                                                                                                                                                                                                                                                                                                                                                                                                                                                                                                                                                                                                                                                     |\n",
       "|  17 | 4ce43a10-4669-40ce-949f-3fbbfc9f2513 | Error      | sample       | [{'title': 'Value not permitted', 'description': '[Demo_sampleFIXED.tsv: line 8] \"DNA\" is not a permissible value for property “sample_type”.'}]                                                                                                                                                                                                                                                                                                                                                                                                                                                                                                                                                                                                                                                                                      |\n",
       "|  18 | 4ce43a10-4669-40ce-949f-3fbbfc9f2513 | Error      | sample       | [{'title': 'Value not permitted', 'description': '[Demo_sampleFIXED.tsv: line 5] \"RNA\" is not a permissible value for property “sample_type”.'}]                                                                                                                                                                                                                                                                                                                                                                                                                                                                                                                                                                                                                                                                                      |\n",
       "|  19 | 4ce43a10-4669-40ce-949f-3fbbfc9f2513 | Error      | sample       | [{'title': 'Value not permitted', 'description': '[Demo_sampleFIXED.tsv: line 89] \"DNA\" is not a permissible value for property “sample_type”.'}]                                                                                                                                                                                                                                                                                                                                                                                                                                                                                                                                                                                                                                                                                     |\n",
       "|  20 | 4ce43a10-4669-40ce-949f-3fbbfc9f2513 | Error      | sample       | [{'title': 'Value not permitted', 'description': '[Demo_sampleFIXED.tsv: line 53] \"RNA\" is not a permissible value for property “sample_type”.'}]                                                                                                                                                                                                                                                                                                                                                                                                                                                                                                                                                                                                                                                                                     |\n",
       "|  21 | 4ce43a10-4669-40ce-949f-3fbbfc9f2513 | Error      | sample       | [{'title': 'Value not permitted', 'description': '[Demo_sampleFIXED.tsv: line 88] \"DNA\" is not a permissible value for property “sample_type”.'}]                                                                                                                                                                                                                                                                                                                                                                                                                                                                                                                                                                                                                                                                                     |\n",
       "|  22 | 4ce43a10-4669-40ce-949f-3fbbfc9f2513 | Error      | sample       | [{'title': 'Value not permitted', 'description': '[Demo_sampleFIXED.tsv: line 52] \"RNA\" is not a permissible value for property “sample_type”.'}]                                                                                                                                                                                                                                                                                                                                                                                                                                                                                                                                                                                                                                                                                     |\n",
       "|  23 | 4ce43a10-4669-40ce-949f-3fbbfc9f2513 | Error      | sample       | [{'title': 'Value not permitted', 'description': '[Demo_sampleFIXED.tsv: line 18] \"DNA\" is not a permissible value for property “sample_type”.'}]                                                                                                                                                                                                                                                                                                                                                                                                                                                                                                                                                                                                                                                                                     |\n",
       "|  24 | 4ce43a10-4669-40ce-949f-3fbbfc9f2513 | Error      | sample       | [{'title': 'Value not permitted', 'description': '[Demo_sampleFIXED.tsv: line 15] \"RNA\" is not a permissible value for property “sample_type”.'}]                                                                                                                                                                                                                                                                                                                                                                                                                                                                                                                                                                                                                                                                                     |\n",
       "|  25 | 4ce43a10-4669-40ce-949f-3fbbfc9f2513 | Error      | sample       | [{'title': 'Value not permitted', 'description': '[Demo_sampleFIXED.tsv: line 19] \"DNA\" is not a permissible value for property “sample_type”.'}]                                                                                                                                                                                                                                                                                                                                                                                                                                                                                                                                                                                                                                                                                     |\n",
       "|  26 | 4ce43a10-4669-40ce-949f-3fbbfc9f2513 | Error      | sample       | [{'title': 'Value not permitted', 'description': '[Demo_sampleFIXED.tsv: line 16] \"RNA\" is not a permissible value for property “sample_type”.'}]                                                                                                                                                                                                                                                                                                                                                                                                                                                                                                                                                                                                                                                                                     |\n",
       "|  27 | 4ce43a10-4669-40ce-949f-3fbbfc9f2513 | Error      | sample       | [{'title': 'Value not permitted', 'description': '[Demo_sampleFIXED.tsv: line 51] \"RNA\" is not a permissible value for property “sample_type”.'}]                                                                                                                                                                                                                                                                                                                                                                                                                                                                                                                                                                                                                                                                                     |\n",
       "|  28 | 4ce43a10-4669-40ce-949f-3fbbfc9f2513 | Error      | sample       | [{'title': 'Value not permitted', 'description': '[Demo_sampleFIXED.tsv: line 50] \"RNA\" is not a permissible value for property “sample_type”.'}]                                                                                                                                                                                                                                                                                                                                                                                                                                                                                                                                                                                                                                                                                     |\n",
       "|  29 | 4ce43a10-4669-40ce-949f-3fbbfc9f2513 | Error      | sample       | [{'title': 'Value not permitted', 'description': '[Demo_sampleFIXED.tsv: line 87] \"DNA\" is not a permissible value for property “sample_type”.'}]                                                                                                                                                                                                                                                                                                                                                                                                                                                                                                                                                                                                                                                                                     |\n",
       "|  30 | 4ce43a10-4669-40ce-949f-3fbbfc9f2513 | Error      | sample       | [{'title': 'Value not permitted', 'description': '[Demo_sampleFIXED.tsv: line 131] \"RNA\" is not a permissible value for property “sample_type”.'}]                                                                                                                                                                                                                                                                                                                                                                                                                                                                                                                                                                                                                                                                                    |\n",
       "|  31 | 4ce43a10-4669-40ce-949f-3fbbfc9f2513 | Error      | sample       | [{'title': 'Value not permitted', 'description': '[Demo_sampleFIXED.tsv: line 12] \"DNA\" is not a permissible value for property “sample_type”.'}]                                                                                                                                                                                                                                                                                                                                                                                                                                                                                                                                                                                                                                                                                     |\n",
       "|  32 | 4ce43a10-4669-40ce-949f-3fbbfc9f2513 | Error      | sample       | [{'title': 'Value not permitted', 'description': '[Demo_sampleFIXED.tsv: line 10] \"RNA\" is not a permissible value for property “sample_type”.'}]                                                                                                                                                                                                                                                                                                                                                                                                                                                                                                                                                                                                                                                                                     |\n",
       "|  33 | 4ce43a10-4669-40ce-949f-3fbbfc9f2513 | Error      | sample       | [{'title': 'Value not permitted', 'description': '[Demo_sampleFIXED.tsv: line 11] \"RNA\" is not a permissible value for property “sample_type”.'}]                                                                                                                                                                                                                                                                                                                                                                                                                                                                                                                                                                                                                                                                                     |\n",
       "|  34 | 4ce43a10-4669-40ce-949f-3fbbfc9f2513 | Error      | sample       | [{'title': 'Value not permitted', 'description': '[Demo_sampleFIXED.tsv: line 13] \"DNA\" is not a permissible value for property “sample_type”.'}]                                                                                                                                                                                                                                                                                                                                                                                                                                                                                                                                                                                                                                                                                     |\n",
       "|  35 | 4ce43a10-4669-40ce-949f-3fbbfc9f2513 | Error      | sample       | [{'title': 'Value not permitted', 'description': '[Demo_sampleFIXED.tsv: line 148] \"RNA\" is not a permissible value for property “sample_type”.'}]                                                                                                                                                                                                                                                                                                                                                                                                                                                                                                                                                                                                                                                                                    |\n",
       "|  36 | 4ce43a10-4669-40ce-949f-3fbbfc9f2513 | Error      | sample       | [{'title': 'Value not permitted', 'description': '[Demo_sampleFIXED.tsv: line 136] \"DNA\" is not a permissible value for property “sample_type”.'}]                                                                                                                                                                                                                                                                                                                                                                                                                                                                                                                                                                                                                                                                                    |\n",
       "|  37 | 4ce43a10-4669-40ce-949f-3fbbfc9f2513 | Error      | sample       | [{'title': 'Value not permitted', 'description': '[Demo_sampleFIXED.tsv: line 135] \"RNA\" is not a permissible value for property “sample_type”.'}]                                                                                                                                                                                                                                                                                                                                                                                                                                                                                                                                                                                                                                                                                    |\n",
       "|  38 | 4ce43a10-4669-40ce-949f-3fbbfc9f2513 | Error      | sample       | [{'title': 'Value not permitted', 'description': '[Demo_sampleFIXED.tsv: line 140] \"DNA\" is not a permissible value for property “sample_type”.'}]                                                                                                                                                                                                                                                                                                                                                                                                                                                                                                                                                                                                                                                                                    |\n",
       "|  39 | 4ce43a10-4669-40ce-949f-3fbbfc9f2513 | Error      | sample       | [{'title': 'Value not permitted', 'description': '[Demo_sampleFIXED.tsv: line 137] \"RNA\" is not a permissible value for property “sample_type”.'}]                                                                                                                                                                                                                                                                                                                                                                                                                                                                                                                                                                                                                                                                                    |\n",
       "|  40 | 4ce43a10-4669-40ce-949f-3fbbfc9f2513 | Error      | sample       | [{'title': 'Value not permitted', 'description': '[Demo_sampleFIXED.tsv: line 157] \"DNA\" is not a permissible value for property “sample_type”.'}]                                                                                                                                                                                                                                                                                                                                                                                                                                                                                                                                                                                                                                                                                    |\n",
       "|  41 | 4ce43a10-4669-40ce-949f-3fbbfc9f2513 | Error      | sample       | [{'title': 'Value not permitted', 'description': '[Demo_sampleFIXED.tsv: line 156] \"RNA\" is not a permissible value for property “sample_type”.'}]                                                                                                                                                                                                                                                                                                                                                                                                                                                                                                                                                                                                                                                                                    |\n",
       "|  42 | 4ce43a10-4669-40ce-949f-3fbbfc9f2513 | Error      | sample       | [{'title': 'Value not permitted', 'description': '[Demo_sampleFIXED.tsv: line 132] \"DNA\" is not a permissible value for property “sample_type”.'}]                                                                                                                                                                                                                                                                                                                                                                                                                                                                                                                                                                                                                                                                                    |\n",
       "|  43 | 4ce43a10-4669-40ce-949f-3fbbfc9f2513 | Error      | sample       | [{'title': 'Value not permitted', 'description': '[Demo_sampleFIXED.tsv: line 130] \"RNA\" is not a permissible value for property “sample_type”.'}]                                                                                                                                                                                                                                                                                                                                                                                                                                                                                                                                                                                                                                                                                    |\n",
       "|  44 | 4ce43a10-4669-40ce-949f-3fbbfc9f2513 | Error      | sample       | [{'title': 'Value not permitted', 'description': '[Demo_sampleFIXED.tsv: line 134] \"RNA\" is not a permissible value for property “sample_type”.'}]                                                                                                                                                                                                                                                                                                                                                                                                                                                                                                                                                                                                                                                                                    |\n",
       "|  45 | 4ce43a10-4669-40ce-949f-3fbbfc9f2513 | Error      | sample       | [{'title': 'Value not permitted', 'description': '[Demo_sampleFIXED.tsv: line 85] \"DNA\" is not a permissible value for property “sample_type”.'}]                                                                                                                                                                                                                                                                                                                                                                                                                                                                                                                                                                                                                                                                                     |\n",
       "|  46 | 4ce43a10-4669-40ce-949f-3fbbfc9f2513 | Error      | sample       | [{'title': 'Value not permitted', 'description': '[Demo_sampleFIXED.tsv: line 48] \"RNA\" is not a permissible value for property “sample_type”.'}]                                                                                                                                                                                                                                                                                                                                                                                                                                                                                                                                                                                                                                                                                     |\n",
       "|  47 | 4ce43a10-4669-40ce-949f-3fbbfc9f2513 | Error      | sample       | [{'title': 'Value not permitted', 'description': '[Demo_sampleFIXED.tsv: line 86] \"DNA\" is not a permissible value for property “sample_type”.'}]                                                                                                                                                                                                                                                                                                                                                                                                                                                                                                                                                                                                                                                                                     |\n",
       "|  48 | 4ce43a10-4669-40ce-949f-3fbbfc9f2513 | Error      | sample       | [{'title': 'Value not permitted', 'description': '[Demo_sampleFIXED.tsv: line 49] \"RNA\" is not a permissible value for property “sample_type”.'}]                                                                                                                                                                                                                                                                                                                                                                                                                                                                                                                                                                                                                                                                                     |\n",
       "|  49 | 4ce43a10-4669-40ce-949f-3fbbfc9f2513 | Error      | sample       | [{'title': 'Value not permitted', 'description': '[Demo_sampleFIXED.tsv: line 84] \"DNA\" is not a permissible value for property “sample_type”.'}]                                                                                                                                                                                                                                                                                                                                                                                                                                                                                                                                                                                                                                                                                     |\n",
       "|  50 | 4ce43a10-4669-40ce-949f-3fbbfc9f2513 | Error      | sample       | [{'title': 'Value not permitted', 'description': '[Demo_sampleFIXED.tsv: line 47] \"RNA\" is not a permissible value for property “sample_type”.'}]                                                                                                                                                                                                                                                                                                                                                                                                                                                                                                                                                                                                                                                                                     |\n",
       "|  51 | 4ce43a10-4669-40ce-949f-3fbbfc9f2513 | Error      | sample       | [{'title': 'Value not permitted', 'description': '[Demo_sampleFIXED.tsv: line 118] \"DNA\" is not a permissible value for property “sample_type”.'}]                                                                                                                                                                                                                                                                                                                                                                                                                                                                                                                                                                                                                                                                                    |\n",
       "|  52 | 4ce43a10-4669-40ce-949f-3fbbfc9f2513 | Error      | sample       | [{'title': 'Value not permitted', 'description': '[Demo_sampleFIXED.tsv: line 105] \"RNA\" is not a permissible value for property “sample_type”.'}]                                                                                                                                                                                                                                                                                                                                                                                                                                                                                                                                                                                                                                                                                    |\n",
       "|  53 | 4ce43a10-4669-40ce-949f-3fbbfc9f2513 | Error      | sample       | [{'title': 'Value not permitted', 'description': '[Demo_sampleFIXED.tsv: line 119] \"DNA\" is not a permissible value for property “sample_type”.'}]                                                                                                                                                                                                                                                                                                                                                                                                                                                                                                                                                                                                                                                                                    |\n",
       "|  54 | 4ce43a10-4669-40ce-949f-3fbbfc9f2513 | Error      | sample       | [{'title': 'Value not permitted', 'description': '[Demo_sampleFIXED.tsv: line 106] \"RNA\" is not a permissible value for property “sample_type”.'}]                                                                                                                                                                                                                                                                                                                                                                                                                                                                                                                                                                                                                                                                                    |\n",
       "|  55 | 4ce43a10-4669-40ce-949f-3fbbfc9f2513 | Error      | sample       | [{'title': 'Value not permitted', 'description': '[Demo_sampleFIXED.tsv: line 120] \"RNA\" is not a permissible value for property “sample_type”.'}]                                                                                                                                                                                                                                                                                                                                                                                                                                                                                                                                                                                                                                                                                    |\n",
       "|  56 | 4ce43a10-4669-40ce-949f-3fbbfc9f2513 | Error      | sample       | [{'title': 'Value not permitted', 'description': '[Demo_sampleFIXED.tsv: line 121] \"DNA\" is not a permissible value for property “sample_type”.'}]                                                                                                                                                                                                                                                                                                                                                                                                                                                                                                                                                                                                                                                                                    |\n",
       "|  57 | 4ce43a10-4669-40ce-949f-3fbbfc9f2513 | Error      | sample       | [{'title': 'Value not permitted', 'description': '[Demo_sampleFIXED.tsv: line 83] \"DNA\" is not a permissible value for property “sample_type”.'}]                                                                                                                                                                                                                                                                                                                                                                                                                                                                                                                                                                                                                                                                                     |\n",
       "|  58 | 4ce43a10-4669-40ce-949f-3fbbfc9f2513 | Error      | sample       | [{'title': 'Value not permitted', 'description': '[Demo_sampleFIXED.tsv: line 46] \"RNA\" is not a permissible value for property “sample_type”.'}]                                                                                                                                                                                                                                                                                                                                                                                                                                                                                                                                                                                                                                                                                     |\n",
       "|  59 | 4ce43a10-4669-40ce-949f-3fbbfc9f2513 | Error      | sample       | [{'title': 'Value not permitted', 'description': '[Demo_sampleFIXED.tsv: line 82] \"DNA\" is not a permissible value for property “sample_type”.'}]                                                                                                                                                                                                                                                                                                                                                                                                                                                                                                                                                                                                                                                                                     |\n",
       "|  60 | 4ce43a10-4669-40ce-949f-3fbbfc9f2513 | Error      | sample       | [{'title': 'Value not permitted', 'description': '[Demo_sampleFIXED.tsv: line 45] \"RNA\" is not a permissible value for property “sample_type”.'}]                                                                                                                                                                                                                                                                                                                                                                                                                                                                                                                                                                                                                                                                                     |\n",
       "|  61 | 4ce43a10-4669-40ce-949f-3fbbfc9f2513 | Error      | sample       | [{'title': 'Value not permitted', 'description': '[Demo_sampleFIXED.tsv: line 81] \"DNA\" is not a permissible value for property “sample_type”.'}]                                                                                                                                                                                                                                                                                                                                                                                                                                                                                                                                                                                                                                                                                     |\n",
       "|  62 | 4ce43a10-4669-40ce-949f-3fbbfc9f2513 | Error      | sample       | [{'title': 'Value not permitted', 'description': '[Demo_sampleFIXED.tsv: line 44] \"RNA\" is not a permissible value for property “sample_type”.'}]                                                                                                                                                                                                                                                                                                                                                                                                                                                                                                                                                                                                                                                                                     |\n",
       "|  63 | 4ce43a10-4669-40ce-949f-3fbbfc9f2513 | Error      | sample       | [{'title': 'Value not permitted', 'description': '[Demo_sampleFIXED.tsv: line 80] \"DNA\" is not a permissible value for property “sample_type”.'}]                                                                                                                                                                                                                                                                                                                                                                                                                                                                                                                                                                                                                                                                                     |\n",
       "|  64 | 4ce43a10-4669-40ce-949f-3fbbfc9f2513 | Error      | sample       | [{'title': 'Value not permitted', 'description': '[Demo_sampleFIXED.tsv: line 43] \"RNA\" is not a permissible value for property “sample_type”.'}]                                                                                                                                                                                                                                                                                                                                                                                                                                                                                                                                                                                                                                                                                     |\n",
       "|  65 | 4ce43a10-4669-40ce-949f-3fbbfc9f2513 | Error      | sample       | [{'title': 'Value not permitted', 'description': '[Demo_sampleFIXED.tsv: line 79] \"DNA\" is not a permissible value for property “sample_type”.'}]                                                                                                                                                                                                                                                                                                                                                                                                                                                                                                                                                                                                                                                                                     |\n",
       "|  66 | 4ce43a10-4669-40ce-949f-3fbbfc9f2513 | Error      | sample       | [{'title': 'Value not permitted', 'description': '[Demo_sampleFIXED.tsv: line 78] \"DNA\" is not a permissible value for property “sample_type”.'}]                                                                                                                                                                                                                                                                                                                                                                                                                                                                                                                                                                                                                                                                                     |\n",
       "|  67 | 4ce43a10-4669-40ce-949f-3fbbfc9f2513 | Error      | sample       | [{'title': 'Value not permitted', 'description': '[Demo_sampleFIXED.tsv: line 42] \"RNA\" is not a permissible value for property “sample_type”.'}]                                                                                                                                                                                                                                                                                                                                                                                                                                                                                                                                                                                                                                                                                     |\n",
       "|  68 | 4ce43a10-4669-40ce-949f-3fbbfc9f2513 | Error      | sample       | [{'title': 'Value not permitted', 'description': '[Demo_sampleFIXED.tsv: line 41] \"RNA\" is not a permissible value for property “sample_type”.'}]                                                                                                                                                                                                                                                                                                                                                                                                                                                                                                                                                                                                                                                                                     |\n",
       "|  69 | 4ce43a10-4669-40ce-949f-3fbbfc9f2513 | Error      | sample       | [{'title': 'Value not permitted', 'description': '[Demo_sampleFIXED.tsv: line 77] \"DNA\" is not a permissible value for property “sample_type”.'}]                                                                                                                                                                                                                                                                                                                                                                                                                                                                                                                                                                                                                                                                                     |\n",
       "|  70 | 4ce43a10-4669-40ce-949f-3fbbfc9f2513 | Error      | sample       | [{'title': 'Value not permitted', 'description': '[Demo_sampleFIXED.tsv: line 40] \"RNA\" is not a permissible value for property “sample_type”.'}]                                                                                                                                                                                                                                                                                                                                                                                                                                                                                                                                                                                                                                                                                     |\n",
       "|  71 | 4ce43a10-4669-40ce-949f-3fbbfc9f2513 | Error      | sample       | [{'title': 'Value not permitted', 'description': '[Demo_sampleFIXED.tsv: line 123] \"DNA\" is not a permissible value for property “sample_type”.'}]                                                                                                                                                                                                                                                                                                                                                                                                                                                                                                                                                                                                                                                                                    |\n",
       "|  72 | 4ce43a10-4669-40ce-949f-3fbbfc9f2513 | Error      | sample       | [{'title': 'Value not permitted', 'description': '[Demo_sampleFIXED.tsv: line 122] \"RNA\" is not a permissible value for property “sample_type”.'}]                                                                                                                                                                                                                                                                                                                                                                                                                                                                                                                                                                                                                                                                                    |\n",
       "|  73 | 4ce43a10-4669-40ce-949f-3fbbfc9f2513 | Error      | sample       | [{'title': 'Value not permitted', 'description': '[Demo_sampleFIXED.tsv: line 39] \"RNA\" is not a permissible value for property “sample_type”.'}]                                                                                                                                                                                                                                                                                                                                                                                                                                                                                                                                                                                                                                                                                     |\n",
       "|  74 | 4ce43a10-4669-40ce-949f-3fbbfc9f2513 | Error      | sample       | [{'title': 'Value not permitted', 'description': '[Demo_sampleFIXED.tsv: line 20] \"DNA\" is not a permissible value for property “sample_type”.'}, {'title': 'Many-to-one relationship conflict', 'description': '\"[Demo_sampleFIXED.tsv: line 20]\": associated with multiple “participant” nodes: [\"79NTL6\", \"G04XZJ\"].'}]                                                                                                                                                                                                                                                                                                                                                                                                                                                                                                            |\n",
       "|  75 | 4ce43a10-4669-40ce-949f-3fbbfc9f2513 | Error      | sample       | [{'title': 'Value not permitted', 'description': '[Demo_sampleFIXED.tsv: line 75] \"DNA\" is not a permissible value for property “sample_type”.'}]                                                                                                                                                                                                                                                                                                                                                                                                                                                                                                                                                                                                                                                                                     |\n",
       "|  76 | 4ce43a10-4669-40ce-949f-3fbbfc9f2513 | Error      | sample       | [{'title': 'Value not permitted', 'description': '[Demo_sampleFIXED.tsv: line 38] \"RNA\" is not a permissible value for property “sample_type”.'}]                                                                                                                                                                                                                                                                                                                                                                                                                                                                                                                                                                                                                                                                                     |\n",
       "|  77 | 4ce43a10-4669-40ce-949f-3fbbfc9f2513 | Error      | sample       | [{'title': 'Value not permitted', 'description': '[Demo_sampleFIXED.tsv: line 74] \"DNA\" is not a permissible value for property “sample_type”.'}]                                                                                                                                                                                                                                                                                                                                                                                                                                                                                                                                                                                                                                                                                     |\n",
       "|  78 | 4ce43a10-4669-40ce-949f-3fbbfc9f2513 | Error      | sample       | [{'title': 'Value not permitted', 'description': '[Demo_sampleFIXED.tsv: line 73] \"DNA\" is not a permissible value for property “sample_type”.'}]                                                                                                                                                                                                                                                                                                                                                                                                                                                                                                                                                                                                                                                                                     |\n",
       "|  79 | 4ce43a10-4669-40ce-949f-3fbbfc9f2513 | Error      | sample       | [{'title': 'Value not permitted', 'description': '[Demo_sampleFIXED.tsv: line 37] \"RNA\" is not a permissible value for property “sample_type”.'}]                                                                                                                                                                                                                                                                                                                                                                                                                                                                                                                                                                                                                                                                                     |\n",
       "|  80 | 4ce43a10-4669-40ce-949f-3fbbfc9f2513 | Error      | sample       | [{'title': 'Value not permitted', 'description': '[Demo_sampleFIXED.tsv: line 72] \"DNA\" is not a permissible value for property “sample_type”.'}]                                                                                                                                                                                                                                                                                                                                                                                                                                                                                                                                                                                                                                                                                     |\n",
       "|  81 | 4ce43a10-4669-40ce-949f-3fbbfc9f2513 | Error      | sample       | [{'title': 'Value not permitted', 'description': '[Demo_sampleFIXED.tsv: line 36] \"RNA\" is not a permissible value for property “sample_type”.'}]                                                                                                                                                                                                                                                                                                                                                                                                                                                                                                                                                                                                                                                                                     |\n",
       "|  82 | 4ce43a10-4669-40ce-949f-3fbbfc9f2513 | Error      | sample       | [{'title': 'Value not permitted', 'description': '[Demo_sampleFIXED.tsv: line 17] \"DNA\" is not a permissible value for property “sample_type”.'}]                                                                                                                                                                                                                                                                                                                                                                                                                                                                                                                                                                                                                                                                                     |\n",
       "|  83 | 4ce43a10-4669-40ce-949f-3fbbfc9f2513 | Error      | sample       | [{'title': 'Value not permitted', 'description': '[Demo_sampleFIXED.tsv: line 14] \"RNA\" is not a permissible value for property “sample_type”.'}]                                                                                                                                                                                                                                                                                                                                                                                                                                                                                                                                                                                                                                                                                     |\n",
       "|  84 | 4ce43a10-4669-40ce-949f-3fbbfc9f2513 | Error      | sample       | [{'title': 'Value not permitted', 'description': '[Demo_sampleFIXED.tsv: line 129] \"DNA\" is not a permissible value for property “sample_type”.'}]                                                                                                                                                                                                                                                                                                                                                                                                                                                                                                                                                                                                                                                                                    |\n",
       "|  85 | 4ce43a10-4669-40ce-949f-3fbbfc9f2513 | Error      | sample       | [{'title': 'Value not permitted', 'description': '[Demo_sampleFIXED.tsv: line 127] \"RNA\" is not a permissible value for property “sample_type”.'}]                                                                                                                                                                                                                                                                                                                                                                                                                                                                                                                                                                                                                                                                                    |\n",
       "|  86 | 4ce43a10-4669-40ce-949f-3fbbfc9f2513 | Error      | sample       | [{'title': 'Value not permitted', 'description': '[Demo_sampleFIXED.tsv: line 128] \"DNA\" is not a permissible value for property “sample_type”.'}]                                                                                                                                                                                                                                                                                                                                                                                                                                                                                                                                                                                                                                                                                    |\n",
       "|  87 | 4ce43a10-4669-40ce-949f-3fbbfc9f2513 | Error      | sample       | [{'title': 'Value not permitted', 'description': '[Demo_sampleFIXED.tsv: line 125] \"RNA\" is not a permissible value for property “sample_type”.'}]                                                                                                                                                                                                                                                                                                                                                                                                                                                                                                                                                                                                                                                                                    |\n",
       "|  88 | 4ce43a10-4669-40ce-949f-3fbbfc9f2513 | Error      | sample       | [{'title': 'Value not permitted', 'description': '[Demo_sampleFIXED.tsv: line 126] \"RNA\" is not a permissible value for property “sample_type”.'}]                                                                                                                                                                                                                                                                                                                                                                                                                                                                                                                                                                                                                                                                                    |\n",
       "|  89 | 4ce43a10-4669-40ce-949f-3fbbfc9f2513 | Error      | sample       | [{'title': 'Value not permitted', 'description': '[Demo_sampleFIXED.tsv: line 124] \"DNA\" is not a permissible value for property “sample_type”.'}]                                                                                                                                                                                                                                                                                                                                                                                                                                                                                                                                                                                                                                                                                    |\n",
       "|  90 | 4ce43a10-4669-40ce-949f-3fbbfc9f2513 | Error      | sample       | [{'title': 'Value not permitted', 'description': '[Demo_sampleFIXED.tsv: line 117] \"DNA\" is not a permissible value for property “sample_type”.'}]                                                                                                                                                                                                                                                                                                                                                                                                                                                                                                                                                                                                                                                                                    |\n",
       "|  91 | 4ce43a10-4669-40ce-949f-3fbbfc9f2513 | Error      | sample       | [{'title': 'Value not permitted', 'description': '[Demo_sampleFIXED.tsv: line 104] \"RNA\" is not a permissible value for property “sample_type”.'}]                                                                                                                                                                                                                                                                                                                                                                                                                                                                                                                                                                                                                                                                                    |\n",
       "|  92 | 4ce43a10-4669-40ce-949f-3fbbfc9f2513 | Error      | sample       | [{'title': 'Value not permitted', 'description': '[Demo_sampleFIXED.tsv: line 116] \"DNA\" is not a permissible value for property “sample_type”.'}]                                                                                                                                                                                                                                                                                                                                                                                                                                                                                                                                                                                                                                                                                    |\n",
       "|  93 | 4ce43a10-4669-40ce-949f-3fbbfc9f2513 | Error      | sample       | [{'title': 'Value not permitted', 'description': '[Demo_sampleFIXED.tsv: line 103] \"RNA\" is not a permissible value for property “sample_type”.'}]                                                                                                                                                                                                                                                                                                                                                                                                                                                                                                                                                                                                                                                                                    |\n",
       "|  94 | 4ce43a10-4669-40ce-949f-3fbbfc9f2513 | Error      | sample       | [{'title': 'Value not permitted', 'description': '[Demo_sampleFIXED.tsv: line 102] \"RNA\" is not a permissible value for property “sample_type”.'}]                                                                                                                                                                                                                                                                                                                                                                                                                                                                                                                                                                                                                                                                                    |\n",
       "|  95 | 4ce43a10-4669-40ce-949f-3fbbfc9f2513 | Error      | sample       | [{'title': 'Value not permitted', 'description': '[Demo_sampleFIXED.tsv: line 115] \"DNA\" is not a permissible value for property “sample_type”.'}]                                                                                                                                                                                                                                                                                                                                                                                                                                                                                                                                                                                                                                                                                    |\n",
       "|  96 | 4ce43a10-4669-40ce-949f-3fbbfc9f2513 | Error      | sample       | [{'title': 'Value not permitted', 'description': '[Demo_sampleFIXED.tsv: line 113] \"DNA\" is not a permissible value for property “sample_type”.'}, {'title': 'Many-to-one relationship conflict', 'description': '\"[Demo_sampleFIXED.tsv: line 113]\": associated with multiple “participant” nodes: [\"3BW6YS\", \"Y0T0JD\"].'}]                                                                                                                                                                                                                                                                                                                                                                                                                                                                                                          |\n",
       "|  97 | 4ce43a10-4669-40ce-949f-3fbbfc9f2513 | Error      | sample       | [{'title': 'Value not permitted', 'description': '[Demo_sampleFIXED.tsv: line 101] \"RNA\" is not a permissible value for property “sample_type”.'}]                                                                                                                                                                                                                                                                                                                                                                                                                                                                                                                                                                                                                                                                                    |\n",
       "|  98 | 4ce43a10-4669-40ce-949f-3fbbfc9f2513 | Error      | sample       | [{'title': 'Value not permitted', 'description': '[Demo_sampleFIXED.tsv: line 112] \"DNA\" is not a permissible value for property “sample_type”.'}]                                                                                                                                                                                                                                                                                                                                                                                                                                                                                                                                                                                                                                                                                    |\n",
       "|  99 | 4ce43a10-4669-40ce-949f-3fbbfc9f2513 | Error      | sample       | [{'title': 'Value not permitted', 'description': '[Demo_sampleFIXED.tsv: line 100] \"RNA\" is not a permissible value for property “sample_type”.'}]                                                                                                                                                                                                                                                                                                                                                                                                                                                                                                                                                                                                                                                                                    |\n",
       "| 100 | 4ce43a10-4669-40ce-949f-3fbbfc9f2513 | Error      | sample       | [{'title': 'Value not permitted', 'description': '[Demo_sampleFIXED.tsv: line 111] \"DNA\" is not a permissible value for property “sample_type”.'}]                                                                                                                                                                                                                                                                                                                                                                                                                                                                                                                                                                                                                                                                                    |\n",
       "| 101 | 4ce43a10-4669-40ce-949f-3fbbfc9f2513 | Error      | sample       | [{'title': 'Value not permitted', 'description': '[Demo_sampleFIXED.tsv: line 110] \"DNA\" is not a permissible value for property “sample_type”.'}]                                                                                                                                                                                                                                                                                                                                                                                                                                                                                                                                                                                                                                                                                    |\n",
       "| 102 | 4ce43a10-4669-40ce-949f-3fbbfc9f2513 | Error      | sample       | [{'title': 'Value not permitted', 'description': '[Demo_sampleFIXED.tsv: line 99] \"RNA\" is not a permissible value for property “sample_type”.'}]                                                                                                                                                                                                                                                                                                                                                                                                                                                                                                                                                                                                                                                                                     |\n",
       "| 103 | 4ce43a10-4669-40ce-949f-3fbbfc9f2513 | Error      | sample       | [{'title': 'Value not permitted', 'description': '[Demo_sampleFIXED.tsv: line 98] \"RNA\" is not a permissible value for property “sample_type”.'}]                                                                                                                                                                                                                                                                                                                                                                                                                                                                                                                                                                                                                                                                                     |\n",
       "| 104 | 4ce43a10-4669-40ce-949f-3fbbfc9f2513 | Error      | sample       | [{'title': 'Value not permitted', 'description': '[Demo_sampleFIXED.tsv: line 109] \"DNA\" is not a permissible value for property “sample_type”.'}]                                                                                                                                                                                                                                                                                                                                                                                                                                                                                                                                                                                                                                                                                    |\n",
       "| 105 | 4ce43a10-4669-40ce-949f-3fbbfc9f2513 | Error      | sample       | [{'title': 'Value not permitted', 'description': '[Demo_sampleFIXED.tsv: line 97] \"RNA\" is not a permissible value for property “sample_type”.'}]                                                                                                                                                                                                                                                                                                                                                                                                                                                                                                                                                                                                                                                                                     |\n",
       "| 106 | 4ce43a10-4669-40ce-949f-3fbbfc9f2513 | Error      | sample       | [{'title': 'Value not permitted', 'description': '[Demo_sampleFIXED.tsv: line 107] \"DNA\" is not a permissible value for property “sample_type”.'}, {'title': 'Many-to-one relationship conflict', 'description': '\"[Demo_sampleFIXED.tsv: line 107]\": associated with multiple “participant” nodes: [\"SUCWJ9\", \"0RR2HE\"].'}]                                                                                                                                                                                                                                                                                                                                                                                                                                                                                                          |\n",
       "| 107 | 4ce43a10-4669-40ce-949f-3fbbfc9f2513 | Error      | sample       | [{'title': 'Value not permitted', 'description': '[Demo_sampleFIXED.tsv: line 96] \"RNA\" is not a permissible value for property “sample_type”.'}]                                                                                                                                                                                                                                                                                                                                                                                                                                                                                                                                                                                                                                                                                     |\n",
       "| 108 | 4ce43a10-4669-40ce-949f-3fbbfc9f2513 | Error      | sample       | [{'title': 'Value not permitted', 'description': '[Demo_sampleFIXED.tsv: line 7] \"DNA\" is not a permissible value for property “sample_type”.'}]                                                                                                                                                                                                                                                                                                                                                                                                                                                                                                                                                                                                                                                                                      |\n",
       "| 109 | 4ce43a10-4669-40ce-949f-3fbbfc9f2513 | Error      | sample       | [{'title': 'Value not permitted', 'description': '[Demo_sampleFIXED.tsv: line 4] \"RNA\" is not a permissible value for property “sample_type”.'}]                                                                                                                                                                                                                                                                                                                                                                                                                                                                                                                                                                                                                                                                                      |\n",
       "| 110 | 4ce43a10-4669-40ce-949f-3fbbfc9f2513 | Error      | sample       | [{'title': 'Value not permitted', 'description': '[Demo_sampleFIXED.tsv: line 3] \"DNA\" is not a permissible value for property “sample_type”.'}]                                                                                                                                                                                                                                                                                                                                                                                                                                                                                                                                                                                                                                                                                      |\n",
       "| 111 | 4ce43a10-4669-40ce-949f-3fbbfc9f2513 | Error      | sample       | [{'title': 'Value not permitted', 'description': '[Demo_sampleFIXED.tsv: line 2] \"RNA\" is not a permissible value for property “sample_type”.'}]                                                                                                                                                                                                                                                                                                                                                                                                                                                                                                                                                                                                                                                                                      |\n",
       "| 112 | 4ce43a10-4669-40ce-949f-3fbbfc9f2513 | Error      | sample       | [{'title': 'Value not permitted', 'description': '[Demo_sampleFIXED.tsv: line 154] \"DNA\" is not a permissible value for property “sample_type”.'}]                                                                                                                                                                                                                                                                                                                                                                                                                                                                                                                                                                                                                                                                                    |\n",
       "| 113 | 4ce43a10-4669-40ce-949f-3fbbfc9f2513 | Error      | sample       | [{'title': 'Value not permitted', 'description': '[Demo_sampleFIXED.tsv: line 147] \"RNA\" is not a permissible value for property “sample_type”.'}]                                                                                                                                                                                                                                                                                                                                                                                                                                                                                                                                                                                                                                                                                    |\n",
       "| 114 | 4ce43a10-4669-40ce-949f-3fbbfc9f2513 | Error      | sample       | [{'title': 'Value not permitted', 'description': '[Demo_sampleFIXED.tsv: line 153] \"DNA\" is not a permissible value for property “sample_type”.'}]                                                                                                                                                                                                                                                                                                                                                                                                                                                                                                                                                                                                                                                                                    |\n",
       "| 115 | 4ce43a10-4669-40ce-949f-3fbbfc9f2513 | Error      | sample       | [{'title': 'Value not permitted', 'description': '[Demo_sampleFIXED.tsv: line 146] \"RNA\" is not a permissible value for property “sample_type”.'}]                                                                                                                                                                                                                                                                                                                                                                                                                                                                                                                                                                                                                                                                                    |\n",
       "| 116 | 4ce43a10-4669-40ce-949f-3fbbfc9f2513 | Error      | sample       | [{'title': 'Value not permitted', 'description': '[Demo_sampleFIXED.tsv: line 152] \"DNA\" is not a permissible value for property “sample_type”.'}]                                                                                                                                                                                                                                                                                                                                                                                                                                                                                                                                                                                                                                                                                    |\n",
       "| 117 | 4ce43a10-4669-40ce-949f-3fbbfc9f2513 | Error      | sample       | [{'title': 'Value not permitted', 'description': '[Demo_sampleFIXED.tsv: line 155] \"RNA\" is not a permissible value for property “sample_type”.'}]                                                                                                                                                                                                                                                                                                                                                                                                                                                                                                                                                                                                                                                                                    |\n",
       "| 118 | 4ce43a10-4669-40ce-949f-3fbbfc9f2513 | Error      | sample       | [{'title': 'Value not permitted', 'description': '[Demo_sampleFIXED.tsv: line 145] \"RNA\" is not a permissible value for property “sample_type”.'}]                                                                                                                                                                                                                                                                                                                                                                                                                                                                                                                                                                                                                                                                                    |\n",
       "| 119 | 4ce43a10-4669-40ce-949f-3fbbfc9f2513 | Error      | sample       | [{'title': 'Value not permitted', 'description': '[Demo_sampleFIXED.tsv: line 151] \"DNA\" is not a permissible value for property “sample_type”.'}]                                                                                                                                                                                                                                                                                                                                                                                                                                                                                                                                                                                                                                                                                    |\n",
       "| 120 | 4ce43a10-4669-40ce-949f-3fbbfc9f2513 | Error      | sample       | [{'title': 'Value not permitted', 'description': '[Demo_sampleFIXED.tsv: line 150] \"DNA\" is not a permissible value for property “sample_type”.'}]                                                                                                                                                                                                                                                                                                                                                                                                                                                                                                                                                                                                                                                                                    |\n",
       "| 121 | 4ce43a10-4669-40ce-949f-3fbbfc9f2513 | Error      | sample       | [{'title': 'Value not permitted', 'description': '[Demo_sampleFIXED.tsv: line 144] \"RNA\" is not a permissible value for property “sample_type”.'}]                                                                                                                                                                                                                                                                                                                                                                                                                                                                                                                                                                                                                                                                                    |\n",
       "| 122 | 4ce43a10-4669-40ce-949f-3fbbfc9f2513 | Error      | sample       | [{'title': 'Value not permitted', 'description': '[Demo_sampleFIXED.tsv: line 149] \"DNA\" is not a permissible value for property “sample_type”.'}]                                                                                                                                                                                                                                                                                                                                                                                                                                                                                                                                                                                                                                                                                    |\n",
       "| 123 | 4ce43a10-4669-40ce-949f-3fbbfc9f2513 | Error      | sample       | [{'title': 'Value not permitted', 'description': '[Demo_sampleFIXED.tsv: line 143] \"RNA\" is not a permissible value for property “sample_type”.'}]                                                                                                                                                                                                                                                                                                                                                                                                                                                                                                                                                                                                                                                                                    |\n",
       "| 124 | 4ce43a10-4669-40ce-949f-3fbbfc9f2513 | Error      | sample       | [{'title': 'Value not permitted', 'description': '[Demo_sampleFIXED.tsv: line 71] \"DNA\" is not a permissible value for property “sample_type”.'}]                                                                                                                                                                                                                                                                                                                                                                                                                                                                                                                                                                                                                                                                                     |\n",
       "| 125 | 4ce43a10-4669-40ce-949f-3fbbfc9f2513 | Error      | sample       | [{'title': 'Value not permitted', 'description': '[Demo_sampleFIXED.tsv: line 35] \"RNA\" is not a permissible value for property “sample_type”.'}]                                                                                                                                                                                                                                                                                                                                                                                                                                                                                                                                                                                                                                                                                     |\n",
       "| 126 | 4ce43a10-4669-40ce-949f-3fbbfc9f2513 | Error      | sample       | [{'title': 'Value not permitted', 'description': '[Demo_sampleFIXED.tsv: line 70] \"DNA\" is not a permissible value for property “sample_type”.'}]                                                                                                                                                                                                                                                                                                                                                                                                                                                                                                                                                                                                                                                                                     |\n",
       "| 127 | 4ce43a10-4669-40ce-949f-3fbbfc9f2513 | Error      | sample       | [{'title': 'Value not permitted', 'description': '[Demo_sampleFIXED.tsv: line 21] \"RNA\" is not a permissible value for property “sample_type”.'}]                                                                                                                                                                                                                                                                                                                                                                                                                                                                                                                                                                                                                                                                                     |\n",
       "| 128 | 4ce43a10-4669-40ce-949f-3fbbfc9f2513 | Error      | sample       | [{'title': 'Value not permitted', 'description': '[Demo_sampleFIXED.tsv: line 69] \"DNA\" is not a permissible value for property “sample_type”.'}]                                                                                                                                                                                                                                                                                                                                                                                                                                                                                                                                                                                                                                                                                     |\n",
       "| 129 | 4ce43a10-4669-40ce-949f-3fbbfc9f2513 | Error      | sample       | [{'title': 'Value not permitted', 'description': '[Demo_sampleFIXED.tsv: line 34] \"RNA\" is not a permissible value for property “sample_type”.'}]                                                                                                                                                                                                                                                                                                                                                                                                                                                                                                                                                                                                                                                                                     |\n",
       "| 130 | 4ce43a10-4669-40ce-949f-3fbbfc9f2513 | Error      | sample       | [{'title': 'Value not permitted', 'description': '[Demo_sampleFIXED.tsv: line 33] \"RNA\" is not a permissible value for property “sample_type”.'}]                                                                                                                                                                                                                                                                                                                                                                                                                                                                                                                                                                                                                                                                                     |\n",
       "| 131 | 4ce43a10-4669-40ce-949f-3fbbfc9f2513 | Error      | sample       | [{'title': 'Value not permitted', 'description': '[Demo_sampleFIXED.tsv: line 68] \"DNA\" is not a permissible value for property “sample_type”.'}]                                                                                                                                                                                                                                                                                                                                                                                                                                                                                                                                                                                                                                                                                     |\n",
       "| 132 | 4ce43a10-4669-40ce-949f-3fbbfc9f2513 | Error      | sample       | [{'title': 'Value not permitted', 'description': '[Demo_sampleFIXED.tsv: line 67] \"DNA\" is not a permissible value for property “sample_type”.'}]                                                                                                                                                                                                                                                                                                                                                                                                                                                                                                                                                                                                                                                                                     |\n",
       "| 133 | 4ce43a10-4669-40ce-949f-3fbbfc9f2513 | Error      | sample       | [{'title': 'Value not permitted', 'description': '[Demo_sampleFIXED.tsv: line 32] \"RNA\" is not a permissible value for property “sample_type”.'}]                                                                                                                                                                                                                                                                                                                                                                                                                                                                                                                                                                                                                                                                                     |\n",
       "| 134 | 4ce43a10-4669-40ce-949f-3fbbfc9f2513 | Error      | sample       | [{'title': 'Value not permitted', 'description': '[Demo_sampleFIXED.tsv: line 66] \"DNA\" is not a permissible value for property “sample_type”.'}]                                                                                                                                                                                                                                                                                                                                                                                                                                                                                                                                                                                                                                                                                     |\n",
       "| 135 | 4ce43a10-4669-40ce-949f-3fbbfc9f2513 | Error      | sample       | [{'title': 'Value not permitted', 'description': '[Demo_sampleFIXED.tsv: line 31] \"RNA\" is not a permissible value for property “sample_type”.'}]                                                                                                                                                                                                                                                                                                                                                                                                                                                                                                                                                                                                                                                                                     |\n",
       "| 136 | 4ce43a10-4669-40ce-949f-3fbbfc9f2513 | Error      | sample       | [{'title': 'Value not permitted', 'description': '[Demo_sampleFIXED.tsv: line 65] \"DNA\" is not a permissible value for property “sample_type”.'}]                                                                                                                                                                                                                                                                                                                                                                                                                                                                                                                                                                                                                                                                                     |\n",
       "| 137 | 4ce43a10-4669-40ce-949f-3fbbfc9f2513 | Error      | sample       | [{'title': 'Value not permitted', 'description': '[Demo_sampleFIXED.tsv: line 64] \"DNA\" is not a permissible value for property “sample_type”.'}]                                                                                                                                                                                                                                                                                                                                                                                                                                                                                                                                                                                                                                                                                     |\n",
       "| 138 | 4ce43a10-4669-40ce-949f-3fbbfc9f2513 | Error      | sample       | [{'title': 'Value not permitted', 'description': '[Demo_sampleFIXED.tsv: line 30] \"RNA\" is not a permissible value for property “sample_type”.'}]                                                                                                                                                                                                                                                                                                                                                                                                                                                                                                                                                                                                                                                                                     |\n",
       "| 139 | 4ce43a10-4669-40ce-949f-3fbbfc9f2513 | Error      | sample       | [{'title': 'Value not permitted', 'description': '[Demo_sampleFIXED.tsv: line 28] \"RNA\" is not a permissible value for property “sample_type”.'}, {'title': 'Many-to-one relationship conflict', 'description': '\"[Demo_sampleFIXED.tsv: line 28]\": associated with multiple “participant” nodes: [\"0RR2HE\", \"N12K3Y\"].'}]                                                                                                                                                                                                                                                                                                                                                                                                                                                                                                            |\n",
       "| 140 | 4ce43a10-4669-40ce-949f-3fbbfc9f2513 | Error      | sample       | [{'title': 'Value not permitted', 'description': '[Demo_sampleFIXED.tsv: line 63] \"DNA\" is not a permissible value for property “sample_type”.'}]                                                                                                                                                                                                                                                                                                                                                                                                                                                                                                                                                                                                                                                                                     |\n",
       "| 141 | 4ce43a10-4669-40ce-949f-3fbbfc9f2513 | Error      | sample       | [{'title': 'Value not permitted', 'description': '[Demo_sampleFIXED.tsv: line 27] \"RNA\" is not a permissible value for property “sample_type”.'}]                                                                                                                                                                                                                                                                                                                                                                                                                                                                                                                                                                                                                                                                                     |\n",
       "| 142 | 4ce43a10-4669-40ce-949f-3fbbfc9f2513 | Error      | sample       | [{'title': 'Value not permitted', 'description': '[Demo_sampleFIXED.tsv: line 62] \"DNA\" is not a permissible value for property “sample_type”.'}]                                                                                                                                                                                                                                                                                                                                                                                                                                                                                                                                                                                                                                                                                     |\n",
       "| 143 | 4ce43a10-4669-40ce-949f-3fbbfc9f2513 | Error      | sample       | [{'title': 'Value not permitted', 'description': '[Demo_sampleFIXED.tsv: line 26] \"RNA\" is not a permissible value for property “sample_type”.'}]                                                                                                                                                                                                                                                                                                                                                                                                                                                                                                                                                                                                                                                                                     |\n",
       "| 144 | 4ce43a10-4669-40ce-949f-3fbbfc9f2513 | Error      | sample       | [{'title': 'Value not permitted', 'description': '[Demo_sampleFIXED.tsv: line 61] \"DNA\" is not a permissible value for property “sample_type”.'}]                                                                                                                                                                                                                                                                                                                                                                                                                                                                                                                                                                                                                                                                                     |\n",
       "| 145 | 4ce43a10-4669-40ce-949f-3fbbfc9f2513 | Error      | sample       | [{'title': 'Value not permitted', 'description': '[Demo_sampleFIXED.tsv: line 60] \"DNA\" is not a permissible value for property “sample_type”.'}]                                                                                                                                                                                                                                                                                                                                                                                                                                                                                                                                                                                                                                                                                     |\n",
       "| 146 | 4ce43a10-4669-40ce-949f-3fbbfc9f2513 | Error      | sample       | [{'title': 'Value not permitted', 'description': '[Demo_sampleFIXED.tsv: line 59] \"DNA\" is not a permissible value for property “sample_type”.'}]                                                                                                                                                                                                                                                                                                                                                                                                                                                                                                                                                                                                                                                                                     |\n",
       "| 147 | 4ce43a10-4669-40ce-949f-3fbbfc9f2513 | Error      | sample       | [{'title': 'Value not permitted', 'description': '[Demo_sampleFIXED.tsv: line 25] \"RNA\" is not a permissible value for property “sample_type”.'}]                                                                                                                                                                                                                                                                                                                                                                                                                                                                                                                                                                                                                                                                                     |\n",
       "| 148 | 4ce43a10-4669-40ce-949f-3fbbfc9f2513 | Error      | sample       | [{'title': 'Value not permitted', 'description': '[Demo_sampleFIXED.tsv: line 24] \"RNA\" is not a permissible value for property “sample_type”.'}]                                                                                                                                                                                                                                                                                                                                                                                                                                                                                                                                                                                                                                                                                     |\n",
       "| 149 | 4ce43a10-4669-40ce-949f-3fbbfc9f2513 | Error      | sample       | [{'title': 'Value not permitted', 'description': '[Demo_sampleFIXED.tsv: line 58] \"DNA\" is not a permissible value for property “sample_type”.'}]                                                                                                                                                                                                                                                                                                                                                                                                                                                                                                                                                                                                                                                                                     |\n",
       "| 150 | 4ce43a10-4669-40ce-949f-3fbbfc9f2513 | Error      | sample       | [{'title': 'Value not permitted', 'description': '[Demo_sampleFIXED.tsv: line 23] \"RNA\" is not a permissible value for property “sample_type”.'}]                                                                                                                                                                                                                                                                                                                                                                                                                                                                                                                                                                                                                                                                                     |\n",
       "| 151 | 4ce43a10-4669-40ce-949f-3fbbfc9f2513 | Error      | sample       | [{'title': 'Value not permitted', 'description': '[Demo_sampleFIXED.tsv: line 57] \"DNA\" is not a permissible value for property “sample_type”.'}]                                                                                                                                                                                                                                                                                                                                                                                                                                                                                                                                                                                                                                                                                     |\n",
       "| 152 | 4ce43a10-4669-40ce-949f-3fbbfc9f2513 | Error      | sample       | [{'title': 'Value not permitted', 'description': '[Demo_sampleFIXED.tsv: line 22] \"RNA\" is not a permissible value for property “sample_type”.'}]                                                                                                                                                                                                                                                                                                                                                                                                                                                                                                                                                                                                                                                                                     |\n",
       "| 153 | 4ce43a10-4669-40ce-949f-3fbbfc9f2513 | Error      | genomic_info | [{'title': 'Value not permitted', 'description': '[Demo_genomic_info.tsv: line 27] \"Paired-end\" is not a permissible value for property “library_layout”.'}, {'title': 'Value not permitted', 'description': '[Demo_genomic_info.tsv: line 27] \"TRANSCRIPTOMIC\" is not a permissible value for property “library_source”.'}, {'title': 'Value not permitted', 'description': '[Demo_genomic_info.tsv: line 27] \"ILLUMINA\" is not a permissible value for property “platform”.'}, {'title': 'Relationship not specified', 'description': '[Demo_genomic_info.tsv: line 27] All related node IDs are missing. Please ensure at least one related node ID is included.'}]                                                                                                                                                                |\n",
       "| 154 | 4ce43a10-4669-40ce-949f-3fbbfc9f2513 | Error      | genomic_info | [{'title': 'Value not permitted', 'description': '[Demo_genomic_info.tsv: line 16] \"Paired-end\" is not a permissible value for property “library_layout”.'}, {'title': 'Value not permitted', 'description': '[Demo_genomic_info.tsv: line 16] \"TRANSCRIPTOMIC\" is not a permissible value for property “library_source”.'}, {'title': 'Value not permitted', 'description': '[Demo_genomic_info.tsv: line 16] \"ILLUMINA\" is not a permissible value for property “platform”.'}, {'title': 'Relationship not specified', 'description': '[Demo_genomic_info.tsv: line 16] All related node IDs are missing. Please ensure at least one related node ID is included.'}]                                                                                                                                                                |\n",
       "| 155 | 4ce43a10-4669-40ce-949f-3fbbfc9f2513 | Error      | genomic_info | [{'title': 'Value not permitted', 'description': '[Demo_genomic_info.tsv: line 119] \"Paired-end\" is not a permissible value for property “library_layout”.'}, {'title': 'Value not permitted', 'description': '[Demo_genomic_info.tsv: line 119] \"GENOMIC\" is not a permissible value for property “library_source”.'}, {'title': 'Value not permitted', 'description': '[Demo_genomic_info.tsv: line 119] \"ILLUMINA\" is not a permissible value for property “platform”.'}, {'title': 'Relationship not specified', 'description': '[Demo_genomic_info.tsv: line 119] All related node IDs are missing. Please ensure at least one related node ID is included.'}]                                                                                                                                                                   |\n",
       "| 156 | 4ce43a10-4669-40ce-949f-3fbbfc9f2513 | Error      | genomic_info | [{'title': 'Value not permitted', 'description': '[Demo_genomic_info.tsv: line 113] \"Paired-end\" is not a permissible value for property “library_layout”.'}, {'title': 'Value not permitted', 'description': '[Demo_genomic_info.tsv: line 113] \"GENOMIC\" is not a permissible value for property “library_source”.'}, {'title': 'Value not permitted', 'description': '[Demo_genomic_info.tsv: line 113] \"ILLUMINA\" is not a permissible value for property “platform”.'}, {'title': 'Relationship not specified', 'description': '[Demo_genomic_info.tsv: line 113] All related node IDs are missing. Please ensure at least one related node ID is included.'}]                                                                                                                                                                   |\n",
       "| 157 | 4ce43a10-4669-40ce-949f-3fbbfc9f2513 | Error      | genomic_info | [{'title': 'Value not permitted', 'description': '[Demo_genomic_info.tsv: line 18] \"Paired-end\" is not a permissible value for property “library_layout”.'}, {'title': 'Value not permitted', 'description': '[Demo_genomic_info.tsv: line 18] \"GENOMIC\" is not a permissible value for property “library_source”.'}, {'title': 'Value not permitted', 'description': '[Demo_genomic_info.tsv: line 18] \"ILLUMINA\" is not a permissible value for property “platform”.'}, {'title': 'Relationship not specified', 'description': '[Demo_genomic_info.tsv: line 18] All related node IDs are missing. Please ensure at least one related node ID is included.'}]                                                                                                                                                                       |\n",
       "| 158 | 4ce43a10-4669-40ce-949f-3fbbfc9f2513 | Error      | genomic_info | [{'title': 'Value not permitted', 'description': '[Demo_genomic_info.tsv: line 149] \"Paired-end\" is not a permissible value for property “library_layout”.'}, {'title': 'Value not permitted', 'description': '[Demo_genomic_info.tsv: line 149] \"GENOMIC\" is not a permissible value for property “library_source”.'}, {'title': 'Value not permitted', 'description': '[Demo_genomic_info.tsv: line 149] \"ILLUMINA\" is not a permissible value for property “platform”.'}, {'title': 'Relationship not specified', 'description': '[Demo_genomic_info.tsv: line 149] All related node IDs are missing. Please ensure at least one related node ID is included.'}]                                                                                                                                                                   |\n",
       "| 159 | 4ce43a10-4669-40ce-949f-3fbbfc9f2513 | Error      | genomic_info | [{'title': 'Value not permitted', 'description': '[Demo_genomic_info.tsv: line 51] \"Paired-end\" is not a permissible value for property “library_layout”.'}, {'title': 'Value not permitted', 'description': '[Demo_genomic_info.tsv: line 51] \"TRANSCRIPTOMIC\" is not a permissible value for property “library_source”.'}, {'title': 'Value not permitted', 'description': '[Demo_genomic_info.tsv: line 51] \"ILLUMINA\" is not a permissible value for property “platform”.'}, {'title': 'Relationship not specified', 'description': '[Demo_genomic_info.tsv: line 51] All related node IDs are missing. Please ensure at least one related node ID is included.'}]                                                                                                                                                                |\n",
       "| 160 | 4ce43a10-4669-40ce-949f-3fbbfc9f2513 | Error      | genomic_info | [{'title': 'Value not permitted', 'description': '[Demo_genomic_info.tsv: line 118] \"Paired-end\" is not a permissible value for property “library_layout”.'}, {'title': 'Value not permitted', 'description': '[Demo_genomic_info.tsv: line 118] \"TRANSCRIPTOMIC\" is not a permissible value for property “library_source”.'}, {'title': 'Value not permitted', 'description': '[Demo_genomic_info.tsv: line 118] \"ILLUMINA\" is not a permissible value for property “platform”.'}, {'title': 'Relationship not specified', 'description': '[Demo_genomic_info.tsv: line 118] All related node IDs are missing. Please ensure at least one related node ID is included.'}]                                                                                                                                                            |\n",
       "| 161 | 4ce43a10-4669-40ce-949f-3fbbfc9f2513 | Error      | genomic_info | [{'title': 'Value not permitted', 'description': '[Demo_genomic_info.tsv: line 22] \"Paired-end\" is not a permissible value for property “library_layout”.'}, {'title': 'Value not permitted', 'description': '[Demo_genomic_info.tsv: line 22] \"TRANSCRIPTOMIC\" is not a permissible value for property “library_source”.'}, {'title': 'Value not permitted', 'description': '[Demo_genomic_info.tsv: line 22] \"ILLUMINA\" is not a permissible value for property “platform”.'}, {'title': 'Relationship not specified', 'description': '[Demo_genomic_info.tsv: line 22] All related node IDs are missing. Please ensure at least one related node ID is included.'}]                                                                                                                                                                |\n",
       "| 162 | 4ce43a10-4669-40ce-949f-3fbbfc9f2513 | Error      | genomic_info | [{'title': 'Value not permitted', 'description': '[Demo_genomic_info.tsv: line 44] \"Paired-end\" is not a permissible value for property “library_layout”.'}, {'title': 'Value not permitted', 'description': '[Demo_genomic_info.tsv: line 44] \"TRANSCRIPTOMIC\" is not a permissible value for property “library_source”.'}, {'title': 'Value not permitted', 'description': '[Demo_genomic_info.tsv: line 44] \"ILLUMINA\" is not a permissible value for property “platform”.'}, {'title': 'Relationship not specified', 'description': '[Demo_genomic_info.tsv: line 44] All related node IDs are missing. Please ensure at least one related node ID is included.'}]                                                                                                                                                                |\n",
       "| 163 | 4ce43a10-4669-40ce-949f-3fbbfc9f2513 | Error      | genomic_info | [{'title': 'Value not permitted', 'description': '[Demo_genomic_info.tsv: line 33] \"Paired-end\" is not a permissible value for property “library_layout”.'}, {'title': 'Value not permitted', 'description': '[Demo_genomic_info.tsv: line 33] \"TRANSCRIPTOMIC\" is not a permissible value for property “library_source”.'}, {'title': 'Value not permitted', 'description': '[Demo_genomic_info.tsv: line 33] \"ILLUMINA\" is not a permissible value for property “platform”.'}, {'title': 'Relationship not specified', 'description': '[Demo_genomic_info.tsv: line 33] All related node IDs are missing. Please ensure at least one related node ID is included.'}]                                                                                                                                                                |\n",
       "| 164 | 4ce43a10-4669-40ce-949f-3fbbfc9f2513 | Error      | genomic_info | [{'title': 'Value not permitted', 'description': '[Demo_genomic_info.tsv: line 58] \"Paired-end\" is not a permissible value for property “library_layout”.'}, {'title': 'Value not permitted', 'description': '[Demo_genomic_info.tsv: line 58] \"GENOMIC\" is not a permissible value for property “library_source”.'}, {'title': 'Value not permitted', 'description': '[Demo_genomic_info.tsv: line 58] \"ILLUMINA\" is not a permissible value for property “platform”.'}, {'title': 'Relationship not specified', 'description': '[Demo_genomic_info.tsv: line 58] All related node IDs are missing. Please ensure at least one related node ID is included.'}]                                                                                                                                                                       |\n",
       "| 165 | 4ce43a10-4669-40ce-949f-3fbbfc9f2513 | Error      | genomic_info | [{'title': 'Value not permitted', 'description': '[Demo_genomic_info.tsv: line 76] \"Paired-end\" is not a permissible value for property “library_layout”.'}, {'title': 'Value not permitted', 'description': '[Demo_genomic_info.tsv: line 76] \"GENOMIC\" is not a permissible value for property “library_source”.'}, {'title': 'Value not permitted', 'description': '[Demo_genomic_info.tsv: line 76] \"ILLUMINA\" is not a permissible value for property “platform”.'}, {'title': 'Relationship not specified', 'description': '[Demo_genomic_info.tsv: line 76] All related node IDs are missing. Please ensure at least one related node ID is included.'}]                                                                                                                                                                       |\n",
       "| 166 | 4ce43a10-4669-40ce-949f-3fbbfc9f2513 | Error      | genomic_info | [{'title': 'Value not permitted', 'description': '[Demo_genomic_info.tsv: line 98] \"Single-end\" is not a permissible value for property “library_layout”.'}, {'title': 'Value not permitted', 'description': '[Demo_genomic_info.tsv: line 98] \"TRANSCRIPTOMIC\" is not a permissible value for property “library_source”.'}, {'title': 'Value not permitted', 'description': '[Demo_genomic_info.tsv: line 98] \"PolyA\" is not a permissible value for property “library_selection”.'}, {'title': 'Value not permitted', 'description': '[Demo_genomic_info.tsv: line 98] \"ILLUMINA\" is not a permissible value for property “platform”.'}, {'title': 'Relationship not specified', 'description': '[Demo_genomic_info.tsv: line 98] All related node IDs are missing. Please ensure at least one related node ID is included.'}]      |\n",
       "| 167 | 4ce43a10-4669-40ce-949f-3fbbfc9f2513 | Error      | genomic_info | [{'title': 'Value not permitted', 'description': '[Demo_genomic_info.tsv: line 143] \"Paired-end\" is not a permissible value for property “library_layout”.'}, {'title': 'Value not permitted', 'description': '[Demo_genomic_info.tsv: line 143] \"TRANSCRIPTOMIC\" is not a permissible value for property “library_source”.'}, {'title': 'Value not permitted', 'description': '[Demo_genomic_info.tsv: line 143] \"ILLUMINA\" is not a permissible value for property “platform”.'}, {'title': 'Relationship not specified', 'description': '[Demo_genomic_info.tsv: line 143] All related node IDs are missing. Please ensure at least one related node ID is included.'}]                                                                                                                                                            |\n",
       "| 168 | 4ce43a10-4669-40ce-949f-3fbbfc9f2513 | Error      | genomic_info | [{'title': 'Value not permitted', 'description': '[Demo_genomic_info.tsv: line 80] \"Paired-end\" is not a permissible value for property “library_layout”.'}, {'title': 'Value not permitted', 'description': '[Demo_genomic_info.tsv: line 80] \"GENOMIC\" is not a permissible value for property “library_source”.'}, {'title': 'Value not permitted', 'description': '[Demo_genomic_info.tsv: line 80] \"ILLUMINA\" is not a permissible value for property “platform”.'}, {'title': 'Relationship not specified', 'description': '[Demo_genomic_info.tsv: line 80] All related node IDs are missing. Please ensure at least one related node ID is included.'}]                                                                                                                                                                       |\n",
       "| 169 | 4ce43a10-4669-40ce-949f-3fbbfc9f2513 | Error      | genomic_info | [{'title': 'Value not permitted', 'description': '[Demo_genomic_info.tsv: line 62] \"Paired-end\" is not a permissible value for property “library_layout”.'}, {'title': 'Value not permitted', 'description': '[Demo_genomic_info.tsv: line 62] \"GENOMIC\" is not a permissible value for property “library_source”.'}, {'title': 'Value not permitted', 'description': '[Demo_genomic_info.tsv: line 62] \"ILLUMINA\" is not a permissible value for property “platform”.'}, {'title': 'Relationship not specified', 'description': '[Demo_genomic_info.tsv: line 62] All related node IDs are missing. Please ensure at least one related node ID is included.'}]                                                                                                                                                                       |\n",
       "| 170 | 4ce43a10-4669-40ce-949f-3fbbfc9f2513 | Error      | genomic_info | [{'title': 'Value not permitted', 'description': '[Demo_genomic_info.tsv: line 97] \"Single-end\" is not a permissible value for property “library_layout”.'}, {'title': 'Value not permitted', 'description': '[Demo_genomic_info.tsv: line 97] \"TRANSCRIPTOMIC\" is not a permissible value for property “library_source”.'}, {'title': 'Value not permitted', 'description': '[Demo_genomic_info.tsv: line 97] \"ILLUMINA\" is not a permissible value for property “platform”.'}, {'title': 'Relationship not specified', 'description': '[Demo_genomic_info.tsv: line 97] All related node IDs are missing. Please ensure at least one related node ID is included.'}]                                                                                                                                                                |\n",
       "| 171 | 4ce43a10-4669-40ce-949f-3fbbfc9f2513 | Error      | genomic_info | [{'title': 'Value not permitted', 'description': '[Demo_genomic_info.tsv: line 101] \"Single-end\" is not a permissible value for property “library_layout”.'}, {'title': 'Value not permitted', 'description': '[Demo_genomic_info.tsv: line 101] \"TRANSCRIPTOMIC\" is not a permissible value for property “library_source”.'}, {'title': 'Value not permitted', 'description': '[Demo_genomic_info.tsv: line 101] \"PolyA\" is not a permissible value for property “library_selection”.'}, {'title': 'Value not permitted', 'description': '[Demo_genomic_info.tsv: line 101] \"ILLUMINA\" is not a permissible value for property “platform”.'}, {'title': 'Relationship not specified', 'description': '[Demo_genomic_info.tsv: line 101] All related node IDs are missing. Please ensure at least one related node ID is included.'}] |\n",
       "| 172 | 4ce43a10-4669-40ce-949f-3fbbfc9f2513 | Error      | genomic_info | [{'title': 'Value not permitted', 'description': '[Demo_genomic_info.tsv: line 68] \"Paired-end\" is not a permissible value for property “library_layout”.'}, {'title': 'Value not permitted', 'description': '[Demo_genomic_info.tsv: line 68] \"GENOMIC\" is not a permissible value for property “library_source”.'}, {'title': 'Value not permitted', 'description': '[Demo_genomic_info.tsv: line 68] \"ILLUMINA\" is not a permissible value for property “platform”.'}, {'title': 'Relationship not specified', 'description': '[Demo_genomic_info.tsv: line 68] All related node IDs are missing. Please ensure at least one related node ID is included.'}]                                                                                                                                                                       |\n",
       "| 173 | 4ce43a10-4669-40ce-949f-3fbbfc9f2513 | Error      | genomic_info | [{'title': 'Value not permitted', 'description': '[Demo_genomic_info.tsv: line 85] \"Paired-end\" is not a permissible value for property “library_layout”.'}, {'title': 'Value not permitted', 'description': '[Demo_genomic_info.tsv: line 85] \"GENOMIC\" is not a permissible value for property “library_source”.'}, {'title': 'Value not permitted', 'description': '[Demo_genomic_info.tsv: line 85] \"ILLUMINA\" is not a permissible value for property “platform”.'}, {'title': 'Relationship not specified', 'description': '[Demo_genomic_info.tsv: line 85] All related node IDs are missing. Please ensure at least one related node ID is included.'}]                                                                                                                                                                       |\n",
       "| 174 | 4ce43a10-4669-40ce-949f-3fbbfc9f2513 | Error      | genomic_info | [{'title': 'Value not permitted', 'description': '[Demo_genomic_info.tsv: line 13] \"Paired-end\" is not a permissible value for property “library_layout”.'}, {'title': 'Value not permitted', 'description': '[Demo_genomic_info.tsv: line 13] \"GENOMIC\" is not a permissible value for property “library_source”.'}, {'title': 'Value not permitted', 'description': '[Demo_genomic_info.tsv: line 13] \"ILLUMINA\" is not a permissible value for property “platform”.'}, {'title': 'Relationship not specified', 'description': '[Demo_genomic_info.tsv: line 13] All related node IDs are missing. Please ensure at least one related node ID is included.'}]                                                                                                                                                                       |\n",
       "| 175 | 4ce43a10-4669-40ce-949f-3fbbfc9f2513 | Error      | genomic_info | [{'title': 'Value not permitted', 'description': '[Demo_genomic_info.tsv: line 10] \"Paired-end\" is not a permissible value for property “library_layout”.'}, {'title': 'Value not permitted', 'description': '[Demo_genomic_info.tsv: line 10] \"TRANSCRIPTOMIC\" is not a permissible value for property “library_source”.'}, {'title': 'Value not permitted', 'description': '[Demo_genomic_info.tsv: line 10] \"ILLUMINA\" is not a permissible value for property “platform”.'}, {'title': 'Relationship not specified', 'description': '[Demo_genomic_info.tsv: line 10] All related node IDs are missing. Please ensure at least one related node ID is included.'}]                                                                                                                                                                |\n",
       "| 176 | 4ce43a10-4669-40ce-949f-3fbbfc9f2513 | Error      | genomic_info | [{'title': 'Value not permitted', 'description': '[Demo_genomic_info.tsv: line 49] \"Paired-end\" is not a permissible value for property “library_layout”.'}, {'title': 'Value not permitted', 'description': '[Demo_genomic_info.tsv: line 49] \"TRANSCRIPTOMIC\" is not a permissible value for property “library_source”.'}, {'title': 'Value not permitted', 'description': '[Demo_genomic_info.tsv: line 49] \"ILLUMINA\" is not a permissible value for property “platform”.'}, {'title': 'Relationship not specified', 'description': '[Demo_genomic_info.tsv: line 49] All related node IDs are missing. Please ensure at least one related node ID is included.'}]                                                                                                                                                                |\n",
       "| 177 | 4ce43a10-4669-40ce-949f-3fbbfc9f2513 | Error      | genomic_info | [{'title': 'Value not permitted', 'description': '[Demo_genomic_info.tsv: line 89] \"Paired-end\" is not a permissible value for property “library_layout”.'}, {'title': 'Value not permitted', 'description': '[Demo_genomic_info.tsv: line 89] \"GENOMIC\" is not a permissible value for property “library_source”.'}, {'title': 'Value not permitted', 'description': '[Demo_genomic_info.tsv: line 89] \"ILLUMINA\" is not a permissible value for property “platform”.'}, {'title': 'Relationship not specified', 'description': '[Demo_genomic_info.tsv: line 89] All related node IDs are missing. Please ensure at least one related node ID is included.'}]                                                                                                                                                                       |\n",
       "| 178 | 4ce43a10-4669-40ce-949f-3fbbfc9f2513 | Error      | genomic_info | [{'title': 'Value not permitted', 'description': '[Demo_genomic_info.tsv: line 21] \"Single-end\" is not a permissible value for property “library_layout”.'}, {'title': 'Value not permitted', 'description': '[Demo_genomic_info.tsv: line 21] \"TRANSCRIPTOMIC\" is not a permissible value for property “library_source”.'}, {'title': 'Value not permitted', 'description': '[Demo_genomic_info.tsv: line 21] \"PolyA\" is not a permissible value for property “library_selection”.'}, {'title': 'Value not permitted', 'description': '[Demo_genomic_info.tsv: line 21] \"ILLUMINA\" is not a permissible value for property “platform”.'}, {'title': 'Relationship not specified', 'description': '[Demo_genomic_info.tsv: line 21] All related node IDs are missing. Please ensure at least one related node ID is included.'}]      |\n",
       "| 179 | 4ce43a10-4669-40ce-949f-3fbbfc9f2513 | Error      | genomic_info | [{'title': 'Value not permitted', 'description': '[Demo_genomic_info.tsv: line 92] \"Paired-end\" is not a permissible value for property “library_layout”.'}, {'title': 'Value not permitted', 'description': '[Demo_genomic_info.tsv: line 92] \"TRANSCRIPTOMIC\" is not a permissible value for property “library_source”.'}, {'title': 'Value not permitted', 'description': '[Demo_genomic_info.tsv: line 92] \"ILLUMINA\" is not a permissible value for property “platform”.'}, {'title': 'Relationship not specified', 'description': '[Demo_genomic_info.tsv: line 92] All related node IDs are missing. Please ensure at least one related node ID is included.'}]                                                                                                                                                                |\n",
       "| 180 | 4ce43a10-4669-40ce-949f-3fbbfc9f2513 | Error      | genomic_info | [{'title': 'Value not permitted', 'description': '[Demo_genomic_info.tsv: line 137] \"Paired-end\" is not a permissible value for property “library_layout”.'}, {'title': 'Value not permitted', 'description': '[Demo_genomic_info.tsv: line 137] \"GENOMIC\" is not a permissible value for property “library_source”.'}, {'title': 'Value not permitted', 'description': '[Demo_genomic_info.tsv: line 137] \"ILLUMINA\" is not a permissible value for property “platform”.'}, {'title': 'Relationship not specified', 'description': '[Demo_genomic_info.tsv: line 137] All related node IDs are missing. Please ensure at least one related node ID is included.'}]                                                                                                                                                                   |\n",
       "| 181 | 4ce43a10-4669-40ce-949f-3fbbfc9f2513 | Error      | genomic_info | [{'title': 'Value not permitted', 'description': '[Demo_genomic_info.tsv: line 36] \"Paired-end\" is not a permissible value for property “library_layout”.'}, {'title': 'Value not permitted', 'description': '[Demo_genomic_info.tsv: line 36] \"TRANSCRIPTOMIC\" is not a permissible value for property “library_source”.'}, {'title': 'Value not permitted', 'description': '[Demo_genomic_info.tsv: line 36] \"ILLUMINA\" is not a permissible value for property “platform”.'}, {'title': 'Relationship not specified', 'description': '[Demo_genomic_info.tsv: line 36] All related node IDs are missing. Please ensure at least one related node ID is included.'}]                                                                                                                                                                |\n",
       "| 182 | 4ce43a10-4669-40ce-949f-3fbbfc9f2513 | Error      | genomic_info | [{'title': 'Value not permitted', 'description': '[Demo_genomic_info.tsv: line 124] \"Paired-end\" is not a permissible value for property “library_layout”.'}, {'title': 'Value not permitted', 'description': '[Demo_genomic_info.tsv: line 124] \"GENOMIC\" is not a permissible value for property “library_source”.'}, {'title': 'Value not permitted', 'description': '[Demo_genomic_info.tsv: line 124] \"ILLUMINA\" is not a permissible value for property “platform”.'}, {'title': 'Relationship not specified', 'description': '[Demo_genomic_info.tsv: line 124] All related node IDs are missing. Please ensure at least one related node ID is included.'}]                                                                                                                                                                   |\n",
       "| 183 | 4ce43a10-4669-40ce-949f-3fbbfc9f2513 | Error      | genomic_info | [{'title': 'Value not permitted', 'description': '[Demo_genomic_info.tsv: line 35] \"Paired-end\" is not a permissible value for property “library_layout”.'}, {'title': 'Value not permitted', 'description': '[Demo_genomic_info.tsv: line 35] \"TRANSCRIPTOMIC\" is not a permissible value for property “library_source”.'}, {'title': 'Value not permitted', 'description': '[Demo_genomic_info.tsv: line 35] \"ILLUMINA\" is not a permissible value for property “platform”.'}, {'title': 'Relationship not specified', 'description': '[Demo_genomic_info.tsv: line 35] All related node IDs are missing. Please ensure at least one related node ID is included.'}]                                                                                                                                                                |\n",
       "| 184 | 4ce43a10-4669-40ce-949f-3fbbfc9f2513 | Error      | genomic_info | [{'title': 'Value not permitted', 'description': '[Demo_genomic_info.tsv: line 122] \"Single-end\" is not a permissible value for property “library_layout”.'}, {'title': 'Value not permitted', 'description': '[Demo_genomic_info.tsv: line 122] \"TRANSCRIPTOMIC\" is not a permissible value for property “library_source”.'}, {'title': 'Value not permitted', 'description': '[Demo_genomic_info.tsv: line 122] \"ILLUMINA\" is not a permissible value for property “platform”.'}, {'title': 'Relationship not specified', 'description': '[Demo_genomic_info.tsv: line 122] All related node IDs are missing. Please ensure at least one related node ID is included.'}]                                                                                                                                                            |\n",
       "| 185 | 4ce43a10-4669-40ce-949f-3fbbfc9f2513 | Error      | genomic_info | [{'title': 'Value not permitted', 'description': '[Demo_genomic_info.tsv: line 45] \"Paired-end\" is not a permissible value for property “library_layout”.'}, {'title': 'Value not permitted', 'description': '[Demo_genomic_info.tsv: line 45] \"TRANSCRIPTOMIC\" is not a permissible value for property “library_source”.'}, {'title': 'Value not permitted', 'description': '[Demo_genomic_info.tsv: line 45] \"ILLUMINA\" is not a permissible value for property “platform”.'}, {'title': 'Relationship not specified', 'description': '[Demo_genomic_info.tsv: line 45] All related node IDs are missing. Please ensure at least one related node ID is included.'}]                                                                                                                                                                |\n",
       "| 186 | 4ce43a10-4669-40ce-949f-3fbbfc9f2513 | Error      | genomic_info | [{'title': 'Value not permitted', 'description': '[Demo_genomic_info.tsv: line 14] \"Paired-end\" is not a permissible value for property “library_layout”.'}, {'title': 'Value not permitted', 'description': '[Demo_genomic_info.tsv: line 14] \"TRANSCRIPTOMIC\" is not a permissible value for property “library_source”.'}, {'title': 'Value not permitted', 'description': '[Demo_genomic_info.tsv: line 14] \"ILLUMINA\" is not a permissible value for property “platform”.'}, {'title': 'Relationship not specified', 'description': '[Demo_genomic_info.tsv: line 14] All related node IDs are missing. Please ensure at least one related node ID is included.'}]                                                                                                                                                                |\n",
       "| 187 | 4ce43a10-4669-40ce-949f-3fbbfc9f2513 | Error      | genomic_info | [{'title': 'Value not permitted', 'description': '[Demo_genomic_info.tsv: line 20] \"Paired-end\" is not a permissible value for property “library_layout”.'}, {'title': 'Value not permitted', 'description': '[Demo_genomic_info.tsv: line 20] \"GENOMIC\" is not a permissible value for property “library_source”.'}, {'title': 'Value not permitted', 'description': '[Demo_genomic_info.tsv: line 20] \"ILLUMINA\" is not a permissible value for property “platform”.'}, {'title': 'Relationship not specified', 'description': '[Demo_genomic_info.tsv: line 20] All related node IDs are missing. Please ensure at least one related node ID is included.'}]                                                                                                                                                                       |\n",
       "| 188 | 4ce43a10-4669-40ce-949f-3fbbfc9f2513 | Error      | genomic_info | [{'title': 'Value not permitted', 'description': '[Demo_genomic_info.tsv: line 144] \"Paired-end\" is not a permissible value for property “library_layout”.'}, {'title': 'Value not permitted', 'description': '[Demo_genomic_info.tsv: line 144] \"TRANSCRIPTOMIC\" is not a permissible value for property “library_source”.'}, {'title': 'Value not permitted', 'description': '[Demo_genomic_info.tsv: line 144] \"ILLUMINA\" is not a permissible value for property “platform”.'}, {'title': 'Relationship not specified', 'description': '[Demo_genomic_info.tsv: line 144] All related node IDs are missing. Please ensure at least one related node ID is included.'}]                                                                                                                                                            |\n",
       "| 189 | 4ce43a10-4669-40ce-949f-3fbbfc9f2513 | Error      | genomic_info | [{'title': 'Value not permitted', 'description': '[Demo_genomic_info.tsv: line 6] \"Paired-end\" is not a permissible value for property “library_layout”.'}, {'title': 'Value not permitted', 'description': '[Demo_genomic_info.tsv: line 6] \"TRANSCRIPTOMIC\" is not a permissible value for property “library_source”.'}, {'title': 'Value not permitted', 'description': '[Demo_genomic_info.tsv: line 6] \"ILLUMINA\" is not a permissible value for property “platform”.'}, {'title': 'Relationship not specified', 'description': '[Demo_genomic_info.tsv: line 6] All related node IDs are missing. Please ensure at least one related node ID is included.'}]                                                                                                                                                                    |\n",
       "| 190 | 4ce43a10-4669-40ce-949f-3fbbfc9f2513 | Error      | genomic_info | [{'title': 'Value not permitted', 'description': '[Demo_genomic_info.tsv: line 83] \"Paired-end\" is not a permissible value for property “library_layout”.'}, {'title': 'Value not permitted', 'description': '[Demo_genomic_info.tsv: line 83] \"GENOMIC\" is not a permissible value for property “library_source”.'}, {'title': 'Value not permitted', 'description': '[Demo_genomic_info.tsv: line 83] \"ILLUMINA\" is not a permissible value for property “platform”.'}, {'title': 'Relationship not specified', 'description': '[Demo_genomic_info.tsv: line 83] All related node IDs are missing. Please ensure at least one related node ID is included.'}]                                                                                                                                                                       |\n",
       "| 191 | 4ce43a10-4669-40ce-949f-3fbbfc9f2513 | Error      | genomic_info | [{'title': 'Value not permitted', 'description': '[Demo_genomic_info.tsv: line 93] \"Paired-end\" is not a permissible value for property “library_layout”.'}, {'title': 'Value not permitted', 'description': '[Demo_genomic_info.tsv: line 93] \"GENOMIC\" is not a permissible value for property “library_source”.'}, {'title': 'Value not permitted', 'description': '[Demo_genomic_info.tsv: line 93] \"ILLUMINA\" is not a permissible value for property “platform”.'}, {'title': 'Relationship not specified', 'description': '[Demo_genomic_info.tsv: line 93] All related node IDs are missing. Please ensure at least one related node ID is included.'}]                                                                                                                                                                       |\n",
       "| 192 | 4ce43a10-4669-40ce-949f-3fbbfc9f2513 | Error      | genomic_info | [{'title': 'Value not permitted', 'description': '[Demo_genomic_info.tsv: line 9] \"Paired-end\" is not a permissible value for property “library_layout”.'}, {'title': 'Value not permitted', 'description': '[Demo_genomic_info.tsv: line 9] \"GENOMIC\" is not a permissible value for property “library_source”.'}, {'title': 'Value not permitted', 'description': '[Demo_genomic_info.tsv: line 9] \"ILLUMINA\" is not a permissible value for property “platform”.'}, {'title': 'Relationship not specified', 'description': '[Demo_genomic_info.tsv: line 9] All related node IDs are missing. Please ensure at least one related node ID is included.'}]                                                                                                                                                                           |\n",
       "| 193 | 4ce43a10-4669-40ce-949f-3fbbfc9f2513 | Error      | genomic_info | [{'title': 'Value not permitted', 'description': '[Demo_genomic_info.tsv: line 77] \"Paired-end\" is not a permissible value for property “library_layout”.'}, {'title': 'Value not permitted', 'description': '[Demo_genomic_info.tsv: line 77] \"GENOMIC\" is not a permissible value for property “library_source”.'}, {'title': 'Value not permitted', 'description': '[Demo_genomic_info.tsv: line 77] \"ILLUMINA\" is not a permissible value for property “platform”.'}, {'title': 'Relationship not specified', 'description': '[Demo_genomic_info.tsv: line 77] All related node IDs are missing. Please ensure at least one related node ID is included.'}]                                                                                                                                                                       |\n",
       "| 194 | 4ce43a10-4669-40ce-949f-3fbbfc9f2513 | Error      | genomic_info | [{'title': 'Value not permitted', 'description': '[Demo_genomic_info.tsv: line 43] \"Single-end\" is not a permissible value for property “library_layout”.'}, {'title': 'Value not permitted', 'description': '[Demo_genomic_info.tsv: line 43] \"TRANSCRIPTOMIC\" is not a permissible value for property “library_source”.'}, {'title': 'Value not permitted', 'description': '[Demo_genomic_info.tsv: line 43] \"ILLUMINA\" is not a permissible value for property “platform”.'}, {'title': 'Relationship not specified', 'description': '[Demo_genomic_info.tsv: line 43] All related node IDs are missing. Please ensure at least one related node ID is included.'}]                                                                                                                                                                |\n",
       "| 195 | 4ce43a10-4669-40ce-949f-3fbbfc9f2513 | Error      | genomic_info | [{'title': 'Value not permitted', 'description': '[Demo_genomic_info.tsv: line 134] \"Paired-end\" is not a permissible value for property “library_layout”.'}, {'title': 'Value not permitted', 'description': '[Demo_genomic_info.tsv: line 134] \"TRANSCRIPTOMIC\" is not a permissible value for property “library_source”.'}, {'title': 'Value not permitted', 'description': '[Demo_genomic_info.tsv: line 134] \"ILLUMINA\" is not a permissible value for property “platform”.'}, {'title': 'Relationship not specified', 'description': '[Demo_genomic_info.tsv: line 134] All related node IDs are missing. Please ensure at least one related node ID is included.'}]                                                                                                                                                            |\n",
       "| 196 | 4ce43a10-4669-40ce-949f-3fbbfc9f2513 | Error      | genomic_info | [{'title': 'Value not permitted', 'description': '[Demo_genomic_info.tsv: line 39] \"Paired-end\" is not a permissible value for property “library_layout”.'}, {'title': 'Value not permitted', 'description': '[Demo_genomic_info.tsv: line 39] \"TRANSCRIPTOMIC\" is not a permissible value for property “library_source”.'}, {'title': 'Value not permitted', 'description': '[Demo_genomic_info.tsv: line 39] \"ILLUMINA\" is not a permissible value for property “platform”.'}, {'title': 'Relationship not specified', 'description': '[Demo_genomic_info.tsv: line 39] All related node IDs are missing. Please ensure at least one related node ID is included.'}]                                                                                                                                                                |\n",
       "| 197 | 4ce43a10-4669-40ce-949f-3fbbfc9f2513 | Error      | genomic_info | [{'title': 'Value not permitted', 'description': '[Demo_genomic_info.tsv: line 79] \"Paired-end\" is not a permissible value for property “library_layout”.'}, {'title': 'Value not permitted', 'description': '[Demo_genomic_info.tsv: line 79] \"GENOMIC\" is not a permissible value for property “library_source”.'}, {'title': 'Value not permitted', 'description': '[Demo_genomic_info.tsv: line 79] \"ILLUMINA\" is not a permissible value for property “platform”.'}, {'title': 'Relationship not specified', 'description': '[Demo_genomic_info.tsv: line 79] All related node IDs are missing. Please ensure at least one related node ID is included.'}]                                                                                                                                                                       |\n",
       "| 198 | 4ce43a10-4669-40ce-949f-3fbbfc9f2513 | Error      | genomic_info | [{'title': 'Value not permitted', 'description': '[Demo_genomic_info.tsv: line 37] \"Paired-end\" is not a permissible value for property “library_layout”.'}, {'title': 'Value not permitted', 'description': '[Demo_genomic_info.tsv: line 37] \"TRANSCRIPTOMIC\" is not a permissible value for property “library_source”.'}, {'title': 'Value not permitted', 'description': '[Demo_genomic_info.tsv: line 37] \"ILLUMINA\" is not a permissible value for property “platform”.'}, {'title': 'Relationship not specified', 'description': '[Demo_genomic_info.tsv: line 37] All related node IDs are missing. Please ensure at least one related node ID is included.'}]                                                                                                                                                                |\n",
       "| 199 | 4ce43a10-4669-40ce-949f-3fbbfc9f2513 | Error      | genomic_info | [{'title': 'Value not permitted', 'description': '[Demo_genomic_info.tsv: line 48] \"Paired-end\" is not a permissible value for property “library_layout”.'}, {'title': 'Value not permitted', 'description': '[Demo_genomic_info.tsv: line 48] \"TRANSCRIPTOMIC\" is not a permissible value for property “library_source”.'}, {'title': 'Value not permitted', 'description': '[Demo_genomic_info.tsv: line 48] \"ILLUMINA\" is not a permissible value for property “platform”.'}, {'title': 'Relationship not specified', 'description': '[Demo_genomic_info.tsv: line 48] All related node IDs are missing. Please ensure at least one related node ID is included.'}]                                                                                                                                                                |\n",
       "| 200 | 4ce43a10-4669-40ce-949f-3fbbfc9f2513 | Error      | genomic_info | [{'title': 'Value not permitted', 'description': '[Demo_genomic_info.tsv: line 29] \"Single-end\" is not a permissible value for property “library_layout”.'}, {'title': 'Value not permitted', 'description': '[Demo_genomic_info.tsv: line 29] \"TRANSCRIPTOMIC\" is not a permissible value for property “library_source”.'}, {'title': 'Value not permitted', 'description': '[Demo_genomic_info.tsv: line 29] \"ILLUMINA\" is not a permissible value for property “platform”.'}, {'title': 'Relationship not specified', 'description': '[Demo_genomic_info.tsv: line 29] All related node IDs are missing. Please ensure at least one related node ID is included.'}]                                                                                                                                                                |\n",
       "| 201 | 4ce43a10-4669-40ce-949f-3fbbfc9f2513 | Error      | genomic_info | [{'title': 'Value not permitted', 'description': '[Demo_genomic_info.tsv: line 123] \"Single-end\" is not a permissible value for property “library_layout”.'}, {'title': 'Value not permitted', 'description': '[Demo_genomic_info.tsv: line 123] \"TRANSCRIPTOMIC\" is not a permissible value for property “library_source”.'}, {'title': 'Value not permitted', 'description': '[Demo_genomic_info.tsv: line 123] \"ILLUMINA\" is not a permissible value for property “platform”.'}, {'title': 'Relationship not specified', 'description': '[Demo_genomic_info.tsv: line 123] All related node IDs are missing. Please ensure at least one related node ID is included.'}]                                                                                                                                                            |\n",
       "| 202 | 4ce43a10-4669-40ce-949f-3fbbfc9f2513 | Error      | genomic_info | [{'title': 'Value not permitted', 'description': '[Demo_genomic_info.tsv: line 145] \"Paired-end\" is not a permissible value for property “library_layout”.'}, {'title': 'Value not permitted', 'description': '[Demo_genomic_info.tsv: line 145] \"GENOMIC\" is not a permissible value for property “library_source”.'}, {'title': 'Value not permitted', 'description': '[Demo_genomic_info.tsv: line 145] \"ILLUMINA\" is not a permissible value for property “platform”.'}, {'title': 'Relationship not specified', 'description': '[Demo_genomic_info.tsv: line 145] All related node IDs are missing. Please ensure at least one related node ID is included.'}]                                                                                                                                                                   |\n",
       "| 203 | 4ce43a10-4669-40ce-949f-3fbbfc9f2513 | Error      | genomic_info | [{'title': 'Value not permitted', 'description': '[Demo_genomic_info.tsv: line 25] \"Single-end\" is not a permissible value for property “library_layout”.'}, {'title': 'Value not permitted', 'description': '[Demo_genomic_info.tsv: line 25] \"TRANSCRIPTOMIC\" is not a permissible value for property “library_source”.'}, {'title': 'Value not permitted', 'description': '[Demo_genomic_info.tsv: line 25] \"ILLUMINA\" is not a permissible value for property “platform”.'}, {'title': 'Relationship not specified', 'description': '[Demo_genomic_info.tsv: line 25] All related node IDs are missing. Please ensure at least one related node ID is included.'}]                                                                                                                                                                |\n",
       "| 204 | 4ce43a10-4669-40ce-949f-3fbbfc9f2513 | Error      | genomic_info | [{'title': 'Value not permitted', 'description': '[Demo_genomic_info.tsv: line 50] \"Single-end\" is not a permissible value for property “library_layout”.'}, {'title': 'Value not permitted', 'description': '[Demo_genomic_info.tsv: line 50] \"TRANSCRIPTOMIC\" is not a permissible value for property “library_source”.'}, {'title': 'Value not permitted', 'description': '[Demo_genomic_info.tsv: line 50] \"ILLUMINA\" is not a permissible value for property “platform”.'}, {'title': 'Relationship not specified', 'description': '[Demo_genomic_info.tsv: line 50] All related node IDs are missing. Please ensure at least one related node ID is included.'}]                                                                                                                                                                |\n",
       "| 205 | 4ce43a10-4669-40ce-949f-3fbbfc9f2513 | Error      | genomic_info | [{'title': 'Value not permitted', 'description': '[Demo_genomic_info.tsv: line 105] \"Paired-end\" is not a permissible value for property “library_layout”.'}, {'title': 'Value not permitted', 'description': '[Demo_genomic_info.tsv: line 105] \"GENOMIC\" is not a permissible value for property “library_source”.'}, {'title': 'Value not permitted', 'description': '[Demo_genomic_info.tsv: line 105] \"ILLUMINA\" is not a permissible value for property “platform”.'}, {'title': 'Relationship not specified', 'description': '[Demo_genomic_info.tsv: line 105] All related node IDs are missing. Please ensure at least one related node ID is included.'}]                                                                                                                                                                   |\n",
       "| 206 | 4ce43a10-4669-40ce-949f-3fbbfc9f2513 | Error      | genomic_info | [{'title': 'Value not permitted', 'description': '[Demo_genomic_info.tsv: line 111] \"Paired-end\" is not a permissible value for property “library_layout”.'}, {'title': 'Value not permitted', 'description': '[Demo_genomic_info.tsv: line 111] \"GENOMIC\" is not a permissible value for property “library_source”.'}, {'title': 'Value not permitted', 'description': '[Demo_genomic_info.tsv: line 111] \"ILLUMINA\" is not a permissible value for property “platform”.'}, {'title': 'Relationship not specified', 'description': '[Demo_genomic_info.tsv: line 111] All related node IDs are missing. Please ensure at least one related node ID is included.'}]                                                                                                                                                                   |\n",
       "| 207 | 4ce43a10-4669-40ce-949f-3fbbfc9f2513 | Error      | genomic_info | [{'title': 'Value not permitted', 'description': '[Demo_genomic_info.tsv: line 139] \"Paired-end\" is not a permissible value for property “library_layout”.'}, {'title': 'Value not permitted', 'description': '[Demo_genomic_info.tsv: line 139] \"TRANSCRIPTOMIC\" is not a permissible value for property “library_source”.'}, {'title': 'Value not permitted', 'description': '[Demo_genomic_info.tsv: line 139] \"ILLUMINA\" is not a permissible value for property “platform”.'}, {'title': 'Relationship not specified', 'description': '[Demo_genomic_info.tsv: line 139] All related node IDs are missing. Please ensure at least one related node ID is included.'}]                                                                                                                                                            |\n",
       "| 208 | 4ce43a10-4669-40ce-949f-3fbbfc9f2513 | Error      | genomic_info | [{'title': 'Value not permitted', 'description': '[Demo_genomic_info.tsv: line 114] \"Paired-end\" is not a permissible value for property “library_layout”.'}, {'title': 'Value not permitted', 'description': '[Demo_genomic_info.tsv: line 114] \"GENOMIC\" is not a permissible value for property “library_source”.'}, {'title': 'Value not permitted', 'description': '[Demo_genomic_info.tsv: line 114] \"ILLUMINA\" is not a permissible value for property “platform”.'}, {'title': 'Relationship not specified', 'description': '[Demo_genomic_info.tsv: line 114] All related node IDs are missing. Please ensure at least one related node ID is included.'}]                                                                                                                                                                   |\n",
       "| 209 | 4ce43a10-4669-40ce-949f-3fbbfc9f2513 | Error      | genomic_info | [{'title': 'Value not permitted', 'description': '[Demo_genomic_info.tsv: line 52] \"Paired-end\" is not a permissible value for property “library_layout”.'}, {'title': 'Value not permitted', 'description': '[Demo_genomic_info.tsv: line 52] \"TRANSCRIPTOMIC\" is not a permissible value for property “library_source”.'}, {'title': 'Value not permitted', 'description': '[Demo_genomic_info.tsv: line 52] \"ILLUMINA\" is not a permissible value for property “platform”.'}, {'title': 'Relationship not specified', 'description': '[Demo_genomic_info.tsv: line 52] All related node IDs are missing. Please ensure at least one related node ID is included.'}]                                                                                                                                                                |\n",
       "| 210 | 4ce43a10-4669-40ce-949f-3fbbfc9f2513 | Error      | genomic_info | [{'title': 'Value not permitted', 'description': '[Demo_genomic_info.tsv: line 17] \"Paired-end\" is not a permissible value for property “library_layout”.'}, {'title': 'Value not permitted', 'description': '[Demo_genomic_info.tsv: line 17] \"GENOMIC\" is not a permissible value for property “library_source”.'}, {'title': 'Value not permitted', 'description': '[Demo_genomic_info.tsv: line 17] \"ILLUMINA\" is not a permissible value for property “platform”.'}, {'title': 'Relationship not specified', 'description': '[Demo_genomic_info.tsv: line 17] All related node IDs are missing. Please ensure at least one related node ID is included.'}]                                                                                                                                                                       |\n",
       "| 211 | 4ce43a10-4669-40ce-949f-3fbbfc9f2513 | Error      | genomic_info | [{'title': 'Value not permitted', 'description': '[Demo_genomic_info.tsv: line 47] \"Paired-end\" is not a permissible value for property “library_layout”.'}, {'title': 'Value not permitted', 'description': '[Demo_genomic_info.tsv: line 47] \"TRANSCRIPTOMIC\" is not a permissible value for property “library_source”.'}, {'title': 'Value not permitted', 'description': '[Demo_genomic_info.tsv: line 47] \"ILLUMINA\" is not a permissible value for property “platform”.'}, {'title': 'Relationship not specified', 'description': '[Demo_genomic_info.tsv: line 47] All related node IDs are missing. Please ensure at least one related node ID is included.'}]                                                                                                                                                                |\n",
       "| 212 | 4ce43a10-4669-40ce-949f-3fbbfc9f2513 | Error      | genomic_info | [{'title': 'Value not permitted', 'description': '[Demo_genomic_info.tsv: line 95] \"Single-end\" is not a permissible value for property “library_layout”.'}, {'title': 'Value not permitted', 'description': '[Demo_genomic_info.tsv: line 95] \"TRANSCRIPTOMIC\" is not a permissible value for property “library_source”.'}, {'title': 'Value not permitted', 'description': '[Demo_genomic_info.tsv: line 95] \"ILLUMINA\" is not a permissible value for property “platform”.'}, {'title': 'Relationship not specified', 'description': '[Demo_genomic_info.tsv: line 95] All related node IDs are missing. Please ensure at least one related node ID is included.'}]                                                                                                                                                                |\n",
       "| 213 | 4ce43a10-4669-40ce-949f-3fbbfc9f2513 | Error      | genomic_info | [{'title': 'Value not permitted', 'description': '[Demo_genomic_info.tsv: line 82] \"Paired-end\" is not a permissible value for property “library_layout”.'}, {'title': 'Value not permitted', 'description': '[Demo_genomic_info.tsv: line 82] \"GENOMIC\" is not a permissible value for property “library_source”.'}, {'title': 'Value not permitted', 'description': '[Demo_genomic_info.tsv: line 82] \"ILLUMINA\" is not a permissible value for property “platform”.'}, {'title': 'Relationship not specified', 'description': '[Demo_genomic_info.tsv: line 82] All related node IDs are missing. Please ensure at least one related node ID is included.'}]                                                                                                                                                                       |\n",
       "| 214 | 4ce43a10-4669-40ce-949f-3fbbfc9f2513 | Error      | genomic_info | [{'title': 'Value not permitted', 'description': '[Demo_genomic_info.tsv: line 94] \"Paired-end\" is not a permissible value for property “library_layout”.'}, {'title': 'Value not permitted', 'description': '[Demo_genomic_info.tsv: line 94] \"TRANSCRIPTOMIC\" is not a permissible value for property “library_source”.'}, {'title': 'Value not permitted', 'description': '[Demo_genomic_info.tsv: line 94] \"ILLUMINA\" is not a permissible value for property “platform”.'}, {'title': 'Relationship not specified', 'description': '[Demo_genomic_info.tsv: line 94] All related node IDs are missing. Please ensure at least one related node ID is included.'}]                                                                                                                                                                |\n",
       "| 215 | 4ce43a10-4669-40ce-949f-3fbbfc9f2513 | Error      | genomic_info | [{'title': 'Value not permitted', 'description': '[Demo_genomic_info.tsv: line 121] \"Paired-end\" is not a permissible value for property “library_layout”.'}, {'title': 'Value not permitted', 'description': '[Demo_genomic_info.tsv: line 121] \"TRANSCRIPTOMIC\" is not a permissible value for property “library_source”.'}, {'title': 'Value not permitted', 'description': '[Demo_genomic_info.tsv: line 121] \"ILLUMINA\" is not a permissible value for property “platform”.'}, {'title': 'Relationship not specified', 'description': '[Demo_genomic_info.tsv: line 121] All related node IDs are missing. Please ensure at least one related node ID is included.'}]                                                                                                                                                            |\n",
       "| 216 | 4ce43a10-4669-40ce-949f-3fbbfc9f2513 | Error      | genomic_info | [{'title': 'Value not permitted', 'description': '[Demo_genomic_info.tsv: line 127] \"Single-end\" is not a permissible value for property “library_layout”.'}, {'title': 'Value not permitted', 'description': '[Demo_genomic_info.tsv: line 127] \"TRANSCRIPTOMIC\" is not a permissible value for property “library_source”.'}, {'title': 'Value not permitted', 'description': '[Demo_genomic_info.tsv: line 127] \"ILLUMINA\" is not a permissible value for property “platform”.'}, {'title': 'Relationship not specified', 'description': '[Demo_genomic_info.tsv: line 127] All related node IDs are missing. Please ensure at least one related node ID is included.'}]                                                                                                                                                            |\n",
       "| 217 | 4ce43a10-4669-40ce-949f-3fbbfc9f2513 | Error      | genomic_info | [{'title': 'Value not permitted', 'description': '[Demo_genomic_info.tsv: line 88] \"Paired-end\" is not a permissible value for property “library_layout”.'}, {'title': 'Value not permitted', 'description': '[Demo_genomic_info.tsv: line 88] \"GENOMIC\" is not a permissible value for property “library_source”.'}, {'title': 'Value not permitted', 'description': '[Demo_genomic_info.tsv: line 88] \"ILLUMINA\" is not a permissible value for property “platform”.'}, {'title': 'Relationship not specified', 'description': '[Demo_genomic_info.tsv: line 88] All related node IDs are missing. Please ensure at least one related node ID is included.'}]                                                                                                                                                                       |\n",
       "| 218 | 4ce43a10-4669-40ce-949f-3fbbfc9f2513 | Error      | genomic_info | [{'title': 'Value not permitted', 'description': '[Demo_genomic_info.tsv: line 109] \"Paired-end\" is not a permissible value for property “library_layout”.'}, {'title': 'Value not permitted', 'description': '[Demo_genomic_info.tsv: line 109] \"GENOMIC\" is not a permissible value for property “library_source”.'}, {'title': 'Value not permitted', 'description': '[Demo_genomic_info.tsv: line 109] \"ILLUMINA\" is not a permissible value for property “platform”.'}, {'title': 'Relationship not specified', 'description': '[Demo_genomic_info.tsv: line 109] All related node IDs are missing. Please ensure at least one related node ID is included.'}]                                                                                                                                                                   |\n",
       "| 219 | 4ce43a10-4669-40ce-949f-3fbbfc9f2513 | Error      | genomic_info | [{'title': 'Value not permitted', 'description': '[Demo_genomic_info.tsv: line 146] \"Paired-end\" is not a permissible value for property “library_layout”.'}, {'title': 'Value not permitted', 'description': '[Demo_genomic_info.tsv: line 146] \"GENOMIC\" is not a permissible value for property “library_source”.'}, {'title': 'Value not permitted', 'description': '[Demo_genomic_info.tsv: line 146] \"ILLUMINA\" is not a permissible value for property “platform”.'}, {'title': 'Relationship not specified', 'description': '[Demo_genomic_info.tsv: line 146] All related node IDs are missing. Please ensure at least one related node ID is included.'}]                                                                                                                                                                   |\n",
       "| 220 | 4ce43a10-4669-40ce-949f-3fbbfc9f2513 | Error      | genomic_info | [{'title': 'Value not permitted', 'description': '[Demo_genomic_info.tsv: line 140] \"Paired-end\" is not a permissible value for property “library_layout”.'}, {'title': 'Value not permitted', 'description': '[Demo_genomic_info.tsv: line 140] \"TRANSCRIPTOMIC\" is not a permissible value for property “library_source”.'}, {'title': 'Value not permitted', 'description': '[Demo_genomic_info.tsv: line 140] \"ILLUMINA\" is not a permissible value for property “platform”.'}, {'title': 'Relationship not specified', 'description': '[Demo_genomic_info.tsv: line 140] All related node IDs are missing. Please ensure at least one related node ID is included.'}]                                                                                                                                                            |\n",
       "| 221 | 4ce43a10-4669-40ce-949f-3fbbfc9f2513 | Error      | genomic_info | [{'title': 'Value not permitted', 'description': '[Demo_genomic_info.tsv: line 112] \"Paired-end\" is not a permissible value for property “library_layout”.'}, {'title': 'Value not permitted', 'description': '[Demo_genomic_info.tsv: line 112] \"GENOMIC\" is not a permissible value for property “library_source”.'}, {'title': 'Value not permitted', 'description': '[Demo_genomic_info.tsv: line 112] \"ILLUMINA\" is not a permissible value for property “platform”.'}, {'title': 'Relationship not specified', 'description': '[Demo_genomic_info.tsv: line 112] All related node IDs are missing. Please ensure at least one related node ID is included.'}]                                                                                                                                                                   |\n",
       "| 222 | 4ce43a10-4669-40ce-949f-3fbbfc9f2513 | Error      | genomic_info | [{'title': 'Value not permitted', 'description': '[Demo_genomic_info.tsv: line 57] \"Paired-end\" is not a permissible value for property “library_layout”.'}, {'title': 'Value not permitted', 'description': '[Demo_genomic_info.tsv: line 57] \"GENOMIC\" is not a permissible value for property “library_source”.'}, {'title': 'Value not permitted', 'description': '[Demo_genomic_info.tsv: line 57] \"ILLUMINA\" is not a permissible value for property “platform”.'}, {'title': 'Relationship not specified', 'description': '[Demo_genomic_info.tsv: line 57] All related node IDs are missing. Please ensure at least one related node ID is included.'}]                                                                                                                                                                       |\n",
       "| 223 | 4ce43a10-4669-40ce-949f-3fbbfc9f2513 | Error      | genomic_info | [{'title': 'Value not permitted', 'description': '[Demo_genomic_info.tsv: line 110] \"Paired-end\" is not a permissible value for property “library_layout”.'}, {'title': 'Value not permitted', 'description': '[Demo_genomic_info.tsv: line 110] \"GENOMIC\" is not a permissible value for property “library_source”.'}, {'title': 'Value not permitted', 'description': '[Demo_genomic_info.tsv: line 110] \"ILLUMINA\" is not a permissible value for property “platform”.'}, {'title': 'Relationship not specified', 'description': '[Demo_genomic_info.tsv: line 110] All related node IDs are missing. Please ensure at least one related node ID is included.'}]                                                                                                                                                                   |\n",
       "| 224 | 4ce43a10-4669-40ce-949f-3fbbfc9f2513 | Error      | genomic_info | [{'title': 'Value not permitted', 'description': '[Demo_genomic_info.tsv: line 86] \"Paired-end\" is not a permissible value for property “library_layout”.'}, {'title': 'Value not permitted', 'description': '[Demo_genomic_info.tsv: line 86] \"GENOMIC\" is not a permissible value for property “library_source”.'}, {'title': 'Value not permitted', 'description': '[Demo_genomic_info.tsv: line 86] \"ILLUMINA\" is not a permissible value for property “platform”.'}, {'title': 'Relationship not specified', 'description': '[Demo_genomic_info.tsv: line 86] All related node IDs are missing. Please ensure at least one related node ID is included.'}]                                                                                                                                                                       |\n",
       "| 225 | 4ce43a10-4669-40ce-949f-3fbbfc9f2513 | Error      | genomic_info | [{'title': 'Value not permitted', 'description': '[Demo_genomic_info.tsv: line 70] \"Paired-end\" is not a permissible value for property “library_layout”.'}, {'title': 'Value not permitted', 'description': '[Demo_genomic_info.tsv: line 70] \"GENOMIC\" is not a permissible value for property “library_source”.'}, {'title': 'Value not permitted', 'description': '[Demo_genomic_info.tsv: line 70] \"ILLUMINA\" is not a permissible value for property “platform”.'}, {'title': 'Relationship not specified', 'description': '[Demo_genomic_info.tsv: line 70] All related node IDs are missing. Please ensure at least one related node ID is included.'}]                                                                                                                                                                       |\n",
       "| 226 | 4ce43a10-4669-40ce-949f-3fbbfc9f2513 | Error      | genomic_info | [{'title': 'Value not permitted', 'description': '[Demo_genomic_info.tsv: line 73] \"Paired-end\" is not a permissible value for property “library_layout”.'}, {'title': 'Value not permitted', 'description': '[Demo_genomic_info.tsv: line 73] \"TRANSCRIPTOMIC\" is not a permissible value for property “library_source”.'}, {'title': 'Value not permitted', 'description': '[Demo_genomic_info.tsv: line 73] \"ILLUMINA\" is not a permissible value for property “platform”.'}, {'title': 'Relationship not specified', 'description': '[Demo_genomic_info.tsv: line 73] All related node IDs are missing. Please ensure at least one related node ID is included.'}]                                                                                                                                                                |\n",
       "| 227 | 4ce43a10-4669-40ce-949f-3fbbfc9f2513 | Error      | genomic_info | [{'title': 'Value not permitted', 'description': '[Demo_genomic_info.tsv: line 120] \"Paired-end\" is not a permissible value for property “library_layout”.'}, {'title': 'Value not permitted', 'description': '[Demo_genomic_info.tsv: line 120] \"GENOMIC\" is not a permissible value for property “library_source”.'}, {'title': 'Value not permitted', 'description': '[Demo_genomic_info.tsv: line 120] \"ILLUMINA\" is not a permissible value for property “platform”.'}, {'title': 'Relationship not specified', 'description': '[Demo_genomic_info.tsv: line 120] All related node IDs are missing. Please ensure at least one related node ID is included.'}]                                                                                                                                                                   |\n",
       "| 228 | 4ce43a10-4669-40ce-949f-3fbbfc9f2513 | Error      | genomic_info | [{'title': 'Value not permitted', 'description': '[Demo_genomic_info.tsv: line 135] \"Paired-end\" is not a permissible value for property “library_layout”.'}, {'title': 'Value not permitted', 'description': '[Demo_genomic_info.tsv: line 135] \"TRANSCRIPTOMIC\" is not a permissible value for property “library_source”.'}, {'title': 'Value not permitted', 'description': '[Demo_genomic_info.tsv: line 135] \"ILLUMINA\" is not a permissible value for property “platform”.'}, {'title': 'Relationship not specified', 'description': '[Demo_genomic_info.tsv: line 135] All related node IDs are missing. Please ensure at least one related node ID is included.'}]                                                                                                                                                            |\n",
       "| 229 | 4ce43a10-4669-40ce-949f-3fbbfc9f2513 | Error      | genomic_info | [{'title': 'Value not permitted', 'description': '[Demo_genomic_info.tsv: line 152] \"Paired-end\" is not a permissible value for property “library_layout”.'}, {'title': 'Value not permitted', 'description': '[Demo_genomic_info.tsv: line 152] \"TRANSCRIPTOMIC\" is not a permissible value for property “library_source”.'}, {'title': 'Value not permitted', 'description': '[Demo_genomic_info.tsv: line 152] \"ILLUMINA\" is not a permissible value for property “platform”.'}, {'title': 'Relationship not specified', 'description': '[Demo_genomic_info.tsv: line 152] All related node IDs are missing. Please ensure at least one related node ID is included.'}]                                                                                                                                                            |\n",
       "| 230 | 4ce43a10-4669-40ce-949f-3fbbfc9f2513 | Error      | genomic_info | [{'title': 'Value not permitted', 'description': '[Demo_genomic_info.tsv: line 66] \"Paired-end\" is not a permissible value for property “library_layout”.'}, {'title': 'Value not permitted', 'description': '[Demo_genomic_info.tsv: line 66] \"GENOMIC\" is not a permissible value for property “library_source”.'}, {'title': 'Value not permitted', 'description': '[Demo_genomic_info.tsv: line 66] \"ILLUMINA\" is not a permissible value for property “platform”.'}, {'title': 'Relationship not specified', 'description': '[Demo_genomic_info.tsv: line 66] All related node IDs are missing. Please ensure at least one related node ID is included.'}]                                                                                                                                                                       |\n",
       "| 231 | 4ce43a10-4669-40ce-949f-3fbbfc9f2513 | Error      | genomic_info | [{'title': 'Value not permitted', 'description': '[Demo_genomic_info.tsv: line 5] \"Paired-end\" is not a permissible value for property “library_layout”.'}, {'title': 'Value not permitted', 'description': '[Demo_genomic_info.tsv: line 5] \"TRANSCRIPTOMIC\" is not a permissible value for property “library_source”.'}, {'title': 'Value not permitted', 'description': '[Demo_genomic_info.tsv: line 5] \"ILLUMINA\" is not a permissible value for property “platform”.'}, {'title': 'Relationship not specified', 'description': '[Demo_genomic_info.tsv: line 5] All related node IDs are missing. Please ensure at least one related node ID is included.'}]                                                                                                                                                                    |\n",
       "| 232 | 4ce43a10-4669-40ce-949f-3fbbfc9f2513 | Error      | genomic_info | [{'title': 'Value not permitted', 'description': '[Demo_genomic_info.tsv: line 74] \"Paired-end\" is not a permissible value for property “library_layout”.'}, {'title': 'Value not permitted', 'description': '[Demo_genomic_info.tsv: line 74] \"GENOMIC\" is not a permissible value for property “library_source”.'}, {'title': 'Value not permitted', 'description': '[Demo_genomic_info.tsv: line 74] \"ILLUMINA\" is not a permissible value for property “platform”.'}, {'title': 'Relationship not specified', 'description': '[Demo_genomic_info.tsv: line 74] All related node IDs are missing. Please ensure at least one related node ID is included.'}]                                                                                                                                                                       |\n",
       "| 233 | 4ce43a10-4669-40ce-949f-3fbbfc9f2513 | Error      | genomic_info | [{'title': 'Value not permitted', 'description': '[Demo_genomic_info.tsv: line 96] \"Single-end\" is not a permissible value for property “library_layout”.'}, {'title': 'Value not permitted', 'description': '[Demo_genomic_info.tsv: line 96] \"TRANSCRIPTOMIC\" is not a permissible value for property “library_source”.'}, {'title': 'Value not permitted', 'description': '[Demo_genomic_info.tsv: line 96] \"ILLUMINA\" is not a permissible value for property “platform”.'}, {'title': 'Relationship not specified', 'description': '[Demo_genomic_info.tsv: line 96] All related node IDs are missing. Please ensure at least one related node ID is included.'}]                                                                                                                                                                |\n",
       "| 234 | 4ce43a10-4669-40ce-949f-3fbbfc9f2513 | Error      | genomic_info | [{'title': 'Value not permitted', 'description': '[Demo_genomic_info.tsv: line 129] \"Paired-end\" is not a permissible value for property “library_layout”.'}, {'title': 'Value not permitted', 'description': '[Demo_genomic_info.tsv: line 129] \"GENOMIC\" is not a permissible value for property “library_source”.'}, {'title': 'Value not permitted', 'description': '[Demo_genomic_info.tsv: line 129] \"ILLUMINA\" is not a permissible value for property “platform”.'}, {'title': 'Relationship not specified', 'description': '[Demo_genomic_info.tsv: line 129] All related node IDs are missing. Please ensure at least one related node ID is included.'}]                                                                                                                                                                   |\n",
       "| 235 | 4ce43a10-4669-40ce-949f-3fbbfc9f2513 | Error      | genomic_info | [{'title': 'Value not permitted', 'description': '[Demo_genomic_info.tsv: line 41] \"Paired-end\" is not a permissible value for property “library_layout”.'}, {'title': 'Value not permitted', 'description': '[Demo_genomic_info.tsv: line 41] \"TRANSCRIPTOMIC\" is not a permissible value for property “library_source”.'}, {'title': 'Value not permitted', 'description': '[Demo_genomic_info.tsv: line 41] \"ILLUMINA\" is not a permissible value for property “platform”.'}, {'title': 'Relationship not specified', 'description': '[Demo_genomic_info.tsv: line 41] All related node IDs are missing. Please ensure at least one related node ID is included.'}]                                                                                                                                                                |\n",
       "| 236 | 4ce43a10-4669-40ce-949f-3fbbfc9f2513 | Error      | genomic_info | [{'title': 'Value not permitted', 'description': '[Demo_genomic_info.tsv: line 138] \"Paired-end\" is not a permissible value for property “library_layout”.'}, {'title': 'Value not permitted', 'description': '[Demo_genomic_info.tsv: line 138] \"GENOMIC\" is not a permissible value for property “library_source”.'}, {'title': 'Value not permitted', 'description': '[Demo_genomic_info.tsv: line 138] \"ILLUMINA\" is not a permissible value for property “platform”.'}, {'title': 'Relationship not specified', 'description': '[Demo_genomic_info.tsv: line 138] All related node IDs are missing. Please ensure at least one related node ID is included.'}]                                                                                                                                                                   |\n",
       "| 237 | 4ce43a10-4669-40ce-949f-3fbbfc9f2513 | Error      | genomic_info | [{'title': 'Value not permitted', 'description': '[Demo_genomic_info.tsv: line 147] \"Paired-end\" is not a permissible value for property “library_layout”.'}, {'title': 'Value not permitted', 'description': '[Demo_genomic_info.tsv: line 147] \"GENOMIC\" is not a permissible value for property “library_source”.'}, {'title': 'Value not permitted', 'description': '[Demo_genomic_info.tsv: line 147] \"ILLUMINA\" is not a permissible value for property “platform”.'}, {'title': 'Relationship not specified', 'description': '[Demo_genomic_info.tsv: line 147] All related node IDs are missing. Please ensure at least one related node ID is included.'}]                                                                                                                                                                   |\n",
       "| 238 | 4ce43a10-4669-40ce-949f-3fbbfc9f2513 | Error      | genomic_info | [{'title': 'Value not permitted', 'description': '[Demo_genomic_info.tsv: line 3] \"Paired-end\" is not a permissible value for property “library_layout”.'}, {'title': 'Value not permitted', 'description': '[Demo_genomic_info.tsv: line 3] \"GENOMIC\" is not a permissible value for property “library_source”.'}, {'title': 'Value not permitted', 'description': '[Demo_genomic_info.tsv: line 3] \"ILLUMINA\" is not a permissible value for property “platform”.'}, {'title': 'Relationship not specified', 'description': '[Demo_genomic_info.tsv: line 3] All related node IDs are missing. Please ensure at least one related node ID is included.'}]                                                                                                                                                                           |\n",
       "| 239 | 4ce43a10-4669-40ce-949f-3fbbfc9f2513 | Error      | genomic_info | [{'title': 'Value not permitted', 'description': '[Demo_genomic_info.tsv: line 130] \"Paired-end\" is not a permissible value for property “library_layout”.'}, {'title': 'Value not permitted', 'description': '[Demo_genomic_info.tsv: line 130] \"TRANSCRIPTOMIC\" is not a permissible value for property “library_source”.'}, {'title': 'Value not permitted', 'description': '[Demo_genomic_info.tsv: line 130] \"ILLUMINA\" is not a permissible value for property “platform”.'}, {'title': 'Relationship not specified', 'description': '[Demo_genomic_info.tsv: line 130] All related node IDs are missing. Please ensure at least one related node ID is included.'}]                                                                                                                                                            |\n",
       "| 240 | 4ce43a10-4669-40ce-949f-3fbbfc9f2513 | Error      | genomic_info | [{'title': 'Value not permitted', 'description': '[Demo_genomic_info.tsv: line 8] \"Paired-end\" is not a permissible value for property “library_layout”.'}, {'title': 'Value not permitted', 'description': '[Demo_genomic_info.tsv: line 8] \"GENOMIC\" is not a permissible value for property “library_source”.'}, {'title': 'Value not permitted', 'description': '[Demo_genomic_info.tsv: line 8] \"ILLUMINA\" is not a permissible value for property “platform”.'}, {'title': 'Relationship not specified', 'description': '[Demo_genomic_info.tsv: line 8] All related node IDs are missing. Please ensure at least one related node ID is included.'}]                                                                                                                                                                           |\n",
       "| 241 | 4ce43a10-4669-40ce-949f-3fbbfc9f2513 | Error      | genomic_info | [{'title': 'Value not permitted', 'description': '[Demo_genomic_info.tsv: line 142] \"Paired-end\" is not a permissible value for property “library_layout”.'}, {'title': 'Value not permitted', 'description': '[Demo_genomic_info.tsv: line 142] \"TRANSCRIPTOMIC\" is not a permissible value for property “library_source”.'}, {'title': 'Value not permitted', 'description': '[Demo_genomic_info.tsv: line 142] \"ILLUMINA\" is not a permissible value for property “platform”.'}, {'title': 'Relationship not specified', 'description': '[Demo_genomic_info.tsv: line 142] All related node IDs are missing. Please ensure at least one related node ID is included.'}]                                                                                                                                                            |\n",
       "| 242 | 4ce43a10-4669-40ce-949f-3fbbfc9f2513 | Error      | genomic_info | [{'title': 'Value not permitted', 'description': '[Demo_genomic_info.tsv: line 115] \"Paired-end\" is not a permissible value for property “library_layout”.'}, {'title': 'Value not permitted', 'description': '[Demo_genomic_info.tsv: line 115] \"GENOMIC\" is not a permissible value for property “library_source”.'}, {'title': 'Value not permitted', 'description': '[Demo_genomic_info.tsv: line 115] \"ILLUMINA\" is not a permissible value for property “platform”.'}, {'title': 'Relationship not specified', 'description': '[Demo_genomic_info.tsv: line 115] All related node IDs are missing. Please ensure at least one related node ID is included.'}]                                                                                                                                                                   |\n",
       "| 243 | 4ce43a10-4669-40ce-949f-3fbbfc9f2513 | Error      | genomic_info | [{'title': 'Value not permitted', 'description': '[Demo_genomic_info.tsv: line 106] \"Paired-end\" is not a permissible value for property “library_layout”.'}, {'title': 'Value not permitted', 'description': '[Demo_genomic_info.tsv: line 106] \"GENOMIC\" is not a permissible value for property “library_source”.'}, {'title': 'Value not permitted', 'description': '[Demo_genomic_info.tsv: line 106] \"ILLUMINA\" is not a permissible value for property “platform”.'}, {'title': 'Relationship not specified', 'description': '[Demo_genomic_info.tsv: line 106] All related node IDs are missing. Please ensure at least one related node ID is included.'}]                                                                                                                                                                   |\n",
       "| 244 | 4ce43a10-4669-40ce-949f-3fbbfc9f2513 | Error      | genomic_info | [{'title': 'Value not permitted', 'description': '[Demo_genomic_info.tsv: line 72] \"Paired-end\" is not a permissible value for property “library_layout”.'}, {'title': 'Value not permitted', 'description': '[Demo_genomic_info.tsv: line 72] \"GENOMIC\" is not a permissible value for property “library_source”.'}, {'title': 'Value not permitted', 'description': '[Demo_genomic_info.tsv: line 72] \"ILLUMINA\" is not a permissible value for property “platform”.'}, {'title': 'Relationship not specified', 'description': '[Demo_genomic_info.tsv: line 72] All related node IDs are missing. Please ensure at least one related node ID is included.'}]                                                                                                                                                                       |\n",
       "| 245 | 4ce43a10-4669-40ce-949f-3fbbfc9f2513 | Error      | genomic_info | [{'title': 'Value not permitted', 'description': '[Demo_genomic_info.tsv: line 53] \"Paired-end\" is not a permissible value for property “library_layout”.'}, {'title': 'Value not permitted', 'description': '[Demo_genomic_info.tsv: line 53] \"TRANSCRIPTOMIC\" is not a permissible value for property “library_source”.'}, {'title': 'Value not permitted', 'description': '[Demo_genomic_info.tsv: line 53] \"ILLUMINA\" is not a permissible value for property “platform”.'}, {'title': 'Relationship not specified', 'description': '[Demo_genomic_info.tsv: line 53] All related node IDs are missing. Please ensure at least one related node ID is included.'}]                                                                                                                                                                |\n",
       "| 246 | 4ce43a10-4669-40ce-949f-3fbbfc9f2513 | Error      | genomic_info | [{'title': 'Value not permitted', 'description': '[Demo_genomic_info.tsv: line 30] \"Single-end\" is not a permissible value for property “library_layout”.'}, {'title': 'Value not permitted', 'description': '[Demo_genomic_info.tsv: line 30] \"TRANSCRIPTOMIC\" is not a permissible value for property “library_source”.'}, {'title': 'Value not permitted', 'description': '[Demo_genomic_info.tsv: line 30] \"PolyA\" is not a permissible value for property “library_selection”.'}, {'title': 'Value not permitted', 'description': '[Demo_genomic_info.tsv: line 30] \"ILLUMINA\" is not a permissible value for property “platform”.'}, {'title': 'Relationship not specified', 'description': '[Demo_genomic_info.tsv: line 30] All related node IDs are missing. Please ensure at least one related node ID is included.'}]      |\n",
       "| 247 | 4ce43a10-4669-40ce-949f-3fbbfc9f2513 | Error      | genomic_info | [{'title': 'Value not permitted', 'description': '[Demo_genomic_info.tsv: line 46] \"Single-end\" is not a permissible value for property “library_layout”.'}, {'title': 'Value not permitted', 'description': '[Demo_genomic_info.tsv: line 46] \"TRANSCRIPTOMIC\" is not a permissible value for property “library_source”.'}, {'title': 'Value not permitted', 'description': '[Demo_genomic_info.tsv: line 46] \"ILLUMINA\" is not a permissible value for property “platform”.'}, {'title': 'Relationship not specified', 'description': '[Demo_genomic_info.tsv: line 46] All related node IDs are missing. Please ensure at least one related node ID is included.'}]                                                                                                                                                                |\n",
       "| 248 | 4ce43a10-4669-40ce-949f-3fbbfc9f2513 | Error      | genomic_info | [{'title': 'Value not permitted', 'description': '[Demo_genomic_info.tsv: line 117] \"Paired-end\" is not a permissible value for property “library_layout”.'}, {'title': 'Value not permitted', 'description': '[Demo_genomic_info.tsv: line 117] \"GENOMIC\" is not a permissible value for property “library_source”.'}, {'title': 'Value not permitted', 'description': '[Demo_genomic_info.tsv: line 117] \"ILLUMINA\" is not a permissible value for property “platform”.'}, {'title': 'Relationship not specified', 'description': '[Demo_genomic_info.tsv: line 117] All related node IDs are missing. Please ensure at least one related node ID is included.'}]                                                                                                                                                                   |\n",
       "| 249 | 4ce43a10-4669-40ce-949f-3fbbfc9f2513 | Error      | genomic_info | [{'title': 'Value not permitted', 'description': '[Demo_genomic_info.tsv: line 81] \"Paired-end\" is not a permissible value for property “library_layout”.'}, {'title': 'Value not permitted', 'description': '[Demo_genomic_info.tsv: line 81] \"GENOMIC\" is not a permissible value for property “library_source”.'}, {'title': 'Value not permitted', 'description': '[Demo_genomic_info.tsv: line 81] \"ILLUMINA\" is not a permissible value for property “platform”.'}, {'title': 'Relationship not specified', 'description': '[Demo_genomic_info.tsv: line 81] All related node IDs are missing. Please ensure at least one related node ID is included.'}]                                                                                                                                                                       |\n",
       "| 250 | 4ce43a10-4669-40ce-949f-3fbbfc9f2513 | Error      | genomic_info | [{'title': 'Value not permitted', 'description': '[Demo_genomic_info.tsv: line 87] \"Paired-end\" is not a permissible value for property “library_layout”.'}, {'title': 'Value not permitted', 'description': '[Demo_genomic_info.tsv: line 87] \"GENOMIC\" is not a permissible value for property “library_source”.'}, {'title': 'Value not permitted', 'description': '[Demo_genomic_info.tsv: line 87] \"ILLUMINA\" is not a permissible value for property “platform”.'}, {'title': 'Relationship not specified', 'description': '[Demo_genomic_info.tsv: line 87] All related node IDs are missing. Please ensure at least one related node ID is included.'}]                                                                                                                                                                       |\n",
       "| 251 | 4ce43a10-4669-40ce-949f-3fbbfc9f2513 | Error      | genomic_info | [{'title': 'Value not permitted', 'description': '[Demo_genomic_info.tsv: line 59] \"Paired-end\" is not a permissible value for property “library_layout”.'}, {'title': 'Value not permitted', 'description': '[Demo_genomic_info.tsv: line 59] \"GENOMIC\" is not a permissible value for property “library_source”.'}, {'title': 'Value not permitted', 'description': '[Demo_genomic_info.tsv: line 59] \"ILLUMINA\" is not a permissible value for property “platform”.'}, {'title': 'Relationship not specified', 'description': '[Demo_genomic_info.tsv: line 59] All related node IDs are missing. Please ensure at least one related node ID is included.'}]                                                                                                                                                                       |\n",
       "| 252 | 4ce43a10-4669-40ce-949f-3fbbfc9f2513 | Error      | genomic_info | [{'title': 'Value not permitted', 'description': '[Demo_genomic_info.tsv: line 91] \"Paired-end\" is not a permissible value for property “library_layout”.'}, {'title': 'Value not permitted', 'description': '[Demo_genomic_info.tsv: line 91] \"GENOMIC\" is not a permissible value for property “library_source”.'}, {'title': 'Value not permitted', 'description': '[Demo_genomic_info.tsv: line 91] \"ILLUMINA\" is not a permissible value for property “platform”.'}, {'title': 'Relationship not specified', 'description': '[Demo_genomic_info.tsv: line 91] All related node IDs are missing. Please ensure at least one related node ID is included.'}]                                                                                                                                                                       |\n",
       "| 253 | 4ce43a10-4669-40ce-949f-3fbbfc9f2513 | Error      | genomic_info | [{'title': 'Value not permitted', 'description': '[Demo_genomic_info.tsv: line 90] \"Paired-end\" is not a permissible value for property “library_layout”.'}, {'title': 'Value not permitted', 'description': '[Demo_genomic_info.tsv: line 90] \"GENOMIC\" is not a permissible value for property “library_source”.'}, {'title': 'Value not permitted', 'description': '[Demo_genomic_info.tsv: line 90] \"ILLUMINA\" is not a permissible value for property “platform”.'}, {'title': 'Relationship not specified', 'description': '[Demo_genomic_info.tsv: line 90] All related node IDs are missing. Please ensure at least one related node ID is included.'}]                                                                                                                                                                       |\n",
       "| 254 | 4ce43a10-4669-40ce-949f-3fbbfc9f2513 | Error      | genomic_info | [{'title': 'Value not permitted', 'description': '[Demo_genomic_info.tsv: line 32] \"Paired-end\" is not a permissible value for property “library_layout”.'}, {'title': 'Value not permitted', 'description': '[Demo_genomic_info.tsv: line 32] \"TRANSCRIPTOMIC\" is not a permissible value for property “library_source”.'}, {'title': 'Value not permitted', 'description': '[Demo_genomic_info.tsv: line 32] \"ILLUMINA\" is not a permissible value for property “platform”.'}, {'title': 'Relationship not specified', 'description': '[Demo_genomic_info.tsv: line 32] All related node IDs are missing. Please ensure at least one related node ID is included.'}]                                                                                                                                                                |\n",
       "| 255 | 4ce43a10-4669-40ce-949f-3fbbfc9f2513 | Error      | genomic_info | [{'title': 'Value not permitted', 'description': '[Demo_genomic_info.tsv: line 24] \"Single-end\" is not a permissible value for property “library_layout”.'}, {'title': 'Value not permitted', 'description': '[Demo_genomic_info.tsv: line 24] \"TRANSCRIPTOMIC\" is not a permissible value for property “library_source”.'}, {'title': 'Value not permitted', 'description': '[Demo_genomic_info.tsv: line 24] \"ILLUMINA\" is not a permissible value for property “platform”.'}, {'title': 'Relationship not specified', 'description': '[Demo_genomic_info.tsv: line 24] All related node IDs are missing. Please ensure at least one related node ID is included.'}]                                                                                                                                                                |\n",
       "| 256 | 4ce43a10-4669-40ce-949f-3fbbfc9f2513 | Error      | genomic_info | [{'title': 'Value not permitted', 'description': '[Demo_genomic_info.tsv: line 75] \"Paired-end\" is not a permissible value for property “library_layout”.'}, {'title': 'Value not permitted', 'description': '[Demo_genomic_info.tsv: line 75] \"GENOMIC\" is not a permissible value for property “library_source”.'}, {'title': 'Value not permitted', 'description': '[Demo_genomic_info.tsv: line 75] \"ILLUMINA\" is not a permissible value for property “platform”.'}, {'title': 'Relationship not specified', 'description': '[Demo_genomic_info.tsv: line 75] All related node IDs are missing. Please ensure at least one related node ID is included.'}]                                                                                                                                                                       |\n",
       "| 257 | 4ce43a10-4669-40ce-949f-3fbbfc9f2513 | Error      | genomic_info | [{'title': 'Value not permitted', 'description': '[Demo_genomic_info.tsv: line 61] \"Paired-end\" is not a permissible value for property “library_layout”.'}, {'title': 'Value not permitted', 'description': '[Demo_genomic_info.tsv: line 61] \"GENOMIC\" is not a permissible value for property “library_source”.'}, {'title': 'Value not permitted', 'description': '[Demo_genomic_info.tsv: line 61] \"ILLUMINA\" is not a permissible value for property “platform”.'}, {'title': 'Relationship not specified', 'description': '[Demo_genomic_info.tsv: line 61] All related node IDs are missing. Please ensure at least one related node ID is included.'}]                                                                                                                                                                       |\n",
       "| 258 | 4ce43a10-4669-40ce-949f-3fbbfc9f2513 | Error      | genomic_info | [{'title': 'Value not permitted', 'description': '[Demo_genomic_info.tsv: line 131] \"Paired-end\" is not a permissible value for property “library_layout”.'}, {'title': 'Value not permitted', 'description': '[Demo_genomic_info.tsv: line 131] \"TRANSCRIPTOMIC\" is not a permissible value for property “library_source”.'}, {'title': 'Value not permitted', 'description': '[Demo_genomic_info.tsv: line 131] \"ILLUMINA\" is not a permissible value for property “platform”.'}, {'title': 'Relationship not specified', 'description': '[Demo_genomic_info.tsv: line 131] All related node IDs are missing. Please ensure at least one related node ID is included.'}]                                                                                                                                                            |\n",
       "| 259 | 4ce43a10-4669-40ce-949f-3fbbfc9f2513 | Error      | genomic_info | [{'title': 'Value not permitted', 'description': '[Demo_genomic_info.tsv: line 42] \"Paired-end\" is not a permissible value for property “library_layout”.'}, {'title': 'Value not permitted', 'description': '[Demo_genomic_info.tsv: line 42] \"TRANSCRIPTOMIC\" is not a permissible value for property “library_source”.'}, {'title': 'Value not permitted', 'description': '[Demo_genomic_info.tsv: line 42] \"ILLUMINA\" is not a permissible value for property “platform”.'}, {'title': 'Relationship not specified', 'description': '[Demo_genomic_info.tsv: line 42] All related node IDs are missing. Please ensure at least one related node ID is included.'}]                                                                                                                                                                |\n",
       "| 260 | 4ce43a10-4669-40ce-949f-3fbbfc9f2513 | Error      | genomic_info | [{'title': 'Value not permitted', 'description': '[Demo_genomic_info.tsv: line 28] \"Single-end\" is not a permissible value for property “library_layout”.'}, {'title': 'Value not permitted', 'description': '[Demo_genomic_info.tsv: line 28] \"TRANSCRIPTOMIC\" is not a permissible value for property “library_source”.'}, {'title': 'Value not permitted', 'description': '[Demo_genomic_info.tsv: line 28] \"ILLUMINA\" is not a permissible value for property “platform”.'}, {'title': 'Relationship not specified', 'description': '[Demo_genomic_info.tsv: line 28] All related node IDs are missing. Please ensure at least one related node ID is included.'}]                                                                                                                                                                |\n",
       "| 261 | 4ce43a10-4669-40ce-949f-3fbbfc9f2513 | Error      | genomic_info | [{'title': 'Value not permitted', 'description': '[Demo_genomic_info.tsv: line 64] \"Paired-end\" is not a permissible value for property “library_layout”.'}, {'title': 'Value not permitted', 'description': '[Demo_genomic_info.tsv: line 64] \"GENOMIC\" is not a permissible value for property “library_source”.'}, {'title': 'Value not permitted', 'description': '[Demo_genomic_info.tsv: line 64] \"ILLUMINA\" is not a permissible value for property “platform”.'}, {'title': 'Relationship not specified', 'description': '[Demo_genomic_info.tsv: line 64] All related node IDs are missing. Please ensure at least one related node ID is included.'}]                                                                                                                                                                       |\n",
       "| 262 | 4ce43a10-4669-40ce-949f-3fbbfc9f2513 | Error      | genomic_info | [{'title': 'Value not permitted', 'description': '[Demo_genomic_info.tsv: line 60] \"Paired-end\" is not a permissible value for property “library_layout”.'}, {'title': 'Value not permitted', 'description': '[Demo_genomic_info.tsv: line 60] \"GENOMIC\" is not a permissible value for property “library_source”.'}, {'title': 'Value not permitted', 'description': '[Demo_genomic_info.tsv: line 60] \"ILLUMINA\" is not a permissible value for property “platform”.'}, {'title': 'Relationship not specified', 'description': '[Demo_genomic_info.tsv: line 60] All related node IDs are missing. Please ensure at least one related node ID is included.'}]                                                                                                                                                                       |\n",
       "| 263 | 4ce43a10-4669-40ce-949f-3fbbfc9f2513 | Error      | genomic_info | [{'title': 'Value not permitted', 'description': '[Demo_genomic_info.tsv: line 71] \"Paired-end\" is not a permissible value for property “library_layout”.'}, {'title': 'Value not permitted', 'description': '[Demo_genomic_info.tsv: line 71] \"GENOMIC\" is not a permissible value for property “library_source”.'}, {'title': 'Value not permitted', 'description': '[Demo_genomic_info.tsv: line 71] \"ILLUMINA\" is not a permissible value for property “platform”.'}, {'title': 'Relationship not specified', 'description': '[Demo_genomic_info.tsv: line 71] All related node IDs are missing. Please ensure at least one related node ID is included.'}]                                                                                                                                                                       |\n",
       "| 264 | 4ce43a10-4669-40ce-949f-3fbbfc9f2513 | Error      | genomic_info | [{'title': 'Value not permitted', 'description': '[Demo_genomic_info.tsv: line 31] \"Paired-end\" is not a permissible value for property “library_layout”.'}, {'title': 'Value not permitted', 'description': '[Demo_genomic_info.tsv: line 31] \"TRANSCRIPTOMIC\" is not a permissible value for property “library_source”.'}, {'title': 'Value not permitted', 'description': '[Demo_genomic_info.tsv: line 31] \"ILLUMINA\" is not a permissible value for property “platform”.'}, {'title': 'Relationship not specified', 'description': '[Demo_genomic_info.tsv: line 31] All related node IDs are missing. Please ensure at least one related node ID is included.'}]                                                                                                                                                                |\n",
       "| 265 | 4ce43a10-4669-40ce-949f-3fbbfc9f2513 | Error      | genomic_info | [{'title': 'Value not permitted', 'description': '[Demo_genomic_info.tsv: line 78] \"Paired-end\" is not a permissible value for property “library_layout”.'}, {'title': 'Value not permitted', 'description': '[Demo_genomic_info.tsv: line 78] \"GENOMIC\" is not a permissible value for property “library_source”.'}, {'title': 'Value not permitted', 'description': '[Demo_genomic_info.tsv: line 78] \"ILLUMINA\" is not a permissible value for property “platform”.'}, {'title': 'Relationship not specified', 'description': '[Demo_genomic_info.tsv: line 78] All related node IDs are missing. Please ensure at least one related node ID is included.'}]                                                                                                                                                                       |\n",
       "| 266 | 4ce43a10-4669-40ce-949f-3fbbfc9f2513 | Error      | genomic_info | [{'title': 'Value not permitted', 'description': '[Demo_genomic_info.tsv: line 38] \"Paired-end\" is not a permissible value for property “library_layout”.'}, {'title': 'Value not permitted', 'description': '[Demo_genomic_info.tsv: line 38] \"TRANSCRIPTOMIC\" is not a permissible value for property “library_source”.'}, {'title': 'Value not permitted', 'description': '[Demo_genomic_info.tsv: line 38] \"ILLUMINA\" is not a permissible value for property “platform”.'}, {'title': 'Relationship not specified', 'description': '[Demo_genomic_info.tsv: line 38] All related node IDs are missing. Please ensure at least one related node ID is included.'}]                                                                                                                                                                |\n",
       "| 267 | 4ce43a10-4669-40ce-949f-3fbbfc9f2513 | Error      | genomic_info | [{'title': 'Value not permitted', 'description': '[Demo_genomic_info.tsv: line 125] \"Paired-end\" is not a permissible value for property “library_layout”.'}, {'title': 'Value not permitted', 'description': '[Demo_genomic_info.tsv: line 125] \"GENOMIC\" is not a permissible value for property “library_source”.'}, {'title': 'Value not permitted', 'description': '[Demo_genomic_info.tsv: line 125] \"ILLUMINA\" is not a permissible value for property “platform”.'}, {'title': 'Relationship not specified', 'description': '[Demo_genomic_info.tsv: line 125] All related node IDs are missing. Please ensure at least one related node ID is included.'}]                                                                                                                                                                   |\n",
       "| 268 | 4ce43a10-4669-40ce-949f-3fbbfc9f2513 | Error      | genomic_info | [{'title': 'Value not permitted', 'description': '[Demo_genomic_info.tsv: line 4] \"Paired-end\" is not a permissible value for property “library_layout”.'}, {'title': 'Value not permitted', 'description': '[Demo_genomic_info.tsv: line 4] \"TRANSCRIPTOMIC\" is not a permissible value for property “library_source”.'}, {'title': 'Value not permitted', 'description': '[Demo_genomic_info.tsv: line 4] \"ILLUMINA\" is not a permissible value for property “platform”.'}, {'title': 'Relationship not specified', 'description': '[Demo_genomic_info.tsv: line 4] All related node IDs are missing. Please ensure at least one related node ID is included.'}]                                                                                                                                                                    |\n",
       "| 269 | 4ce43a10-4669-40ce-949f-3fbbfc9f2513 | Error      | genomic_info | [{'title': 'Value not permitted', 'description': '[Demo_genomic_info.tsv: line 141] \"Paired-end\" is not a permissible value for property “library_layout”.'}, {'title': 'Value not permitted', 'description': '[Demo_genomic_info.tsv: line 141] \"TRANSCRIPTOMIC\" is not a permissible value for property “library_source”.'}, {'title': 'Value not permitted', 'description': '[Demo_genomic_info.tsv: line 141] \"ILLUMINA\" is not a permissible value for property “platform”.'}, {'title': 'Relationship not specified', 'description': '[Demo_genomic_info.tsv: line 141] All related node IDs are missing. Please ensure at least one related node ID is included.'}]                                                                                                                                                            |\n",
       "| 270 | 4ce43a10-4669-40ce-949f-3fbbfc9f2513 | Error      | genomic_info | [{'title': 'Value not permitted', 'description': '[Demo_genomic_info.tsv: line 54] \"Paired-end\" is not a permissible value for property “library_layout”.'}, {'title': 'Value not permitted', 'description': '[Demo_genomic_info.tsv: line 54] \"TRANSCRIPTOMIC\" is not a permissible value for property “library_source”.'}, {'title': 'Value not permitted', 'description': '[Demo_genomic_info.tsv: line 54] \"ILLUMINA\" is not a permissible value for property “platform”.'}, {'title': 'Relationship not specified', 'description': '[Demo_genomic_info.tsv: line 54] All related node IDs are missing. Please ensure at least one related node ID is included.'}]                                                                                                                                                                |\n",
       "| 271 | 4ce43a10-4669-40ce-949f-3fbbfc9f2513 | Error      | genomic_info | [{'title': 'Value not permitted', 'description': '[Demo_genomic_info.tsv: line 126] \"Paired-end\" is not a permissible value for property “library_layout”.'}, {'title': 'Value not permitted', 'description': '[Demo_genomic_info.tsv: line 126] \"TRANSCRIPTOMIC\" is not a permissible value for property “library_source”.'}, {'title': 'Value not permitted', 'description': '[Demo_genomic_info.tsv: line 126] \"ILLUMINA\" is not a permissible value for property “platform”.'}, {'title': 'Relationship not specified', 'description': '[Demo_genomic_info.tsv: line 126] All related node IDs are missing. Please ensure at least one related node ID is included.'}]                                                                                                                                                            |\n",
       "| 272 | 4ce43a10-4669-40ce-949f-3fbbfc9f2513 | Error      | genomic_info | [{'title': 'Value not permitted', 'description': '[Demo_genomic_info.tsv: line 100] \"Paired-end\" is not a permissible value for property “library_layout”.'}, {'title': 'Value not permitted', 'description': '[Demo_genomic_info.tsv: line 100] \"TRANSCRIPTOMIC\" is not a permissible value for property “library_source”.'}, {'title': 'Value not permitted', 'description': '[Demo_genomic_info.tsv: line 100] \"ILLUMINA\" is not a permissible value for property “platform”.'}, {'title': 'Relationship not specified', 'description': '[Demo_genomic_info.tsv: line 100] All related node IDs are missing. Please ensure at least one related node ID is included.'}]                                                                                                                                                            |\n",
       "| 273 | 4ce43a10-4669-40ce-949f-3fbbfc9f2513 | Error      | genomic_info | [{'title': 'Value not permitted', 'description': '[Demo_genomic_info.tsv: line 23] \"Paired-end\" is not a permissible value for property “library_layout”.'}, {'title': 'Value not permitted', 'description': '[Demo_genomic_info.tsv: line 23] \"TRANSCRIPTOMIC\" is not a permissible value for property “library_source”.'}, {'title': 'Value not permitted', 'description': '[Demo_genomic_info.tsv: line 23] \"ILLUMINA\" is not a permissible value for property “platform”.'}, {'title': 'Relationship not specified', 'description': '[Demo_genomic_info.tsv: line 23] All related node IDs are missing. Please ensure at least one related node ID is included.'}]                                                                                                                                                                |\n",
       "| 274 | 4ce43a10-4669-40ce-949f-3fbbfc9f2513 | Error      | genomic_info | [{'title': 'Value not permitted', 'description': '[Demo_genomic_info.tsv: line 102] \"Paired-end\" is not a permissible value for property “library_layout”.'}, {'title': 'Value not permitted', 'description': '[Demo_genomic_info.tsv: line 102] \"TRANSCRIPTOMIC\" is not a permissible value for property “library_source”.'}, {'title': 'Value not permitted', 'description': '[Demo_genomic_info.tsv: line 102] \"ILLUMINA\" is not a permissible value for property “platform”.'}, {'title': 'Relationship not specified', 'description': '[Demo_genomic_info.tsv: line 102] All related node IDs are missing. Please ensure at least one related node ID is included.'}]                                                                                                                                                            |\n",
       "| 275 | 4ce43a10-4669-40ce-949f-3fbbfc9f2513 | Error      | genomic_info | [{'title': 'Value not permitted', 'description': '[Demo_genomic_info.tsv: line 11] \"Paired-end\" is not a permissible value for property “library_layout”.'}, {'title': 'Value not permitted', 'description': '[Demo_genomic_info.tsv: line 11] \"TRANSCRIPTOMIC\" is not a permissible value for property “library_source”.'}, {'title': 'Value not permitted', 'description': '[Demo_genomic_info.tsv: line 11] \"ILLUMINA\" is not a permissible value for property “platform”.'}, {'title': 'Relationship not specified', 'description': '[Demo_genomic_info.tsv: line 11] All related node IDs are missing. Please ensure at least one related node ID is included.'}]                                                                                                                                                                |\n",
       "| 276 | 4ce43a10-4669-40ce-949f-3fbbfc9f2513 | Error      | genomic_info | [{'title': 'Value not permitted', 'description': '[Demo_genomic_info.tsv: line 69] \"Paired-end\" is not a permissible value for property “library_layout”.'}, {'title': 'Value not permitted', 'description': '[Demo_genomic_info.tsv: line 69] \"GENOMIC\" is not a permissible value for property “library_source”.'}, {'title': 'Value not permitted', 'description': '[Demo_genomic_info.tsv: line 69] \"ILLUMINA\" is not a permissible value for property “platform”.'}, {'title': 'Relationship not specified', 'description': '[Demo_genomic_info.tsv: line 69] All related node IDs are missing. Please ensure at least one related node ID is included.'}]                                                                                                                                                                       |\n",
       "| 277 | 4ce43a10-4669-40ce-949f-3fbbfc9f2513 | Error      | genomic_info | [{'title': 'Value not permitted', 'description': '[Demo_genomic_info.tsv: line 107] \"Paired-end\" is not a permissible value for property “library_layout”.'}, {'title': 'Value not permitted', 'description': '[Demo_genomic_info.tsv: line 107] \"GENOMIC\" is not a permissible value for property “library_source”.'}, {'title': 'Value not permitted', 'description': '[Demo_genomic_info.tsv: line 107] \"ILLUMINA\" is not a permissible value for property “platform”.'}, {'title': 'Relationship not specified', 'description': '[Demo_genomic_info.tsv: line 107] All related node IDs are missing. Please ensure at least one related node ID is included.'}]                                                                                                                                                                   |\n",
       "| 278 | 4ce43a10-4669-40ce-949f-3fbbfc9f2513 | Error      | genomic_info | [{'title': 'Value not permitted', 'description': '[Demo_genomic_info.tsv: line 136] \"Paired-end\" is not a permissible value for property “library_layout”.'}, {'title': 'Value not permitted', 'description': '[Demo_genomic_info.tsv: line 136] \"GENOMIC\" is not a permissible value for property “library_source”.'}, {'title': 'Value not permitted', 'description': '[Demo_genomic_info.tsv: line 136] \"ILLUMINA\" is not a permissible value for property “platform”.'}, {'title': 'Relationship not specified', 'description': '[Demo_genomic_info.tsv: line 136] All related node IDs are missing. Please ensure at least one related node ID is included.'}]                                                                                                                                                                   |\n",
       "| 279 | 4ce43a10-4669-40ce-949f-3fbbfc9f2513 | Error      | genomic_info | [{'title': 'Value not permitted', 'description': '[Demo_genomic_info.tsv: line 65] \"Paired-end\" is not a permissible value for property “library_layout”.'}, {'title': 'Value not permitted', 'description': '[Demo_genomic_info.tsv: line 65] \"GENOMIC\" is not a permissible value for property “library_source”.'}, {'title': 'Value not permitted', 'description': '[Demo_genomic_info.tsv: line 65] \"ILLUMINA\" is not a permissible value for property “platform”.'}, {'title': 'Relationship not specified', 'description': '[Demo_genomic_info.tsv: line 65] All related node IDs are missing. Please ensure at least one related node ID is included.'}]                                                                                                                                                                       |\n",
       "| 280 | 4ce43a10-4669-40ce-949f-3fbbfc9f2513 | Error      | genomic_info | [{'title': 'Value not permitted', 'description': '[Demo_genomic_info.tsv: line 40] \"Paired-end\" is not a permissible value for property “library_layout”.'}, {'title': 'Value not permitted', 'description': '[Demo_genomic_info.tsv: line 40] \"TRANSCRIPTOMIC\" is not a permissible value for property “library_source”.'}, {'title': 'Value not permitted', 'description': '[Demo_genomic_info.tsv: line 40] \"ILLUMINA\" is not a permissible value for property “platform”.'}, {'title': 'Relationship not specified', 'description': '[Demo_genomic_info.tsv: line 40] All related node IDs are missing. Please ensure at least one related node ID is included.'}]                                                                                                                                                                |\n",
       "| 281 | 4ce43a10-4669-40ce-949f-3fbbfc9f2513 | Error      | genomic_info | [{'title': 'Value not permitted', 'description': '[Demo_genomic_info.tsv: line 15] \"Paired-end\" is not a permissible value for property “library_layout”.'}, {'title': 'Value not permitted', 'description': '[Demo_genomic_info.tsv: line 15] \"TRANSCRIPTOMIC\" is not a permissible value for property “library_source”.'}, {'title': 'Value not permitted', 'description': '[Demo_genomic_info.tsv: line 15] \"ILLUMINA\" is not a permissible value for property “platform”.'}, {'title': 'Relationship not specified', 'description': '[Demo_genomic_info.tsv: line 15] All related node IDs are missing. Please ensure at least one related node ID is included.'}]                                                                                                                                                                |\n",
       "| 282 | 4ce43a10-4669-40ce-949f-3fbbfc9f2513 | Error      | genomic_info | [{'title': 'Value not permitted', 'description': '[Demo_genomic_info.tsv: line 132] \"Paired-end\" is not a permissible value for property “library_layout”.'}, {'title': 'Value not permitted', 'description': '[Demo_genomic_info.tsv: line 132] \"GENOMIC\" is not a permissible value for property “library_source”.'}, {'title': 'Value not permitted', 'description': '[Demo_genomic_info.tsv: line 132] \"ILLUMINA\" is not a permissible value for property “platform”.'}, {'title': 'Relationship not specified', 'description': '[Demo_genomic_info.tsv: line 132] All related node IDs are missing. Please ensure at least one related node ID is included.'}]                                                                                                                                                                   |\n",
       "| 283 | 4ce43a10-4669-40ce-949f-3fbbfc9f2513 | Error      | genomic_info | [{'title': 'Value not permitted', 'description': '[Demo_genomic_info.tsv: line 153] \"Paired-end\" is not a permissible value for property “library_layout”.'}, {'title': 'Value not permitted', 'description': '[Demo_genomic_info.tsv: line 153] \"GENOMIC\" is not a permissible value for property “library_source”.'}, {'title': 'Value not permitted', 'description': '[Demo_genomic_info.tsv: line 153] \"ILLUMINA\" is not a permissible value for property “platform”.'}, {'title': 'Relationship not specified', 'description': '[Demo_genomic_info.tsv: line 153] All related node IDs are missing. Please ensure at least one related node ID is included.'}]                                                                                                                                                                   |\n",
       "| 284 | 4ce43a10-4669-40ce-949f-3fbbfc9f2513 | Error      | genomic_info | [{'title': 'Value not permitted', 'description': '[Demo_genomic_info.tsv: line 150] \"Paired-end\" is not a permissible value for property “library_layout”.'}, {'title': 'Value not permitted', 'description': '[Demo_genomic_info.tsv: line 150] \"GENOMIC\" is not a permissible value for property “library_source”.'}, {'title': 'Value not permitted', 'description': '[Demo_genomic_info.tsv: line 150] \"ILLUMINA\" is not a permissible value for property “platform”.'}, {'title': 'Relationship not specified', 'description': '[Demo_genomic_info.tsv: line 150] All related node IDs are missing. Please ensure at least one related node ID is included.'}]                                                                                                                                                                   |\n",
       "| 285 | 4ce43a10-4669-40ce-949f-3fbbfc9f2513 | Error      | genomic_info | [{'title': 'Value not permitted', 'description': '[Demo_genomic_info.tsv: line 55] \"Paired-end\" is not a permissible value for property “library_layout”.'}, {'title': 'Value not permitted', 'description': '[Demo_genomic_info.tsv: line 55] \"TRANSCRIPTOMIC\" is not a permissible value for property “library_source”.'}, {'title': 'Value not permitted', 'description': '[Demo_genomic_info.tsv: line 55] \"ILLUMINA\" is not a permissible value for property “platform”.'}, {'title': 'Relationship not specified', 'description': '[Demo_genomic_info.tsv: line 55] All related node IDs are missing. Please ensure at least one related node ID is included.'}]                                                                                                                                                                |\n",
       "| 286 | 4ce43a10-4669-40ce-949f-3fbbfc9f2513 | Error      | genomic_info | [{'title': 'Value not permitted', 'description': '[Demo_genomic_info.tsv: line 104] \"Paired-end\" is not a permissible value for property “library_layout”.'}, {'title': 'Value not permitted', 'description': '[Demo_genomic_info.tsv: line 104] \"TRANSCRIPTOMIC\" is not a permissible value for property “library_source”.'}, {'title': 'Value not permitted', 'description': '[Demo_genomic_info.tsv: line 104] \"ILLUMINA\" is not a permissible value for property “platform”.'}, {'title': 'Relationship not specified', 'description': '[Demo_genomic_info.tsv: line 104] All related node IDs are missing. Please ensure at least one related node ID is included.'}]                                                                                                                                                            |\n",
       "| 287 | 4ce43a10-4669-40ce-949f-3fbbfc9f2513 | Error      | genomic_info | [{'title': 'Value not permitted', 'description': '[Demo_genomic_info.tsv: line 2] \"Paired-end\" is not a permissible value for property “library_layout”.'}, {'title': 'Value not permitted', 'description': '[Demo_genomic_info.tsv: line 2] \"TRANSCRIPTOMIC\" is not a permissible value for property “library_source”.'}, {'title': 'Value not permitted', 'description': '[Demo_genomic_info.tsv: line 2] \"ILLUMINA\" is not a permissible value for property “platform”.'}, {'title': 'Relationship not specified', 'description': '[Demo_genomic_info.tsv: line 2] All related node IDs are missing. Please ensure at least one related node ID is included.'}]                                                                                                                                                                    |\n",
       "| 288 | 4ce43a10-4669-40ce-949f-3fbbfc9f2513 | Error      | genomic_info | [{'title': 'Value not permitted', 'description': '[Demo_genomic_info.tsv: line 67] \"Paired-end\" is not a permissible value for property “library_layout”.'}, {'title': 'Value not permitted', 'description': '[Demo_genomic_info.tsv: line 67] \"GENOMIC\" is not a permissible value for property “library_source”.'}, {'title': 'Value not permitted', 'description': '[Demo_genomic_info.tsv: line 67] \"ILLUMINA\" is not a permissible value for property “platform”.'}, {'title': 'Relationship not specified', 'description': '[Demo_genomic_info.tsv: line 67] All related node IDs are missing. Please ensure at least one related node ID is included.'}]                                                                                                                                                                       |\n",
       "| 289 | 4ce43a10-4669-40ce-949f-3fbbfc9f2513 | Error      | genomic_info | [{'title': 'Value not permitted', 'description': '[Demo_genomic_info.tsv: line 63] \"Paired-end\" is not a permissible value for property “library_layout”.'}, {'title': 'Value not permitted', 'description': '[Demo_genomic_info.tsv: line 63] \"GENOMIC\" is not a permissible value for property “library_source”.'}, {'title': 'Value not permitted', 'description': '[Demo_genomic_info.tsv: line 63] \"ILLUMINA\" is not a permissible value for property “platform”.'}, {'title': 'Relationship not specified', 'description': '[Demo_genomic_info.tsv: line 63] All related node IDs are missing. Please ensure at least one related node ID is included.'}]                                                                                                                                                                       |\n",
       "| 290 | 4ce43a10-4669-40ce-949f-3fbbfc9f2513 | Error      | genomic_info | [{'title': 'Value not permitted', 'description': '[Demo_genomic_info.tsv: line 133] \"Paired-end\" is not a permissible value for property “library_layout”.'}, {'title': 'Value not permitted', 'description': '[Demo_genomic_info.tsv: line 133] \"TRANSCRIPTOMIC\" is not a permissible value for property “library_source”.'}, {'title': 'Value not permitted', 'description': '[Demo_genomic_info.tsv: line 133] \"ILLUMINA\" is not a permissible value for property “platform”.'}, {'title': 'Relationship not specified', 'description': '[Demo_genomic_info.tsv: line 133] All related node IDs are missing. Please ensure at least one related node ID is included.'}]                                                                                                                                                            |\n",
       "| 291 | 4ce43a10-4669-40ce-949f-3fbbfc9f2513 | Error      | genomic_info | [{'title': 'Value not permitted', 'description': '[Demo_genomic_info.tsv: line 7] \"Paired-end\" is not a permissible value for property “library_layout”.'}, {'title': 'Value not permitted', 'description': '[Demo_genomic_info.tsv: line 7] \"GENOMIC\" is not a permissible value for property “library_source”.'}, {'title': 'Value not permitted', 'description': '[Demo_genomic_info.tsv: line 7] \"ILLUMINA\" is not a permissible value for property “platform”.'}, {'title': 'Relationship not specified', 'description': '[Demo_genomic_info.tsv: line 7] All related node IDs are missing. Please ensure at least one related node ID is included.'}]                                                                                                                                                                           |\n",
       "| 292 | 4ce43a10-4669-40ce-949f-3fbbfc9f2513 | Error      | genomic_info | [{'title': 'Value not permitted', 'description': '[Demo_genomic_info.tsv: line 34] \"Paired-end\" is not a permissible value for property “library_layout”.'}, {'title': 'Value not permitted', 'description': '[Demo_genomic_info.tsv: line 34] \"TRANSCRIPTOMIC\" is not a permissible value for property “library_source”.'}, {'title': 'Value not permitted', 'description': '[Demo_genomic_info.tsv: line 34] \"ILLUMINA\" is not a permissible value for property “platform”.'}, {'title': 'Relationship not specified', 'description': '[Demo_genomic_info.tsv: line 34] All related node IDs are missing. Please ensure at least one related node ID is included.'}]                                                                                                                                                                |\n",
       "| 293 | 4ce43a10-4669-40ce-949f-3fbbfc9f2513 | Error      | genomic_info | [{'title': 'Value not permitted', 'description': '[Demo_genomic_info.tsv: line 116] \"Single-end\" is not a permissible value for property “library_layout”.'}, {'title': 'Value not permitted', 'description': '[Demo_genomic_info.tsv: line 116] \"TRANSCRIPTOMIC\" is not a permissible value for property “library_source”.'}, {'title': 'Value not permitted', 'description': '[Demo_genomic_info.tsv: line 116] \"PolyA\" is not a permissible value for property “library_selection”.'}, {'title': 'Value not permitted', 'description': '[Demo_genomic_info.tsv: line 116] \"ILLUMINA\" is not a permissible value for property “platform”.'}, {'title': 'Relationship not specified', 'description': '[Demo_genomic_info.tsv: line 116] All related node IDs are missing. Please ensure at least one related node ID is included.'}] |\n",
       "| 294 | 4ce43a10-4669-40ce-949f-3fbbfc9f2513 | Error      | genomic_info | [{'title': 'Value not permitted', 'description': '[Demo_genomic_info.tsv: line 103] \"Single-end\" is not a permissible value for property “library_layout”.'}, {'title': 'Value not permitted', 'description': '[Demo_genomic_info.tsv: line 103] \"TRANSCRIPTOMIC\" is not a permissible value for property “library_source”.'}, {'title': 'Value not permitted', 'description': '[Demo_genomic_info.tsv: line 103] \"ILLUMINA\" is not a permissible value for property “platform”.'}, {'title': 'Relationship not specified', 'description': '[Demo_genomic_info.tsv: line 103] All related node IDs are missing. Please ensure at least one related node ID is included.'}]                                                                                                                                                            |\n",
       "| 295 | 4ce43a10-4669-40ce-949f-3fbbfc9f2513 | Error      | genomic_info | [{'title': 'Value not permitted', 'description': '[Demo_genomic_info.tsv: line 99] \"Paired-end\" is not a permissible value for property “library_layout”.'}, {'title': 'Value not permitted', 'description': '[Demo_genomic_info.tsv: line 99] \"TRANSCRIPTOMIC\" is not a permissible value for property “library_source”.'}, {'title': 'Value not permitted', 'description': '[Demo_genomic_info.tsv: line 99] \"ILLUMINA\" is not a permissible value for property “platform”.'}, {'title': 'Relationship not specified', 'description': '[Demo_genomic_info.tsv: line 99] All related node IDs are missing. Please ensure at least one related node ID is included.'}]                                                                                                                                                                |\n",
       "| 296 | 4ce43a10-4669-40ce-949f-3fbbfc9f2513 | Error      | genomic_info | [{'title': 'Value not permitted', 'description': '[Demo_genomic_info.tsv: line 128] \"Paired-end\" is not a permissible value for property “library_layout”.'}, {'title': 'Value not permitted', 'description': '[Demo_genomic_info.tsv: line 128] \"GENOMIC\" is not a permissible value for property “library_source”.'}, {'title': 'Value not permitted', 'description': '[Demo_genomic_info.tsv: line 128] \"ILLUMINA\" is not a permissible value for property “platform”.'}, {'title': 'Relationship not specified', 'description': '[Demo_genomic_info.tsv: line 128] All related node IDs are missing. Please ensure at least one related node ID is included.'}]                                                                                                                                                                   |\n",
       "| 297 | 4ce43a10-4669-40ce-949f-3fbbfc9f2513 | Error      | genomic_info | [{'title': 'Value not permitted', 'description': '[Demo_genomic_info.tsv: line 19] \"Paired-end\" is not a permissible value for property “library_layout”.'}, {'title': 'Value not permitted', 'description': '[Demo_genomic_info.tsv: line 19] \"GENOMIC\" is not a permissible value for property “library_source”.'}, {'title': 'Value not permitted', 'description': '[Demo_genomic_info.tsv: line 19] \"ILLUMINA\" is not a permissible value for property “platform”.'}, {'title': 'Relationship not specified', 'description': '[Demo_genomic_info.tsv: line 19] All related node IDs are missing. Please ensure at least one related node ID is included.'}]                                                                                                                                                                       |\n",
       "| 298 | 4ce43a10-4669-40ce-949f-3fbbfc9f2513 | Error      | genomic_info | [{'title': 'Value not permitted', 'description': '[Demo_genomic_info.tsv: line 151] \"Single-end\" is not a permissible value for property “library_layout”.'}, {'title': 'Value not permitted', 'description': '[Demo_genomic_info.tsv: line 151] \"TRANSCRIPTOMIC\" is not a permissible value for property “library_source”.'}, {'title': 'Value not permitted', 'description': '[Demo_genomic_info.tsv: line 151] \"PolyA\" is not a permissible value for property “library_selection”.'}, {'title': 'Value not permitted', 'description': '[Demo_genomic_info.tsv: line 151] \"ILLUMINA\" is not a permissible value for property “platform”.'}, {'title': 'Relationship not specified', 'description': '[Demo_genomic_info.tsv: line 151] All related node IDs are missing. Please ensure at least one related node ID is included.'}] |\n",
       "| 299 | 4ce43a10-4669-40ce-949f-3fbbfc9f2513 | Error      | genomic_info | [{'title': 'Value not permitted', 'description': '[Demo_genomic_info.tsv: line 56] \"Paired-end\" is not a permissible value for property “library_layout”.'}, {'title': 'Value not permitted', 'description': '[Demo_genomic_info.tsv: line 56] \"GENOMIC\" is not a permissible value for property “library_source”.'}, {'title': 'Value not permitted', 'description': '[Demo_genomic_info.tsv: line 56] \"ILLUMINA\" is not a permissible value for property “platform”.'}, {'title': 'Relationship not specified', 'description': '[Demo_genomic_info.tsv: line 56] All related node IDs are missing. Please ensure at least one related node ID is included.'}]                                                                                                                                                                       |\n",
       "| 300 | 4ce43a10-4669-40ce-949f-3fbbfc9f2513 | Error      | genomic_info | [{'title': 'Value not permitted', 'description': '[Demo_genomic_info.tsv: line 84] \"Paired-end\" is not a permissible value for property “library_layout”.'}, {'title': 'Value not permitted', 'description': '[Demo_genomic_info.tsv: line 84] \"GENOMIC\" is not a permissible value for property “library_source”.'}, {'title': 'Value not permitted', 'description': '[Demo_genomic_info.tsv: line 84] \"ILLUMINA\" is not a permissible value for property “platform”.'}, {'title': 'Relationship not specified', 'description': '[Demo_genomic_info.tsv: line 84] All related node IDs are missing. Please ensure at least one related node ID is included.'}]                                                                                                                                                                       |\n",
       "| 301 | 4ce43a10-4669-40ce-949f-3fbbfc9f2513 | Error      | genomic_info | [{'title': 'Value not permitted', 'description': '[Demo_genomic_info.tsv: line 12] \"Paired-end\" is not a permissible value for property “library_layout”.'}, {'title': 'Value not permitted', 'description': '[Demo_genomic_info.tsv: line 12] \"GENOMIC\" is not a permissible value for property “library_source”.'}, {'title': 'Value not permitted', 'description': '[Demo_genomic_info.tsv: line 12] \"ILLUMINA\" is not a permissible value for property “platform”.'}, {'title': 'Relationship not specified', 'description': '[Demo_genomic_info.tsv: line 12] All related node IDs are missing. Please ensure at least one related node ID is included.'}]                                                                                                                                                                       |\n",
       "| 302 | 4ce43a10-4669-40ce-949f-3fbbfc9f2513 | Error      | genomic_info | [{'title': 'Value not permitted', 'description': '[Demo_genomic_info.tsv: line 26] \"Paired-end\" is not a permissible value for property “library_layout”.'}, {'title': 'Value not permitted', 'description': '[Demo_genomic_info.tsv: line 26] \"TRANSCRIPTOMIC\" is not a permissible value for property “library_source”.'}, {'title': 'Value not permitted', 'description': '[Demo_genomic_info.tsv: line 26] \"ILLUMINA\" is not a permissible value for property “platform”.'}, {'title': 'Relationship not specified', 'description': '[Demo_genomic_info.tsv: line 26] All related node IDs are missing. Please ensure at least one related node ID is included.'}]                                                                                                                                                                |\n",
       "| 303 | 4ce43a10-4669-40ce-949f-3fbbfc9f2513 | Error      | genomic_info | [{'title': 'Value not permitted', 'description': '[Demo_genomic_info.tsv: line 108] \"Paired-end\" is not a permissible value for property “library_layout”.'}, {'title': 'Value not permitted', 'description': '[Demo_genomic_info.tsv: line 108] \"GENOMIC\" is not a permissible value for property “library_source”.'}, {'title': 'Value not permitted', 'description': '[Demo_genomic_info.tsv: line 108] \"ILLUMINA\" is not a permissible value for property “platform”.'}, {'title': 'Relationship not specified', 'description': '[Demo_genomic_info.tsv: line 108] All related node IDs are missing. Please ensure at least one related node ID is included.'}]                                                                                                                                                                   |\n",
       "| 304 | 4ce43a10-4669-40ce-949f-3fbbfc9f2513 | Error      | genomic_info | [{'title': 'Value not permitted', 'description': '[Demo_genomic_info.tsv: line 148] \"Paired-end\" is not a permissible value for property “library_layout”.'}, {'title': 'Value not permitted', 'description': '[Demo_genomic_info.tsv: line 148] \"GENOMIC\" is not a permissible value for property “library_source”.'}, {'title': 'Value not permitted', 'description': '[Demo_genomic_info.tsv: line 148] \"ILLUMINA\" is not a permissible value for property “platform”.'}, {'title': 'Relationship not specified', 'description': '[Demo_genomic_info.tsv: line 148] All related node IDs are missing. Please ensure at least one related node ID is included.'}]                                                                                                                                                                   |\n",
       "| 305 | 4ce43a10-4669-40ce-949f-3fbbfc9f2513 | Error      | diagnosis    | [{'title': 'Value not permitted', 'description': '[Demo_diagnosis.tsv: line 26] \"Neoplasm\" is not a permissible value for property “disease_type”.'}, {'title': 'Value not permitted', 'description': '[Demo_diagnosis.tsv: line 26] \"Invasive mammary carcinoma\" is not a permissible value for property “primary_diagnosis”.'}]                                                                                                                                                                                                                                                                                                                                                                                                                                                                                                     |\n",
       "| 306 | 4ce43a10-4669-40ce-949f-3fbbfc9f2513 | Error      | diagnosis    | [{'title': 'Value not permitted', 'description': '[Demo_diagnosis.tsv: line 29] \"Neoplasm\" is not a permissible value for property “disease_type”.'}, {'title': 'Value not permitted', 'description': '[Demo_diagnosis.tsv: line 29] \"Invasive mammary carcinoma\" is not a permissible value for property “primary_diagnosis”.'}]                                                                                                                                                                                                                                                                                                                                                                                                                                                                                                     |\n",
       "| 307 | 4ce43a10-4669-40ce-949f-3fbbfc9f2513 | Error      | diagnosis    | [{'title': 'Value not permitted', 'description': '[Demo_diagnosis.tsv: line 12] \"Neoplasm\" is not a permissible value for property “disease_type”.'}, {'title': 'Value not permitted', 'description': '[Demo_diagnosis.tsv: line 12] \"Invasive mammary carcinoma\" is not a permissible value for property “primary_diagnosis”.'}]                                                                                                                                                                                                                                                                                                                                                                                                                                                                                                     |\n",
       "| 308 | 4ce43a10-4669-40ce-949f-3fbbfc9f2513 | Error      | diagnosis    | [{'title': 'Value not permitted', 'description': '[Demo_diagnosis.tsv: line 2] \"Neoplasm\" is not a permissible value for property “disease_type”.'}, {'title': 'Value not permitted', 'description': '[Demo_diagnosis.tsv: line 2] \"Inflammatory carcinoma\" is not a permissible value for property “primary_diagnosis”.'}]                                                                                                                                                                                                                                                                                                                                                                                                                                                                                                           |\n",
       "| 309 | 4ce43a10-4669-40ce-949f-3fbbfc9f2513 | Error      | diagnosis    | [{'title': 'Value not permitted', 'description': '[Demo_diagnosis.tsv: line 17] \"Neoplasm\" is not a permissible value for property “disease_type”.'}, {'title': 'Value not permitted', 'description': '[Demo_diagnosis.tsv: line 17] \"Invasive mammary carcinoma\" is not a permissible value for property “primary_diagnosis”.'}]                                                                                                                                                                                                                                                                                                                                                                                                                                                                                                     |\n",
       "| 310 | 4ce43a10-4669-40ce-949f-3fbbfc9f2513 | Error      | diagnosis    | [{'title': 'Value not permitted', 'description': '[Demo_diagnosis.tsv: line 31] \"Neoplasm\" is not a permissible value for property “disease_type”.'}, {'title': 'Value not permitted', 'description': '[Demo_diagnosis.tsv: line 31] \"Invasive lobular carcinoma\" is not a permissible value for property “primary_diagnosis”.'}]                                                                                                                                                                                                                                                                                                                                                                                                                                                                                                     |\n",
       "| 311 | 4ce43a10-4669-40ce-949f-3fbbfc9f2513 | Error      | diagnosis    | [{'title': 'Value not permitted', 'description': '[Demo_diagnosis.tsv: line 20] \"Neoplasm\" is not a permissible value for property “disease_type”.'}, {'title': 'Value not permitted', 'description': '[Demo_diagnosis.tsv: line 20] \"Invasive mammary carcinoma\" is not a permissible value for property “primary_diagnosis”.'}]                                                                                                                                                                                                                                                                                                                                                                                                                                                                                                     |\n",
       "| 312 | 4ce43a10-4669-40ce-949f-3fbbfc9f2513 | Error      | diagnosis    | [{'title': 'Value not permitted', 'description': '[Demo_diagnosis.tsv: line 41] \"Neoplasm\" is not a permissible value for property “disease_type”.'}, {'title': 'Value not permitted', 'description': '[Demo_diagnosis.tsv: line 41] \"Cystosarcoma phyllodes, NOS\" is not a permissible value for property “primary_diagnosis”.'}]                                                                                                                                                                                                                                                                                                                                                                                                                                                                                                    |\n",
       "| 313 | 4ce43a10-4669-40ce-949f-3fbbfc9f2513 | Error      | diagnosis    | [{'title': 'Value not permitted', 'description': '[Demo_diagnosis.tsv: line 39] \"Neoplasm\" is not a permissible value for property “disease_type”.'}]                                                                                                                                                                                                                                                                                                                                                                                                                                                                                                                                                                                                                                                                                 |\n",
       "| 314 | 4ce43a10-4669-40ce-949f-3fbbfc9f2513 | Error      | diagnosis    | [{'title': 'Value not permitted', 'description': '[Demo_diagnosis.tsv: line 21] \"Neoplasm\" is not a permissible value for property “disease_type”.'}, {'title': 'Value not permitted', 'description': '[Demo_diagnosis.tsv: line 21] \"Invasive mammary carcinoma\" is not a permissible value for property “primary_diagnosis”.'}]                                                                                                                                                                                                                                                                                                                                                                                                                                                                                                     |\n",
       "| 315 | 4ce43a10-4669-40ce-949f-3fbbfc9f2513 | Error      | diagnosis    | [{'title': 'Value not permitted', 'description': '[Demo_diagnosis.tsv: line 4] \"Neoplasm\" is not a permissible value for property “disease_type”.'}, {'title': 'Value not permitted', 'description': '[Demo_diagnosis.tsv: line 4] \"Invasive mammary carcinoma\" is not a permissible value for property “primary_diagnosis”.'}]                                                                                                                                                                                                                                                                                                                                                                                                                                                                                                       |\n",
       "| 316 | 4ce43a10-4669-40ce-949f-3fbbfc9f2513 | Error      | diagnosis    | [{'title': 'Value not permitted', 'description': '[Demo_diagnosis.tsv: line 32] \"Neoplasm\" is not a permissible value for property “disease_type”.'}, {'title': 'Value not permitted', 'description': '[Demo_diagnosis.tsv: line 32] \"Invasive lobular carcinoma\" is not a permissible value for property “primary_diagnosis”.'}]                                                                                                                                                                                                                                                                                                                                                                                                                                                                                                     |\n",
       "| 317 | 4ce43a10-4669-40ce-949f-3fbbfc9f2513 | Error      | diagnosis    | [{'title': 'Value not permitted', 'description': '[Demo_diagnosis.tsv: line 11] \"Neoplasm\" is not a permissible value for property “disease_type”.'}, {'title': 'Value not permitted', 'description': '[Demo_diagnosis.tsv: line 11] \"Invasive mammary carcinoma\" is not a permissible value for property “primary_diagnosis”.'}]                                                                                                                                                                                                                                                                                                                                                                                                                                                                                                     |\n",
       "| 318 | 4ce43a10-4669-40ce-949f-3fbbfc9f2513 | Error      | diagnosis    | [{'title': 'Value not permitted', 'description': '[Demo_diagnosis.tsv: line 8] \"Neoplasm\" is not a permissible value for property “disease_type”.'}, {'title': 'Value not permitted', 'description': '[Demo_diagnosis.tsv: line 8] \"Invasive mammary carcinoma\" is not a permissible value for property “primary_diagnosis”.'}]                                                                                                                                                                                                                                                                                                                                                                                                                                                                                                       |\n",
       "| 319 | 4ce43a10-4669-40ce-949f-3fbbfc9f2513 | Error      | diagnosis    | [{'title': 'Value not permitted', 'description': '[Demo_diagnosis.tsv: line 19] \"Neoplasm\" is not a permissible value for property “disease_type”.'}, {'title': 'Value not permitted', 'description': '[Demo_diagnosis.tsv: line 19] \"Invasive mammary carcinoma\" is not a permissible value for property “primary_diagnosis”.'}]                                                                                                                                                                                                                                                                                                                                                                                                                                                                                                     |\n",
       "| 320 | 4ce43a10-4669-40ce-949f-3fbbfc9f2513 | Error      | diagnosis    | [{'title': 'Value not permitted', 'description': '[Demo_diagnosis.tsv: line 25] \"Neoplasm\" is not a permissible value for property “disease_type”.'}, {'title': 'Value not permitted', 'description': '[Demo_diagnosis.tsv: line 25] \"Invasive mammary carcinoma\" is not a permissible value for property “primary_diagnosis”.'}]                                                                                                                                                                                                                                                                                                                                                                                                                                                                                                     |\n",
       "| 321 | 4ce43a10-4669-40ce-949f-3fbbfc9f2513 | Error      | diagnosis    | [{'title': 'Value not permitted', 'description': '[Demo_diagnosis.tsv: line 3] \"Neoplasm\" is not a permissible value for property “disease_type”.'}, {'title': 'Value not permitted', 'description': '[Demo_diagnosis.tsv: line 3] \"Invasive mammary carcinoma\" is not a permissible value for property “primary_diagnosis”.'}]                                                                                                                                                                                                                                                                                                                                                                                                                                                                                                       |\n",
       "| 322 | 4ce43a10-4669-40ce-949f-3fbbfc9f2513 | Error      | diagnosis    | [{'title': 'Value not permitted', 'description': '[Demo_diagnosis.tsv: line 24] \"Neoplasm\" is not a permissible value for property “disease_type”.'}, {'title': 'Value not permitted', 'description': '[Demo_diagnosis.tsv: line 24] \"Invasive mammary carcinoma\" is not a permissible value for property “primary_diagnosis”.'}]                                                                                                                                                                                                                                                                                                                                                                                                                                                                                                     |\n",
       "| 323 | 4ce43a10-4669-40ce-949f-3fbbfc9f2513 | Error      | diagnosis    | [{'title': 'Value not permitted', 'description': '[Demo_diagnosis.tsv: line 10] \"Neoplasm\" is not a permissible value for property “disease_type”.'}, {'title': 'Value not permitted', 'description': '[Demo_diagnosis.tsv: line 10] \"Invasive mammary carcinoma\" is not a permissible value for property “primary_diagnosis”.'}]                                                                                                                                                                                                                                                                                                                                                                                                                                                                                                     |\n",
       "| 324 | 4ce43a10-4669-40ce-949f-3fbbfc9f2513 | Error      | diagnosis    | [{'title': 'Value not permitted', 'description': '[Demo_diagnosis.tsv: line 35] \"Neoplasm\" is not a permissible value for property “disease_type”.'}]                                                                                                                                                                                                                                                                                                                                                                                                                                                                                                                                                                                                                                                                                 |\n",
       "| 325 | 4ce43a10-4669-40ce-949f-3fbbfc9f2513 | Error      | diagnosis    | [{'title': 'Value not permitted', 'description': '[Demo_diagnosis.tsv: line 40] \"Neoplasm\" is not a permissible value for property “disease_type”.'}]                                                                                                                                                                                                                                                                                                                                                                                                                                                                                                                                                                                                                                                                                 |\n",
       "| 326 | 4ce43a10-4669-40ce-949f-3fbbfc9f2513 | Error      | diagnosis    | [{'title': 'Value not permitted', 'description': '[Demo_diagnosis.tsv: line 18] \"Neoplasm\" is not a permissible value for property “disease_type”.'}, {'title': 'Value not permitted', 'description': '[Demo_diagnosis.tsv: line 18] \"Invasive mammary carcinoma\" is not a permissible value for property “primary_diagnosis”.'}]                                                                                                                                                                                                                                                                                                                                                                                                                                                                                                     |\n",
       "| 327 | 4ce43a10-4669-40ce-949f-3fbbfc9f2513 | Error      | diagnosis    | [{'title': 'Value not permitted', 'description': '[Demo_diagnosis.tsv: line 13] \"Neoplasm\" is not a permissible value for property “disease_type”.'}, {'title': 'Value not permitted', 'description': '[Demo_diagnosis.tsv: line 13] \"Invasive mammary carcinoma\" is not a permissible value for property “primary_diagnosis”.'}]                                                                                                                                                                                                                                                                                                                                                                                                                                                                                                     |\n",
       "| 328 | 4ce43a10-4669-40ce-949f-3fbbfc9f2513 | Error      | diagnosis    | [{'title': 'Value not permitted', 'description': '[Demo_diagnosis.tsv: line 23] \"Neoplasm\" is not a permissible value for property “disease_type”.'}, {'title': 'Value not permitted', 'description': '[Demo_diagnosis.tsv: line 23] \"Invasive mammary carcinoma\" is not a permissible value for property “primary_diagnosis”.'}]                                                                                                                                                                                                                                                                                                                                                                                                                                                                                                     |\n",
       "| 329 | 4ce43a10-4669-40ce-949f-3fbbfc9f2513 | Error      | diagnosis    | [{'title': 'Value not permitted', 'description': '[Demo_diagnosis.tsv: line 15] \"Neoplasm\" is not a permissible value for property “disease_type”.'}, {'title': 'Value not permitted', 'description': '[Demo_diagnosis.tsv: line 15] \"Invasive mammary carcinoma\" is not a permissible value for property “primary_diagnosis”.'}]                                                                                                                                                                                                                                                                                                                                                                                                                                                                                                     |\n",
       "| 330 | 4ce43a10-4669-40ce-949f-3fbbfc9f2513 | Error      | diagnosis    | [{'title': 'Value not permitted', 'description': '[Demo_diagnosis.tsv: line 22] \"Neoplasm\" is not a permissible value for property “disease_type”.'}, {'title': 'Value not permitted', 'description': '[Demo_diagnosis.tsv: line 22] \"Invasive mammary carcinoma\" is not a permissible value for property “primary_diagnosis”.'}]                                                                                                                                                                                                                                                                                                                                                                                                                                                                                                     |\n",
       "| 331 | 4ce43a10-4669-40ce-949f-3fbbfc9f2513 | Error      | diagnosis    | [{'title': 'Value not permitted', 'description': '[Demo_diagnosis.tsv: line 37] \"Neoplasm\" is not a permissible value for property “disease_type”.'}]                                                                                                                                                                                                                                                                                                                                                                                                                                                                                                                                                                                                                                                                                 |\n",
       "| 332 | 4ce43a10-4669-40ce-949f-3fbbfc9f2513 | Error      | diagnosis    | [{'title': 'Value not permitted', 'description': '[Demo_diagnosis.tsv: line 36] \"Neoplasm\" is not a permissible value for property “disease_type”.'}]                                                                                                                                                                                                                                                                                                                                                                                                                                                                                                                                                                                                                                                                                 |\n",
       "| 333 | 4ce43a10-4669-40ce-949f-3fbbfc9f2513 | Error      | diagnosis    | [{'title': 'Value not permitted', 'description': '[Demo_diagnosis.tsv: line 6] \"Neoplasm\" is not a permissible value for property “disease_type”.'}, {'title': 'Value not permitted', 'description': '[Demo_diagnosis.tsv: line 6] \"Invasive mammary carcinoma\" is not a permissible value for property “primary_diagnosis”.'}]                                                                                                                                                                                                                                                                                                                                                                                                                                                                                                       |\n",
       "| 334 | 4ce43a10-4669-40ce-949f-3fbbfc9f2513 | Error      | diagnosis    | [{'title': 'Value not permitted', 'description': '[Demo_diagnosis.tsv: line 5] \"Neoplasm\" is not a permissible value for property “disease_type”.'}, {'title': 'Value not permitted', 'description': '[Demo_diagnosis.tsv: line 5] \"Invasive mammary carcinoma\" is not a permissible value for property “primary_diagnosis”.'}]                                                                                                                                                                                                                                                                                                                                                                                                                                                                                                       |\n",
       "| 335 | 4ce43a10-4669-40ce-949f-3fbbfc9f2513 | Error      | diagnosis    | [{'title': 'Value not permitted', 'description': '[Demo_diagnosis.tsv: line 27] \"Neoplasm\" is not a permissible value for property “disease_type”.'}, {'title': 'Value not permitted', 'description': '[Demo_diagnosis.tsv: line 27] \"Invasive mammary carcinoma\" is not a permissible value for property “primary_diagnosis”.'}]                                                                                                                                                                                                                                                                                                                                                                                                                                                                                                     |\n",
       "| 336 | 4ce43a10-4669-40ce-949f-3fbbfc9f2513 | Error      | diagnosis    | [{'title': 'Value not permitted', 'description': '[Demo_diagnosis.tsv: line 7] \"Neoplasm\" is not a permissible value for property “disease_type”.'}, {'title': 'Value not permitted', 'description': '[Demo_diagnosis.tsv: line 7] \"Invasive mammary carcinoma\" is not a permissible value for property “primary_diagnosis”.'}]                                                                                                                                                                                                                                                                                                                                                                                                                                                                                                       |\n",
       "| 337 | 4ce43a10-4669-40ce-949f-3fbbfc9f2513 | Error      | diagnosis    | [{'title': 'Value not permitted', 'description': '[Demo_diagnosis.tsv: line 28] \"Neoplasm\" is not a permissible value for property “disease_type”.'}, {'title': 'Value not permitted', 'description': '[Demo_diagnosis.tsv: line 28] \"Invasive mammary carcinoma\" is not a permissible value for property “primary_diagnosis”.'}]                                                                                                                                                                                                                                                                                                                                                                                                                                                                                                     |\n",
       "| 338 | 4ce43a10-4669-40ce-949f-3fbbfc9f2513 | Error      | diagnosis    | [{'title': 'Value not permitted', 'description': '[Demo_diagnosis.tsv: line 38] \"Neoplasm\" is not a permissible value for property “disease_type”.'}]                                                                                                                                                                                                                                                                                                                                                                                                                                                                                                                                                                                                                                                                                 |\n",
       "| 339 | 4ce43a10-4669-40ce-949f-3fbbfc9f2513 | Error      | diagnosis    | [{'title': 'Value not permitted', 'description': '[Demo_diagnosis.tsv: line 34] \"Neoplasm\" is not a permissible value for property “disease_type”.'}, {'title': 'Value not permitted', 'description': '[Demo_diagnosis.tsv: line 34] \"Invasive lobular carcinoma\" is not a permissible value for property “primary_diagnosis”.'}]                                                                                                                                                                                                                                                                                                                                                                                                                                                                                                     |\n",
       "| 340 | 4ce43a10-4669-40ce-949f-3fbbfc9f2513 | Error      | diagnosis    | [{'title': 'Value not permitted', 'description': '[Demo_diagnosis.tsv: line 16] \"Neoplasm\" is not a permissible value for property “disease_type”.'}, {'title': 'Value not permitted', 'description': '[Demo_diagnosis.tsv: line 16] \"Invasive mammary carcinoma\" is not a permissible value for property “primary_diagnosis”.'}]                                                                                                                                                                                                                                                                                                                                                                                                                                                                                                     |\n",
       "| 341 | 4ce43a10-4669-40ce-949f-3fbbfc9f2513 | Error      | diagnosis    | [{'title': 'Value not permitted', 'description': '[Demo_diagnosis.tsv: line 30] \"Neoplasm\" is not a permissible value for property “disease_type”.'}, {'title': 'Value not permitted', 'description': '[Demo_diagnosis.tsv: line 30] \"Invasive mammary carcinoma\" is not a permissible value for property “primary_diagnosis”.'}]                                                                                                                                                                                                                                                                                                                                                                                                                                                                                                     |\n",
       "| 342 | 4ce43a10-4669-40ce-949f-3fbbfc9f2513 | Error      | diagnosis    | [{'title': 'Value not permitted', 'description': '[Demo_diagnosis.tsv: line 9] \"Neoplasm\" is not a permissible value for property “disease_type”.'}]                                                                                                                                                                                                                                                                                                                                                                                                                                                                                                                                                                                                                                                                                  |\n",
       "| 343 | 4ce43a10-4669-40ce-949f-3fbbfc9f2513 | Error      | diagnosis    | [{'title': 'Value not permitted', 'description': '[Demo_diagnosis.tsv: line 14] \"Neoplasm\" is not a permissible value for property “disease_type”.'}, {'title': 'Value not permitted', 'description': '[Demo_diagnosis.tsv: line 14] \"Invasive mammary carcinoma\" is not a permissible value for property “primary_diagnosis”.'}]                                                                                                                                                                                                                                                                                                                                                                                                                                                                                                     |\n",
       "| 344 | 4ce43a10-4669-40ce-949f-3fbbfc9f2513 | Error      | diagnosis    | [{'title': 'Value not permitted', 'description': '[Demo_diagnosis.tsv: line 33] \"Neoplasm\" is not a permissible value for property “disease_type”.'}, {'title': 'Value not permitted', 'description': '[Demo_diagnosis.tsv: line 33] \"Invasive lobular carcinoma\" is not a permissible value for property “primary_diagnosis”.'}]                                                                                                                                                                                                                                                                                                                                                                                                                                                                                                     |"
      ],
      "text/plain": [
       "<IPython.core.display.Markdown object>"
      ]
     },
     "metadata": {},
     "output_type": "display_data"
    }
   ],
   "source": [
    "suberrors_res = apiQuery('stage',qc_check_query,qc_variables)\n",
    "suberrors_df = pd.DataFrame(suberrors_res['data']['submissionQCResults']['results'])\n",
    "display(Markdown(suberrors_df.to_markdown()))"
   ]
  },
  {
   "cell_type": "markdown",
   "id": "4a0532bc-4a7c-4d1f-82bc-13e25059f400",
   "metadata": {},
   "source": [
    "The errors we want to summarize are lists in the **errors** column.  One of the items we do want to capture as well is the **type** column as that tells us which of the metadata submission forms contains the specific error."
   ]
  },
  {
   "cell_type": "code",
   "execution_count": 24,
   "id": "9da62f44-5925-47ff-98c9-9463aade71d1",
   "metadata": {},
   "outputs": [],
   "source": [
    "error_list = []\n",
    "for index, row in suberrors_df.iterrows():\n",
    "    node = row['type']\n",
    "    for entry in row['errors']:\n",
    "        error_list.append({'node':node, 'title':entry['title'], 'description':entry['description']})\n",
    "error_summary_df = pd.DataFrame(error_list)"
   ]
  },
  {
   "cell_type": "code",
   "execution_count": 25,
   "id": "a4310d0b-ae08-49b0-a415-0d0c09e9c0db",
   "metadata": {},
   "outputs": [
    {
     "data": {
      "application/vnd.plotly.v1+json": {
       "config": {
        "plotlyServerURL": "https://plot.ly"
       },
       "data": [
        {
         "alignmentgroup": "True",
         "hovertemplate": "variable=count<br>title=%{x}<br>value=%{y}<extra></extra>",
         "legendgroup": "count",
         "marker": {
          "color": "#636efa",
          "pattern": {
           "shape": ""
          }
         },
         "name": "count",
         "offsetgroup": "count",
         "orientation": "v",
         "showlegend": true,
         "textposition": "auto",
         "type": "bar",
         "x": [
          "Value not permitted",
          "Relationship not specified",
          "Many-to-one relationship conflict",
          "Missing required property"
         ],
         "xaxis": "x",
         "y": [
          687,
          152,
          4,
          3
         ],
         "yaxis": "y"
        }
       ],
       "layout": {
        "barmode": "relative",
        "legend": {
         "title": {
          "text": "variable"
         },
         "tracegroupgap": 0
        },
        "margin": {
         "t": 60
        },
        "template": {
         "data": {
          "bar": [
           {
            "error_x": {
             "color": "#2a3f5f"
            },
            "error_y": {
             "color": "#2a3f5f"
            },
            "marker": {
             "line": {
              "color": "#E5ECF6",
              "width": 0.5
             },
             "pattern": {
              "fillmode": "overlay",
              "size": 10,
              "solidity": 0.2
             }
            },
            "type": "bar"
           }
          ],
          "barpolar": [
           {
            "marker": {
             "line": {
              "color": "#E5ECF6",
              "width": 0.5
             },
             "pattern": {
              "fillmode": "overlay",
              "size": 10,
              "solidity": 0.2
             }
            },
            "type": "barpolar"
           }
          ],
          "carpet": [
           {
            "aaxis": {
             "endlinecolor": "#2a3f5f",
             "gridcolor": "white",
             "linecolor": "white",
             "minorgridcolor": "white",
             "startlinecolor": "#2a3f5f"
            },
            "baxis": {
             "endlinecolor": "#2a3f5f",
             "gridcolor": "white",
             "linecolor": "white",
             "minorgridcolor": "white",
             "startlinecolor": "#2a3f5f"
            },
            "type": "carpet"
           }
          ],
          "choropleth": [
           {
            "colorbar": {
             "outlinewidth": 0,
             "ticks": ""
            },
            "type": "choropleth"
           }
          ],
          "contour": [
           {
            "colorbar": {
             "outlinewidth": 0,
             "ticks": ""
            },
            "colorscale": [
             [
              0,
              "#0d0887"
             ],
             [
              0.1111111111111111,
              "#46039f"
             ],
             [
              0.2222222222222222,
              "#7201a8"
             ],
             [
              0.3333333333333333,
              "#9c179e"
             ],
             [
              0.4444444444444444,
              "#bd3786"
             ],
             [
              0.5555555555555556,
              "#d8576b"
             ],
             [
              0.6666666666666666,
              "#ed7953"
             ],
             [
              0.7777777777777778,
              "#fb9f3a"
             ],
             [
              0.8888888888888888,
              "#fdca26"
             ],
             [
              1,
              "#f0f921"
             ]
            ],
            "type": "contour"
           }
          ],
          "contourcarpet": [
           {
            "colorbar": {
             "outlinewidth": 0,
             "ticks": ""
            },
            "type": "contourcarpet"
           }
          ],
          "heatmap": [
           {
            "colorbar": {
             "outlinewidth": 0,
             "ticks": ""
            },
            "colorscale": [
             [
              0,
              "#0d0887"
             ],
             [
              0.1111111111111111,
              "#46039f"
             ],
             [
              0.2222222222222222,
              "#7201a8"
             ],
             [
              0.3333333333333333,
              "#9c179e"
             ],
             [
              0.4444444444444444,
              "#bd3786"
             ],
             [
              0.5555555555555556,
              "#d8576b"
             ],
             [
              0.6666666666666666,
              "#ed7953"
             ],
             [
              0.7777777777777778,
              "#fb9f3a"
             ],
             [
              0.8888888888888888,
              "#fdca26"
             ],
             [
              1,
              "#f0f921"
             ]
            ],
            "type": "heatmap"
           }
          ],
          "heatmapgl": [
           {
            "colorbar": {
             "outlinewidth": 0,
             "ticks": ""
            },
            "colorscale": [
             [
              0,
              "#0d0887"
             ],
             [
              0.1111111111111111,
              "#46039f"
             ],
             [
              0.2222222222222222,
              "#7201a8"
             ],
             [
              0.3333333333333333,
              "#9c179e"
             ],
             [
              0.4444444444444444,
              "#bd3786"
             ],
             [
              0.5555555555555556,
              "#d8576b"
             ],
             [
              0.6666666666666666,
              "#ed7953"
             ],
             [
              0.7777777777777778,
              "#fb9f3a"
             ],
             [
              0.8888888888888888,
              "#fdca26"
             ],
             [
              1,
              "#f0f921"
             ]
            ],
            "type": "heatmapgl"
           }
          ],
          "histogram": [
           {
            "marker": {
             "pattern": {
              "fillmode": "overlay",
              "size": 10,
              "solidity": 0.2
             }
            },
            "type": "histogram"
           }
          ],
          "histogram2d": [
           {
            "colorbar": {
             "outlinewidth": 0,
             "ticks": ""
            },
            "colorscale": [
             [
              0,
              "#0d0887"
             ],
             [
              0.1111111111111111,
              "#46039f"
             ],
             [
              0.2222222222222222,
              "#7201a8"
             ],
             [
              0.3333333333333333,
              "#9c179e"
             ],
             [
              0.4444444444444444,
              "#bd3786"
             ],
             [
              0.5555555555555556,
              "#d8576b"
             ],
             [
              0.6666666666666666,
              "#ed7953"
             ],
             [
              0.7777777777777778,
              "#fb9f3a"
             ],
             [
              0.8888888888888888,
              "#fdca26"
             ],
             [
              1,
              "#f0f921"
             ]
            ],
            "type": "histogram2d"
           }
          ],
          "histogram2dcontour": [
           {
            "colorbar": {
             "outlinewidth": 0,
             "ticks": ""
            },
            "colorscale": [
             [
              0,
              "#0d0887"
             ],
             [
              0.1111111111111111,
              "#46039f"
             ],
             [
              0.2222222222222222,
              "#7201a8"
             ],
             [
              0.3333333333333333,
              "#9c179e"
             ],
             [
              0.4444444444444444,
              "#bd3786"
             ],
             [
              0.5555555555555556,
              "#d8576b"
             ],
             [
              0.6666666666666666,
              "#ed7953"
             ],
             [
              0.7777777777777778,
              "#fb9f3a"
             ],
             [
              0.8888888888888888,
              "#fdca26"
             ],
             [
              1,
              "#f0f921"
             ]
            ],
            "type": "histogram2dcontour"
           }
          ],
          "mesh3d": [
           {
            "colorbar": {
             "outlinewidth": 0,
             "ticks": ""
            },
            "type": "mesh3d"
           }
          ],
          "parcoords": [
           {
            "line": {
             "colorbar": {
              "outlinewidth": 0,
              "ticks": ""
             }
            },
            "type": "parcoords"
           }
          ],
          "pie": [
           {
            "automargin": true,
            "type": "pie"
           }
          ],
          "scatter": [
           {
            "fillpattern": {
             "fillmode": "overlay",
             "size": 10,
             "solidity": 0.2
            },
            "type": "scatter"
           }
          ],
          "scatter3d": [
           {
            "line": {
             "colorbar": {
              "outlinewidth": 0,
              "ticks": ""
             }
            },
            "marker": {
             "colorbar": {
              "outlinewidth": 0,
              "ticks": ""
             }
            },
            "type": "scatter3d"
           }
          ],
          "scattercarpet": [
           {
            "marker": {
             "colorbar": {
              "outlinewidth": 0,
              "ticks": ""
             }
            },
            "type": "scattercarpet"
           }
          ],
          "scattergeo": [
           {
            "marker": {
             "colorbar": {
              "outlinewidth": 0,
              "ticks": ""
             }
            },
            "type": "scattergeo"
           }
          ],
          "scattergl": [
           {
            "marker": {
             "colorbar": {
              "outlinewidth": 0,
              "ticks": ""
             }
            },
            "type": "scattergl"
           }
          ],
          "scattermapbox": [
           {
            "marker": {
             "colorbar": {
              "outlinewidth": 0,
              "ticks": ""
             }
            },
            "type": "scattermapbox"
           }
          ],
          "scatterpolar": [
           {
            "marker": {
             "colorbar": {
              "outlinewidth": 0,
              "ticks": ""
             }
            },
            "type": "scatterpolar"
           }
          ],
          "scatterpolargl": [
           {
            "marker": {
             "colorbar": {
              "outlinewidth": 0,
              "ticks": ""
             }
            },
            "type": "scatterpolargl"
           }
          ],
          "scatterternary": [
           {
            "marker": {
             "colorbar": {
              "outlinewidth": 0,
              "ticks": ""
             }
            },
            "type": "scatterternary"
           }
          ],
          "surface": [
           {
            "colorbar": {
             "outlinewidth": 0,
             "ticks": ""
            },
            "colorscale": [
             [
              0,
              "#0d0887"
             ],
             [
              0.1111111111111111,
              "#46039f"
             ],
             [
              0.2222222222222222,
              "#7201a8"
             ],
             [
              0.3333333333333333,
              "#9c179e"
             ],
             [
              0.4444444444444444,
              "#bd3786"
             ],
             [
              0.5555555555555556,
              "#d8576b"
             ],
             [
              0.6666666666666666,
              "#ed7953"
             ],
             [
              0.7777777777777778,
              "#fb9f3a"
             ],
             [
              0.8888888888888888,
              "#fdca26"
             ],
             [
              1,
              "#f0f921"
             ]
            ],
            "type": "surface"
           }
          ],
          "table": [
           {
            "cells": {
             "fill": {
              "color": "#EBF0F8"
             },
             "line": {
              "color": "white"
             }
            },
            "header": {
             "fill": {
              "color": "#C8D4E3"
             },
             "line": {
              "color": "white"
             }
            },
            "type": "table"
           }
          ]
         },
         "layout": {
          "annotationdefaults": {
           "arrowcolor": "#2a3f5f",
           "arrowhead": 0,
           "arrowwidth": 1
          },
          "autotypenumbers": "strict",
          "coloraxis": {
           "colorbar": {
            "outlinewidth": 0,
            "ticks": ""
           }
          },
          "colorscale": {
           "diverging": [
            [
             0,
             "#8e0152"
            ],
            [
             0.1,
             "#c51b7d"
            ],
            [
             0.2,
             "#de77ae"
            ],
            [
             0.3,
             "#f1b6da"
            ],
            [
             0.4,
             "#fde0ef"
            ],
            [
             0.5,
             "#f7f7f7"
            ],
            [
             0.6,
             "#e6f5d0"
            ],
            [
             0.7,
             "#b8e186"
            ],
            [
             0.8,
             "#7fbc41"
            ],
            [
             0.9,
             "#4d9221"
            ],
            [
             1,
             "#276419"
            ]
           ],
           "sequential": [
            [
             0,
             "#0d0887"
            ],
            [
             0.1111111111111111,
             "#46039f"
            ],
            [
             0.2222222222222222,
             "#7201a8"
            ],
            [
             0.3333333333333333,
             "#9c179e"
            ],
            [
             0.4444444444444444,
             "#bd3786"
            ],
            [
             0.5555555555555556,
             "#d8576b"
            ],
            [
             0.6666666666666666,
             "#ed7953"
            ],
            [
             0.7777777777777778,
             "#fb9f3a"
            ],
            [
             0.8888888888888888,
             "#fdca26"
            ],
            [
             1,
             "#f0f921"
            ]
           ],
           "sequentialminus": [
            [
             0,
             "#0d0887"
            ],
            [
             0.1111111111111111,
             "#46039f"
            ],
            [
             0.2222222222222222,
             "#7201a8"
            ],
            [
             0.3333333333333333,
             "#9c179e"
            ],
            [
             0.4444444444444444,
             "#bd3786"
            ],
            [
             0.5555555555555556,
             "#d8576b"
            ],
            [
             0.6666666666666666,
             "#ed7953"
            ],
            [
             0.7777777777777778,
             "#fb9f3a"
            ],
            [
             0.8888888888888888,
             "#fdca26"
            ],
            [
             1,
             "#f0f921"
            ]
           ]
          },
          "colorway": [
           "#636efa",
           "#EF553B",
           "#00cc96",
           "#ab63fa",
           "#FFA15A",
           "#19d3f3",
           "#FF6692",
           "#B6E880",
           "#FF97FF",
           "#FECB52"
          ],
          "font": {
           "color": "#2a3f5f"
          },
          "geo": {
           "bgcolor": "white",
           "lakecolor": "white",
           "landcolor": "#E5ECF6",
           "showlakes": true,
           "showland": true,
           "subunitcolor": "white"
          },
          "hoverlabel": {
           "align": "left"
          },
          "hovermode": "closest",
          "mapbox": {
           "style": "light"
          },
          "paper_bgcolor": "white",
          "plot_bgcolor": "#E5ECF6",
          "polar": {
           "angularaxis": {
            "gridcolor": "white",
            "linecolor": "white",
            "ticks": ""
           },
           "bgcolor": "#E5ECF6",
           "radialaxis": {
            "gridcolor": "white",
            "linecolor": "white",
            "ticks": ""
           }
          },
          "scene": {
           "xaxis": {
            "backgroundcolor": "#E5ECF6",
            "gridcolor": "white",
            "gridwidth": 2,
            "linecolor": "white",
            "showbackground": true,
            "ticks": "",
            "zerolinecolor": "white"
           },
           "yaxis": {
            "backgroundcolor": "#E5ECF6",
            "gridcolor": "white",
            "gridwidth": 2,
            "linecolor": "white",
            "showbackground": true,
            "ticks": "",
            "zerolinecolor": "white"
           },
           "zaxis": {
            "backgroundcolor": "#E5ECF6",
            "gridcolor": "white",
            "gridwidth": 2,
            "linecolor": "white",
            "showbackground": true,
            "ticks": "",
            "zerolinecolor": "white"
           }
          },
          "shapedefaults": {
           "line": {
            "color": "#2a3f5f"
           }
          },
          "ternary": {
           "aaxis": {
            "gridcolor": "white",
            "linecolor": "white",
            "ticks": ""
           },
           "baxis": {
            "gridcolor": "white",
            "linecolor": "white",
            "ticks": ""
           },
           "bgcolor": "#E5ECF6",
           "caxis": {
            "gridcolor": "white",
            "linecolor": "white",
            "ticks": ""
           }
          },
          "title": {
           "x": 0.05
          },
          "xaxis": {
           "automargin": true,
           "gridcolor": "white",
           "linecolor": "white",
           "ticks": "",
           "title": {
            "standoff": 15
           },
           "zerolinecolor": "white",
           "zerolinewidth": 2
          },
          "yaxis": {
           "automargin": true,
           "gridcolor": "white",
           "linecolor": "white",
           "ticks": "",
           "title": {
            "standoff": 15
           },
           "zerolinecolor": "white",
           "zerolinewidth": 2
          }
         }
        },
        "xaxis": {
         "anchor": "y",
         "domain": [
          0,
          1
         ],
         "title": {
          "text": "title"
         }
        },
        "yaxis": {
         "anchor": "x",
         "domain": [
          0,
          1
         ],
         "title": {
          "text": "value"
         }
        }
       }
      }
     },
     "metadata": {},
     "output_type": "display_data"
    }
   ],
   "source": [
    "fig = px.bar(error_summary_df['title'].value_counts())\n",
    "fig.show()"
   ]
  },
  {
   "cell_type": "markdown",
   "id": "6de7586c-0463-4e1f-ba23-2c7b351609be",
   "metadata": {},
   "source": [
    "Clearly *Value not permitted* is the biggest obstacle, so drilling down into that might highlight some obvious fixes."
   ]
  },
  {
   "cell_type": "code",
   "execution_count": 26,
   "id": "6eb1de96-e99c-4a09-8373-ce1a961b6550",
   "metadata": {},
   "outputs": [],
   "source": [
    "vnp_df = error_summary_df.query('title == \"Value not permitted\"')"
   ]
  },
  {
   "cell_type": "markdown",
   "id": "12da765c-ada7-40a6-bcaf-4131901c1582",
   "metadata": {},
   "source": [
    "Because the error messages indicate the file and line, all of them are unique, so a little parsing is in order to get to somethign more informative"
   ]
  },
  {
   "cell_type": "code",
   "execution_count": 27,
   "id": "79705401-de2d-44ab-8acb-f0ce5e9d9b57",
   "metadata": {
    "scrolled": true
   },
   "outputs": [],
   "source": [
    "columns = ['Error', 'File', 'Line']\n",
    "error_df = pd.DataFrame(columns=columns)\n",
    "\n",
    "for index, row in vnp_df.iterrows():\n",
    "    rowlist = row['description'].split(']')\n",
    "    error = rowlist[-1]\n",
    "    fileline = rowlist[0]\n",
    "    filelist = fileline.split('[')\n",
    "    filelist2 = filelist[-1].split(':')\n",
    "    filename = filelist2[0]\n",
    "    line = (filelist2[-1].split(' '))[-1]\n",
    "    error_df.loc[len(error_df)] = [error, filename, line]\n"
   ]
  },
  {
   "cell_type": "code",
   "execution_count": 28,
   "id": "0be9a317-214f-42e4-a289-2f311de825f4",
   "metadata": {},
   "outputs": [
    {
     "data": {
      "text/markdown": [
       "| Error                                                                                      |   count |\n",
       "|:-------------------------------------------------------------------------------------------|--------:|\n",
       "| \"ILLUMINA\" is not a permissible value for property “platform”.                             |     152 |\n",
       "| \"Paired-end\" is not a permissible value for property “library_layout”.                     |     132 |\n",
       "| \"TRANSCRIPTOMIC\" is not a permissible value for property “library_source”.                 |      77 |\n",
       "| \"DNA\" is not a permissible value for property “sample_type”.                               |      76 |\n",
       "| \"RNA\" is not a permissible value for property “sample_type”.                               |      76 |\n",
       "| \"GENOMIC\" is not a permissible value for property “library_source”.                        |      75 |\n",
       "| \"Neoplasm\" is not a permissible value for property “disease_type”.                         |      40 |\n",
       "| \"Invasive mammary carcinoma\" is not a permissible value for property “primary_diagnosis”.  |      27 |\n",
       "| \"Single-end\" is not a permissible value for property “library_layout”.                     |      20 |\n",
       "| \"PolyA\" is not a permissible value for property “library_selection”.                       |       6 |\n",
       "| \"Invasive lobular carcinoma\" is not a permissible value for property “primary_diagnosis”.  |       4 |\n",
       "| \"Inflammatory carcinoma\" is not a permissible value for property “primary_diagnosis”.      |       1 |\n",
       "| \"Cystosarcoma phyllodes, NOS\" is not a permissible value for property “primary_diagnosis”. |       1 |"
      ],
      "text/plain": [
       "<IPython.core.display.Markdown object>"
      ]
     },
     "metadata": {},
     "output_type": "display_data"
    }
   ],
   "source": [
    "display(Markdown(error_df['Error'].value_counts().to_markdown()))"
   ]
  },
  {
   "cell_type": "markdown",
   "id": "fdf460c9-6664-4100-be78-d24f3a6a643f",
   "metadata": {},
   "source": [
    "It can also be useful to see if there are specific files that are problematic and need attention."
   ]
  },
  {
   "cell_type": "code",
   "execution_count": 29,
   "id": "1bc12e0e-8364-4487-956a-30dd94ef7b6a",
   "metadata": {},
   "outputs": [
    {
     "data": {
      "text/markdown": [
       "| File                  |   count |\n",
       "|:----------------------|--------:|\n",
       "| Demo_genomic_info.tsv |     462 |\n",
       "| Demo_sampleFIXED.tsv  |     152 |\n",
       "| Demo_diagnosis.tsv    |      73 |"
      ],
      "text/plain": [
       "<IPython.core.display.Markdown object>"
      ]
     },
     "metadata": {},
     "output_type": "display_data"
    }
   ],
   "source": [
    "display(Markdown(error_df['File'].value_counts().to_markdown()))"
   ]
  }
 ],
 "metadata": {
  "kernelspec": {
   "display_name": ".venv",
   "language": "python",
   "name": "python3"
  },
  "language_info": {
   "codemirror_mode": {
    "name": "ipython",
    "version": 3
   },
   "file_extension": ".py",
   "mimetype": "text/x-python",
   "name": "python",
   "nbconvert_exporter": "python",
   "pygments_lexer": "ipython3",
   "version": "3.12.1"
  }
 },
 "nbformat": 4,
 "nbformat_minor": 5
}
